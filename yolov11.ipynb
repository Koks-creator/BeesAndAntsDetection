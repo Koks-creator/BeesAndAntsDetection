{
  "nbformat": 4,
  "nbformat_minor": 0,
  "metadata": {
    "colab": {
      "provenance": [],
      "gpuType": "T4",
      "include_colab_link": true
    },
    "kernelspec": {
      "name": "python3",
      "display_name": "Python 3"
    },
    "language_info": {
      "name": "python"
    },
    "accelerator": "GPU"
  },
  "cells": [
    {
      "cell_type": "markdown",
      "metadata": {
        "id": "view-in-github",
        "colab_type": "text"
      },
      "source": [
        "<a href=\"https://colab.research.google.com/github/Koks-creator/BeesAndAntsDetection/blob/main/yolov11.ipynb\" target=\"_parent\"><img src=\"https://colab.research.google.com/assets/colab-badge.svg\" alt=\"Open In Colab\"/></a>"
      ]
    },
    {
      "cell_type": "code",
      "execution_count": 1,
      "metadata": {
        "colab": {
          "base_uri": "https://localhost:8080/"
        },
        "id": "7GmGOjdfc8K4",
        "outputId": "37d067f9-bff1-4919-fc58-f3d781ad4db4"
      },
      "outputs": [
        {
          "output_type": "stream",
          "name": "stdout",
          "text": [
            "Mounted at /content/gdrive\n"
          ]
        }
      ],
      "source": [
        "from google.colab import drive\n",
        "drive.mount('/content/gdrive')\n",
        "!ln -s /content/gdrive/My\\ Drive/ /mydrive"
      ]
    },
    {
      "cell_type": "code",
      "source": [
        "!unzip /mydrive/yoloTrain/train_data.zip -d /content"
      ],
      "metadata": {
        "colab": {
          "base_uri": "https://localhost:8080/"
        },
        "id": "Bg9LVFJOdXDW",
        "outputId": "1811e949-c8e1-475d-85ea-506a303f34de"
      },
      "execution_count": 2,
      "outputs": [
        {
          "output_type": "stream",
          "name": "stdout",
          "text": [
            "Archive:  /mydrive/yoloTrain/train_data.zip\n",
            "   creating: /content/train_data/\n",
            "   creating: /content/train_data/images/\n",
            "   creating: /content/train_data/images/train/\n",
            "  inflating: /content/train_data/images/train/ajmo0_0.jpg  \n",
            "  inflating: /content/train_data/images/train/ajmo0_10.jpeg  \n",
            "  inflating: /content/train_data/images/train/ajmo0_100.jpeg  \n",
            "  inflating: /content/train_data/images/train/ajmo0_101.jpeg  \n",
            "  inflating: /content/train_data/images/train/ajmo0_104.jpeg  \n",
            "  inflating: /content/train_data/images/train/ajmo0_105.jpeg  \n",
            "  inflating: /content/train_data/images/train/ajmo0_107.jpeg  \n",
            "  inflating: /content/train_data/images/train/ajmo0_109.jpeg  \n",
            "  inflating: /content/train_data/images/train/ajmo0_11.jpeg  \n",
            "  inflating: /content/train_data/images/train/ajmo0_113.jpeg  \n",
            "  inflating: /content/train_data/images/train/ajmo0_114.jpeg  \n",
            "  inflating: /content/train_data/images/train/ajmo0_116.jpeg  \n",
            "  inflating: /content/train_data/images/train/ajmo0_118.jpeg  \n",
            "  inflating: /content/train_data/images/train/ajmo0_12.jpeg  \n",
            "  inflating: /content/train_data/images/train/ajmo0_120.jpeg  \n",
            "  inflating: /content/train_data/images/train/ajmo0_122.jpeg  \n",
            "  inflating: /content/train_data/images/train/ajmo0_123.jpeg  \n",
            "  inflating: /content/train_data/images/train/ajmo0_124.jpeg  \n",
            "  inflating: /content/train_data/images/train/ajmo0_13.jpeg  \n",
            "  inflating: /content/train_data/images/train/ajmo0_130.jpeg  \n",
            "  inflating: /content/train_data/images/train/ajmo0_131.jpeg  \n",
            "  inflating: /content/train_data/images/train/ajmo0_133.jpeg  \n",
            "  inflating: /content/train_data/images/train/ajmo0_137.jpeg  \n",
            "  inflating: /content/train_data/images/train/ajmo0_139.jpeg  \n",
            "  inflating: /content/train_data/images/train/ajmo0_14.jpeg  \n",
            "  inflating: /content/train_data/images/train/ajmo0_146.jpeg  \n",
            "  inflating: /content/train_data/images/train/ajmo0_147.jpeg  \n",
            "  inflating: /content/train_data/images/train/ajmo0_15.jpeg  \n",
            "  inflating: /content/train_data/images/train/ajmo0_150.jpeg  \n",
            "  inflating: /content/train_data/images/train/ajmo0_152.jpeg  \n",
            "  inflating: /content/train_data/images/train/ajmo0_153.jpeg  \n",
            "  inflating: /content/train_data/images/train/ajmo0_154.jpeg  \n",
            "  inflating: /content/train_data/images/train/ajmo0_155.jpeg  \n",
            "  inflating: /content/train_data/images/train/ajmo0_156.jpeg  \n",
            "  inflating: /content/train_data/images/train/ajmo0_157.jpeg  \n",
            "  inflating: /content/train_data/images/train/ajmo0_158.jpeg  \n",
            "  inflating: /content/train_data/images/train/ajmo0_161.jpeg  \n",
            "  inflating: /content/train_data/images/train/ajmo0_162.jpeg  \n",
            "  inflating: /content/train_data/images/train/ajmo0_164.jpeg  \n",
            "  inflating: /content/train_data/images/train/ajmo0_165.jpeg  \n",
            "  inflating: /content/train_data/images/train/ajmo0_166.jpeg  \n",
            "  inflating: /content/train_data/images/train/ajmo0_168.jpeg  \n",
            "  inflating: /content/train_data/images/train/ajmo0_169.jpeg  \n",
            "  inflating: /content/train_data/images/train/ajmo0_17.jpeg  \n",
            "  inflating: /content/train_data/images/train/ajmo0_170.jpeg  \n",
            "  inflating: /content/train_data/images/train/ajmo0_173.jpeg  \n",
            "  inflating: /content/train_data/images/train/ajmo0_175.jpeg  \n",
            "  inflating: /content/train_data/images/train/ajmo0_176.jpeg  \n",
            "  inflating: /content/train_data/images/train/ajmo0_177.jpeg  \n",
            "  inflating: /content/train_data/images/train/ajmo0_178.jpeg  \n",
            "  inflating: /content/train_data/images/train/ajmo0_179.jpeg  \n",
            "  inflating: /content/train_data/images/train/ajmo0_18.jpeg  \n",
            "  inflating: /content/train_data/images/train/ajmo0_181.jpeg  \n",
            "  inflating: /content/train_data/images/train/ajmo0_186.jpeg  \n",
            "  inflating: /content/train_data/images/train/ajmo0_187.jpeg  \n",
            "  inflating: /content/train_data/images/train/ajmo0_188.jpeg  \n",
            "  inflating: /content/train_data/images/train/ajmo0_19.jpeg  \n",
            "  inflating: /content/train_data/images/train/ajmo0_193.jpeg  \n",
            "  inflating: /content/train_data/images/train/ajmo0_194.jpeg  \n",
            "  inflating: /content/train_data/images/train/ajmo0_195.jpeg  \n",
            "  inflating: /content/train_data/images/train/ajmo0_196.jpeg  \n",
            "  inflating: /content/train_data/images/train/ajmo0_197.jpeg  \n",
            "  inflating: /content/train_data/images/train/ajmo0_199.jpeg  \n",
            "  inflating: /content/train_data/images/train/ajmo0_200.jpeg  \n",
            "  inflating: /content/train_data/images/train/ajmo0_201.jpeg  \n",
            "  inflating: /content/train_data/images/train/ajmo0_202.jpeg  \n",
            "  inflating: /content/train_data/images/train/ajmo0_204.jpeg  \n",
            "  inflating: /content/train_data/images/train/ajmo0_205.jpeg  \n",
            "  inflating: /content/train_data/images/train/ajmo0_206.jpeg  \n",
            "  inflating: /content/train_data/images/train/ajmo0_208.jpeg  \n",
            "  inflating: /content/train_data/images/train/ajmo0_21.jpeg  \n",
            "  inflating: /content/train_data/images/train/ajmo0_210.jpeg  \n",
            "  inflating: /content/train_data/images/train/ajmo0_214.jpeg  \n",
            "  inflating: /content/train_data/images/train/ajmo0_215.jpeg  \n",
            "  inflating: /content/train_data/images/train/ajmo0_216.jpeg  \n",
            "  inflating: /content/train_data/images/train/ajmo0_22.jpeg  \n",
            "  inflating: /content/train_data/images/train/ajmo0_220.jpeg  \n",
            "  inflating: /content/train_data/images/train/ajmo0_221.jpeg  \n",
            "  inflating: /content/train_data/images/train/ajmo0_223.jpeg  \n",
            "  inflating: /content/train_data/images/train/ajmo0_224.jpeg  \n",
            "  inflating: /content/train_data/images/train/ajmo0_225.jpeg  \n",
            "  inflating: /content/train_data/images/train/ajmo0_228.jpeg  \n",
            "  inflating: /content/train_data/images/train/ajmo0_23.jpeg  \n",
            "  inflating: /content/train_data/images/train/ajmo0_235.jpeg  \n",
            "  inflating: /content/train_data/images/train/ajmo0_237.jpeg  \n",
            "  inflating: /content/train_data/images/train/ajmo0_239.jpeg  \n",
            "  inflating: /content/train_data/images/train/ajmo0_24.jpeg  \n",
            "  inflating: /content/train_data/images/train/ajmo0_240.jpeg  \n",
            "  inflating: /content/train_data/images/train/ajmo0_241.jpeg  \n",
            "  inflating: /content/train_data/images/train/ajmo0_243.jpeg  \n",
            "  inflating: /content/train_data/images/train/ajmo0_244.jpeg  \n",
            "  inflating: /content/train_data/images/train/ajmo0_248.jpeg  \n",
            "  inflating: /content/train_data/images/train/ajmo0_25.jpeg  \n",
            "  inflating: /content/train_data/images/train/ajmo0_251.jpeg  \n",
            "  inflating: /content/train_data/images/train/ajmo0_254.jpeg  \n",
            "  inflating: /content/train_data/images/train/ajmo0_255.jpeg  \n",
            "  inflating: /content/train_data/images/train/ajmo0_258.jpeg  \n",
            "  inflating: /content/train_data/images/train/ajmo0_259.jpeg  \n",
            "  inflating: /content/train_data/images/train/ajmo0_26.jpeg  \n",
            "  inflating: /content/train_data/images/train/ajmo0_260.jpeg  \n",
            "  inflating: /content/train_data/images/train/ajmo0_263.jpeg  \n",
            "  inflating: /content/train_data/images/train/ajmo0_265.jpeg  \n",
            "  inflating: /content/train_data/images/train/ajmo0_27.jpeg  \n",
            "  inflating: /content/train_data/images/train/ajmo0_271.jpeg  \n",
            "  inflating: /content/train_data/images/train/ajmo0_272.jpeg  \n",
            "  inflating: /content/train_data/images/train/ajmo0_273.jpeg  \n",
            "  inflating: /content/train_data/images/train/ajmo0_276.jpeg  \n",
            "  inflating: /content/train_data/images/train/ajmo0_277.jpeg  \n",
            "  inflating: /content/train_data/images/train/ajmo0_28.jpeg  \n",
            "  inflating: /content/train_data/images/train/ajmo0_280.jpeg  \n",
            "  inflating: /content/train_data/images/train/ajmo0_281.jpeg  \n",
            "  inflating: /content/train_data/images/train/ajmo0_282.jpeg  \n",
            "  inflating: /content/train_data/images/train/ajmo0_285.jpeg  \n",
            "  inflating: /content/train_data/images/train/ajmo0_287.jpeg  \n",
            "  inflating: /content/train_data/images/train/ajmo0_288.jpeg  \n",
            "  inflating: /content/train_data/images/train/ajmo0_290.jpeg  \n",
            "  inflating: /content/train_data/images/train/ajmo0_296.jpeg  \n",
            "  inflating: /content/train_data/images/train/ajmo0_297.jpeg  \n",
            "  inflating: /content/train_data/images/train/ajmo0_298.jpeg  \n",
            "  inflating: /content/train_data/images/train/ajmo0_3.jpg  \n",
            "  inflating: /content/train_data/images/train/ajmo0_30.jpeg  \n",
            "  inflating: /content/train_data/images/train/ajmo0_302.jpeg  \n",
            "  inflating: /content/train_data/images/train/ajmo0_305.jpeg  \n",
            "  inflating: /content/train_data/images/train/ajmo0_306.jpeg  \n",
            "  inflating: /content/train_data/images/train/ajmo0_307.jpeg  \n",
            "  inflating: /content/train_data/images/train/ajmo0_309.jpeg  \n",
            "  inflating: /content/train_data/images/train/ajmo0_31.jpeg  \n",
            "  inflating: /content/train_data/images/train/ajmo0_311.jpeg  \n",
            "  inflating: /content/train_data/images/train/ajmo0_315.jpeg  \n",
            "  inflating: /content/train_data/images/train/ajmo0_318.jpeg  \n",
            "  inflating: /content/train_data/images/train/ajmo0_319.jpeg  \n",
            "  inflating: /content/train_data/images/train/ajmo0_32.jpeg  \n",
            "  inflating: /content/train_data/images/train/ajmo0_320.jpeg  \n",
            "  inflating: /content/train_data/images/train/ajmo0_321.jpeg  \n",
            "  inflating: /content/train_data/images/train/ajmo0_323.jpeg  \n",
            "  inflating: /content/train_data/images/train/ajmo0_329.jpeg  \n",
            "  inflating: /content/train_data/images/train/ajmo0_33.jpeg  \n",
            "  inflating: /content/train_data/images/train/ajmo0_332.jpeg  \n",
            "  inflating: /content/train_data/images/train/ajmo0_334.jpeg  \n",
            "  inflating: /content/train_data/images/train/ajmo0_337.jpeg  \n",
            "  inflating: /content/train_data/images/train/ajmo0_338.jpeg  \n",
            "  inflating: /content/train_data/images/train/ajmo0_339.jpeg  \n",
            "  inflating: /content/train_data/images/train/ajmo0_34.jpeg  \n",
            "  inflating: /content/train_data/images/train/ajmo0_341.jpeg  \n",
            "  inflating: /content/train_data/images/train/ajmo0_343.jpeg  \n",
            "  inflating: /content/train_data/images/train/ajmo0_345.jpeg  \n",
            "  inflating: /content/train_data/images/train/ajmo0_348.jpeg  \n",
            "  inflating: /content/train_data/images/train/ajmo0_35.jpeg  \n",
            "  inflating: /content/train_data/images/train/ajmo0_351.jpeg  \n",
            "  inflating: /content/train_data/images/train/ajmo0_352.jpeg  \n",
            "  inflating: /content/train_data/images/train/ajmo0_353.jpeg  \n",
            "  inflating: /content/train_data/images/train/ajmo0_354.jpeg  \n",
            "  inflating: /content/train_data/images/train/ajmo0_357.jpeg  \n",
            "  inflating: /content/train_data/images/train/ajmo0_358.jpeg  \n",
            "  inflating: /content/train_data/images/train/ajmo0_359.jpeg  \n",
            "  inflating: /content/train_data/images/train/ajmo0_361.jpeg  \n",
            "  inflating: /content/train_data/images/train/ajmo0_362.jpeg  \n",
            "  inflating: /content/train_data/images/train/ajmo0_364.jpeg  \n",
            "  inflating: /content/train_data/images/train/ajmo0_367.png  \n",
            "  inflating: /content/train_data/images/train/ajmo0_368.jpeg  \n",
            "  inflating: /content/train_data/images/train/ajmo0_369.jpeg  \n",
            "  inflating: /content/train_data/images/train/ajmo0_37.jpeg  \n",
            "  inflating: /content/train_data/images/train/ajmo0_371.jpeg  \n",
            "  inflating: /content/train_data/images/train/ajmo0_377.jpeg  \n",
            "  inflating: /content/train_data/images/train/ajmo0_378.jpeg  \n",
            "  inflating: /content/train_data/images/train/ajmo0_379.jpeg  \n",
            "  inflating: /content/train_data/images/train/ajmo0_380.jpeg  \n",
            "  inflating: /content/train_data/images/train/ajmo0_381.jpeg  \n",
            "  inflating: /content/train_data/images/train/ajmo0_385.jpeg  \n",
            "  inflating: /content/train_data/images/train/ajmo0_386.jpeg  \n",
            "  inflating: /content/train_data/images/train/ajmo0_387.jpeg  \n",
            "  inflating: /content/train_data/images/train/ajmo0_389.jpeg  \n",
            "  inflating: /content/train_data/images/train/ajmo0_390.jpeg  \n",
            "  inflating: /content/train_data/images/train/ajmo0_391.jpeg  \n",
            "  inflating: /content/train_data/images/train/ajmo0_392.jpeg  \n",
            "  inflating: /content/train_data/images/train/ajmo0_393.jpeg  \n",
            "  inflating: /content/train_data/images/train/ajmo0_394.jpeg  \n",
            "  inflating: /content/train_data/images/train/ajmo0_395.jpeg  \n",
            "  inflating: /content/train_data/images/train/ajmo0_396.jpeg  \n",
            "  inflating: /content/train_data/images/train/ajmo0_397.jpeg  \n",
            "  inflating: /content/train_data/images/train/ajmo0_398.jpeg  \n",
            "  inflating: /content/train_data/images/train/ajmo0_4.png  \n",
            "  inflating: /content/train_data/images/train/ajmo0_400.jpg  \n",
            "  inflating: /content/train_data/images/train/ajmo0_403.png  \n",
            "  inflating: /content/train_data/images/train/ajmo0_404.jpg  \n",
            "  inflating: /content/train_data/images/train/ajmo0_406.jpg  \n",
            "  inflating: /content/train_data/images/train/ajmo0_45.jpeg  \n",
            "  inflating: /content/train_data/images/train/ajmo0_46.jpeg  \n",
            "  inflating: /content/train_data/images/train/ajmo0_49.jpeg  \n",
            "  inflating: /content/train_data/images/train/ajmo0_50.jpeg  \n",
            "  inflating: /content/train_data/images/train/ajmo0_51.jpeg  \n",
            "  inflating: /content/train_data/images/train/ajmo0_52.jpeg  \n",
            "  inflating: /content/train_data/images/train/ajmo0_53.jpeg  \n",
            "  inflating: /content/train_data/images/train/ajmo0_54.jpeg  \n",
            "  inflating: /content/train_data/images/train/ajmo0_56.jpeg  \n",
            "  inflating: /content/train_data/images/train/ajmo0_58.jpeg  \n",
            "  inflating: /content/train_data/images/train/ajmo0_6.jpg  \n",
            "  inflating: /content/train_data/images/train/ajmo0_60.jpeg  \n",
            "  inflating: /content/train_data/images/train/ajmo0_61.jpeg  \n",
            "  inflating: /content/train_data/images/train/ajmo0_64.jpeg  \n",
            "  inflating: /content/train_data/images/train/ajmo0_66.jpeg  \n",
            "  inflating: /content/train_data/images/train/ajmo0_67.jpeg  \n",
            "  inflating: /content/train_data/images/train/ajmo0_68.jpeg  \n",
            "  inflating: /content/train_data/images/train/ajmo0_7.jpeg  \n",
            "  inflating: /content/train_data/images/train/ajmo0_70.jpeg  \n",
            "  inflating: /content/train_data/images/train/ajmo0_72.jpeg  \n",
            "  inflating: /content/train_data/images/train/ajmo0_73.jpeg  \n",
            "  inflating: /content/train_data/images/train/ajmo0_77.jpeg  \n",
            "  inflating: /content/train_data/images/train/ajmo0_78.jpeg  \n",
            "  inflating: /content/train_data/images/train/ajmo0_79.jpeg  \n",
            "  inflating: /content/train_data/images/train/ajmo0_8.jpeg  \n",
            "  inflating: /content/train_data/images/train/ajmo0_82.jpeg  \n",
            "  inflating: /content/train_data/images/train/ajmo0_85.jpeg  \n",
            "  inflating: /content/train_data/images/train/ajmo0_86.jpeg  \n",
            "  inflating: /content/train_data/images/train/ajmo0_87.jpeg  \n",
            "  inflating: /content/train_data/images/train/ajmo0_88.jpeg  \n",
            "  inflating: /content/train_data/images/train/ajmo0_89.jpeg  \n",
            "  inflating: /content/train_data/images/train/ajmo0_9.jpeg  \n",
            "  inflating: /content/train_data/images/train/ajmo0_90.jpeg  \n",
            "  inflating: /content/train_data/images/train/ajmo0_91.jpeg  \n",
            "  inflating: /content/train_data/images/train/ajmo0_92.jpeg  \n",
            "  inflating: /content/train_data/images/train/ajmo0_94.jpeg  \n",
            "  inflating: /content/train_data/images/train/jazdabombaatakmocne_0_0.jpg  \n",
            "  inflating: /content/train_data/images/train/jazdabombaatakmocne_0_1.jpg  \n",
            "  inflating: /content/train_data/images/train/jazdabombaatakmocne_0_10.jpg  \n",
            "  inflating: /content/train_data/images/train/jazdabombaatakmocne_0_101.jpeg  \n",
            "  inflating: /content/train_data/images/train/jazdabombaatakmocne_0_105.jpeg  \n",
            "  inflating: /content/train_data/images/train/jazdabombaatakmocne_0_13.jpg  \n",
            "  inflating: /content/train_data/images/train/jazdabombaatakmocne_0_131.jpeg  \n",
            "  inflating: /content/train_data/images/train/jazdabombaatakmocne_0_135.jpeg  \n",
            "  inflating: /content/train_data/images/train/jazdabombaatakmocne_0_136.jpeg  \n",
            "  inflating: /content/train_data/images/train/jazdabombaatakmocne_0_144.jpeg  \n",
            "  inflating: /content/train_data/images/train/jazdabombaatakmocne_0_146.jpeg  \n",
            "  inflating: /content/train_data/images/train/jazdabombaatakmocne_0_150.jpeg  \n",
            "  inflating: /content/train_data/images/train/jazdabombaatakmocne_0_155.jpeg  \n",
            "  inflating: /content/train_data/images/train/jazdabombaatakmocne_0_156.jpeg  \n",
            "  inflating: /content/train_data/images/train/jazdabombaatakmocne_0_160.jpg  \n",
            "  inflating: /content/train_data/images/train/jazdabombaatakmocne_0_165.jpg  \n",
            "  inflating: /content/train_data/images/train/jazdabombaatakmocne_0_182.jpg  \n",
            "  inflating: /content/train_data/images/train/jazdabombaatakmocne_0_2.jpg  \n",
            "  inflating: /content/train_data/images/train/jazdabombaatakmocne_0_25.jpg  \n",
            "  inflating: /content/train_data/images/train/jazdabombaatakmocne_0_3.jpg  \n",
            "  inflating: /content/train_data/images/train/jazdabombaatakmocne_0_31.jpg  \n",
            "  inflating: /content/train_data/images/train/jazdabombaatakmocne_0_38.jpg  \n",
            "  inflating: /content/train_data/images/train/jazdabombaatakmocne_0_4.jpg  \n",
            "  inflating: /content/train_data/images/train/jazdabombaatakmocne_0_47.jpeg  \n",
            "  inflating: /content/train_data/images/train/jazdabombaatakmocne_0_5.jpg  \n",
            "  inflating: /content/train_data/images/train/jazdabombaatakmocne_0_6.jpg  \n",
            "  inflating: /content/train_data/images/train/jazdabombaatakmocne_0_7.jpg  \n",
            "  inflating: /content/train_data/images/train/jazdabombaatakmocne_0_86.jpeg  \n",
            "  inflating: /content/train_data/images/train/jazdabombaatak_0_113.jpeg  \n",
            "  inflating: /content/train_data/images/train/jazdabombaatak_0_13.jpg  \n",
            "  inflating: /content/train_data/images/train/jazdabombaatak_0_16.jpg  \n",
            "  inflating: /content/train_data/images/train/jazdabombaatak_0_17.png  \n",
            "  inflating: /content/train_data/images/train/jazdabombaatak_0_20.jpg  \n",
            "  inflating: /content/train_data/images/train/jazdabombaatak_0_21.jpg  \n",
            "  inflating: /content/train_data/images/train/jazdabombaatak_0_27.jpg  \n",
            "  inflating: /content/train_data/images/train/jazdabombaatak_0_28.jpg  \n",
            "  inflating: /content/train_data/images/train/jazdabombaatak_0_29.jpg  \n",
            "  inflating: /content/train_data/images/train/jazdabombaatak_0_3.jpg  \n",
            "  inflating: /content/train_data/images/train/jazdabombaatak_0_35.png  \n",
            "  inflating: /content/train_data/images/train/jazdabombaatak_0_38.jpg  \n",
            "  inflating: /content/train_data/images/train/jazdabombaatak_0_4.jpg  \n",
            "  inflating: /content/train_data/images/train/jazdabombaatak_0_42.jpg  \n",
            "  inflating: /content/train_data/images/train/jazdabombaatak_0_43.jpg  \n",
            "  inflating: /content/train_data/images/train/jazdabombaatak_0_44.jpg  \n",
            "  inflating: /content/train_data/images/train/jazdabombaatak_0_48.jpg  \n",
            "  inflating: /content/train_data/images/train/jazdabombaatak_0_50.jpg  \n",
            "  inflating: /content/train_data/images/train/jazdabombaatak_0_52.jpg  \n",
            "  inflating: /content/train_data/images/train/jazdabombaatak_0_59.jpg  \n",
            "  inflating: /content/train_data/images/train/jazdabombaatak_0_7.jpg  \n",
            "  inflating: /content/train_data/images/train/jazdabombaatak_0_72.jpeg  \n",
            "  inflating: /content/train_data/images/train/jazdabombaatak_0_79.jpeg  \n",
            "  inflating: /content/train_data/images/train/jazdabombaatak_0_82.jpeg  \n",
            "  inflating: /content/train_data/images/train/jazdabombaatak_0_9.jpg  \n",
            "  inflating: /content/train_data/images/train/jazda_0_0.jpg  \n",
            "  inflating: /content/train_data/images/train/jazda_0_100.jpeg  \n",
            "  inflating: /content/train_data/images/train/jazda_0_101.jpeg  \n",
            "  inflating: /content/train_data/images/train/jazda_0_103.jpeg  \n",
            "  inflating: /content/train_data/images/train/jazda_0_104.jpeg  \n",
            "  inflating: /content/train_data/images/train/jazda_0_105.jpeg  \n",
            "  inflating: /content/train_data/images/train/jazda_0_106.jpeg  \n",
            "  inflating: /content/train_data/images/train/jazda_0_108.jpeg  \n",
            "  inflating: /content/train_data/images/train/jazda_0_109.jpeg  \n",
            "  inflating: /content/train_data/images/train/jazda_0_113.jpeg  \n",
            "  inflating: /content/train_data/images/train/jazda_0_114.jpeg  \n",
            "  inflating: /content/train_data/images/train/jazda_0_115.jpeg  \n",
            "  inflating: /content/train_data/images/train/jazda_0_118.jpeg  \n",
            "  inflating: /content/train_data/images/train/jazda_0_119.jpeg  \n",
            "  inflating: /content/train_data/images/train/jazda_0_12.jpg  \n",
            "  inflating: /content/train_data/images/train/jazda_0_121.jpeg  \n",
            "  inflating: /content/train_data/images/train/jazda_0_122.jpeg  \n",
            "  inflating: /content/train_data/images/train/jazda_0_125.jpeg  \n",
            "  inflating: /content/train_data/images/train/jazda_0_127.jpeg  \n",
            "  inflating: /content/train_data/images/train/jazda_0_128.jpeg  \n",
            "  inflating: /content/train_data/images/train/jazda_0_129.jpeg  \n",
            "  inflating: /content/train_data/images/train/jazda_0_13.jpg  \n",
            "  inflating: /content/train_data/images/train/jazda_0_137.jpeg  \n",
            "  inflating: /content/train_data/images/train/jazda_0_139.jpeg  \n",
            "  inflating: /content/train_data/images/train/jazda_0_14.jpg  \n",
            "  inflating: /content/train_data/images/train/jazda_0_140.jpeg  \n",
            "  inflating: /content/train_data/images/train/jazda_0_141.jpeg  \n",
            "  inflating: /content/train_data/images/train/jazda_0_146.jpeg  \n",
            "  inflating: /content/train_data/images/train/jazda_0_147.jpeg  \n",
            "  inflating: /content/train_data/images/train/jazda_0_148.jpeg  \n",
            "  inflating: /content/train_data/images/train/jazda_0_149.jpeg  \n",
            "  inflating: /content/train_data/images/train/jazda_0_15.jpg  \n",
            "  inflating: /content/train_data/images/train/jazda_0_150.jpeg  \n",
            "  inflating: /content/train_data/images/train/jazda_0_151.jpeg  \n",
            "  inflating: /content/train_data/images/train/jazda_0_152.jpeg  \n",
            "  inflating: /content/train_data/images/train/jazda_0_153.jpeg  \n",
            "  inflating: /content/train_data/images/train/jazda_0_154.jpeg  \n",
            "  inflating: /content/train_data/images/train/jazda_0_156.jpeg  \n",
            "  inflating: /content/train_data/images/train/jazda_0_157.jpeg  \n",
            "  inflating: /content/train_data/images/train/jazda_0_162.jpeg  \n",
            "  inflating: /content/train_data/images/train/jazda_0_166.jpeg  \n",
            "  inflating: /content/train_data/images/train/jazda_0_167.jpeg  \n",
            "  inflating: /content/train_data/images/train/jazda_0_169.jpeg  \n",
            "  inflating: /content/train_data/images/train/jazda_0_170.jpeg  \n",
            "  inflating: /content/train_data/images/train/jazda_0_173.jpeg  \n",
            "  inflating: /content/train_data/images/train/jazda_0_174.jpeg  \n",
            "  inflating: /content/train_data/images/train/jazda_0_176.jpeg  \n",
            "  inflating: /content/train_data/images/train/jazda_0_177.jpeg  \n",
            "  inflating: /content/train_data/images/train/jazda_0_179.jpeg  \n",
            "  inflating: /content/train_data/images/train/jazda_0_18.jpg  \n",
            "  inflating: /content/train_data/images/train/jazda_0_182.jpeg  \n",
            "  inflating: /content/train_data/images/train/jazda_0_183.jpeg  \n",
            "  inflating: /content/train_data/images/train/jazda_0_186.jpeg  \n",
            "  inflating: /content/train_data/images/train/jazda_0_189.jpeg  \n",
            "  inflating: /content/train_data/images/train/jazda_0_194.jpeg  \n",
            "  inflating: /content/train_data/images/train/jazda_0_197.jpeg  \n",
            "  inflating: /content/train_data/images/train/jazda_0_198.jpeg  \n",
            "  inflating: /content/train_data/images/train/jazda_0_200.jpeg  \n",
            "  inflating: /content/train_data/images/train/jazda_0_202.jpeg  \n",
            "  inflating: /content/train_data/images/train/jazda_0_203.jpeg  \n",
            "  inflating: /content/train_data/images/train/jazda_0_204.jpeg  \n",
            "  inflating: /content/train_data/images/train/jazda_0_205.jpeg  \n",
            "  inflating: /content/train_data/images/train/jazda_0_206.jpeg  \n",
            "  inflating: /content/train_data/images/train/jazda_0_207.jpeg  \n",
            "  inflating: /content/train_data/images/train/jazda_0_208.jpeg  \n",
            "  inflating: /content/train_data/images/train/jazda_0_209.jpeg  \n",
            "  inflating: /content/train_data/images/train/jazda_0_21.jpg  \n",
            "  inflating: /content/train_data/images/train/jazda_0_210.jpeg  \n",
            "  inflating: /content/train_data/images/train/jazda_0_213.jpeg  \n",
            "  inflating: /content/train_data/images/train/jazda_0_214.jpeg  \n",
            "  inflating: /content/train_data/images/train/jazda_0_215.jpeg  \n",
            "  inflating: /content/train_data/images/train/jazda_0_217.jpeg  \n",
            "  inflating: /content/train_data/images/train/jazda_0_219.jpeg  \n",
            "  inflating: /content/train_data/images/train/jazda_0_221.jpeg  \n",
            "  inflating: /content/train_data/images/train/jazda_0_222.jpeg  \n",
            "  inflating: /content/train_data/images/train/jazda_0_223.jpeg  \n",
            "  inflating: /content/train_data/images/train/jazda_0_225.jpeg  \n",
            "  inflating: /content/train_data/images/train/jazda_0_226.jpeg  \n",
            "  inflating: /content/train_data/images/train/jazda_0_228.jpeg  \n",
            "  inflating: /content/train_data/images/train/jazda_0_229.jpeg  \n",
            "  inflating: /content/train_data/images/train/jazda_0_230.jpeg  \n",
            "  inflating: /content/train_data/images/train/jazda_0_233.jpeg  \n",
            "  inflating: /content/train_data/images/train/jazda_0_234.jpeg  \n",
            "  inflating: /content/train_data/images/train/jazda_0_238.jpeg  \n",
            "  inflating: /content/train_data/images/train/jazda_0_241.jpeg  \n",
            "  inflating: /content/train_data/images/train/jazda_0_242.jpeg  \n",
            "  inflating: /content/train_data/images/train/jazda_0_243.jpeg  \n",
            "  inflating: /content/train_data/images/train/jazda_0_244.jpeg  \n",
            "  inflating: /content/train_data/images/train/jazda_0_245.jpeg  \n",
            "  inflating: /content/train_data/images/train/jazda_0_251.jpeg  \n",
            "  inflating: /content/train_data/images/train/jazda_0_252.jpeg  \n",
            "  inflating: /content/train_data/images/train/jazda_0_255.jpeg  \n",
            "  inflating: /content/train_data/images/train/jazda_0_258.jpeg  \n",
            "  inflating: /content/train_data/images/train/jazda_0_26.jpg  \n",
            "  inflating: /content/train_data/images/train/jazda_0_261.jpeg  \n",
            "  inflating: /content/train_data/images/train/jazda_0_262.jpeg  \n",
            "  inflating: /content/train_data/images/train/jazda_0_265.jpeg  \n",
            "  inflating: /content/train_data/images/train/jazda_0_266.jpeg  \n",
            "  inflating: /content/train_data/images/train/jazda_0_267.jpeg  \n",
            "  inflating: /content/train_data/images/train/jazda_0_275.jpeg  \n",
            "  inflating: /content/train_data/images/train/jazda_0_278.jpeg  \n",
            "  inflating: /content/train_data/images/train/jazda_0_28.jpg  \n",
            "  inflating: /content/train_data/images/train/jazda_0_281.jpeg  \n",
            "  inflating: /content/train_data/images/train/jazda_0_282.jpeg  \n",
            "  inflating: /content/train_data/images/train/jazda_0_284.jpeg  \n",
            "  inflating: /content/train_data/images/train/jazda_0_286.jpeg  \n",
            "  inflating: /content/train_data/images/train/jazda_0_288.jpeg  \n",
            "  inflating: /content/train_data/images/train/jazda_0_289.jpeg  \n",
            "  inflating: /content/train_data/images/train/jazda_0_293.jpeg  \n",
            "  inflating: /content/train_data/images/train/jazda_0_295.jpeg  \n",
            "  inflating: /content/train_data/images/train/jazda_0_296.jpeg  \n",
            "  inflating: /content/train_data/images/train/jazda_0_30.jpg  \n",
            "  inflating: /content/train_data/images/train/jazda_0_303.jpeg  \n",
            "  inflating: /content/train_data/images/train/jazda_0_304.jpeg  \n",
            "  inflating: /content/train_data/images/train/jazda_0_310.jpeg  \n",
            "  inflating: /content/train_data/images/train/jazda_0_312.jpeg  \n",
            "  inflating: /content/train_data/images/train/jazda_0_313.jpeg  \n",
            "  inflating: /content/train_data/images/train/jazda_0_316.jpeg  \n",
            "  inflating: /content/train_data/images/train/jazda_0_320.jpeg  \n",
            "  inflating: /content/train_data/images/train/jazda_0_322.jpeg  \n",
            "  inflating: /content/train_data/images/train/jazda_0_327.jpeg  \n",
            "  inflating: /content/train_data/images/train/jazda_0_33.jpg  \n",
            "  inflating: /content/train_data/images/train/jazda_0_333.jpeg  \n",
            "  inflating: /content/train_data/images/train/jazda_0_335.jpeg  \n",
            "  inflating: /content/train_data/images/train/jazda_0_336.jpeg  \n",
            "  inflating: /content/train_data/images/train/jazda_0_337.jpeg  \n",
            "  inflating: /content/train_data/images/train/jazda_0_339.jpeg  \n",
            "  inflating: /content/train_data/images/train/jazda_0_34.jpg  \n",
            "  inflating: /content/train_data/images/train/jazda_0_340.jpeg  \n",
            "  inflating: /content/train_data/images/train/jazda_0_342.jpeg  \n",
            "  inflating: /content/train_data/images/train/jazda_0_345.jpeg  \n",
            "  inflating: /content/train_data/images/train/jazda_0_347.jpg  \n",
            "  inflating: /content/train_data/images/train/jazda_0_348.jpg  \n",
            "  inflating: /content/train_data/images/train/jazda_0_349.jpg  \n",
            "  inflating: /content/train_data/images/train/jazda_0_350.jpg  \n",
            "  inflating: /content/train_data/images/train/jazda_0_352.jpg  \n",
            "  inflating: /content/train_data/images/train/jazda_0_354.jpg  \n",
            "  inflating: /content/train_data/images/train/jazda_0_355.jpg  \n",
            "  inflating: /content/train_data/images/train/jazda_0_358.jpg  \n",
            "  inflating: /content/train_data/images/train/jazda_0_359.jpg  \n",
            "  inflating: /content/train_data/images/train/jazda_0_360.jpg  \n",
            "  inflating: /content/train_data/images/train/jazda_0_362.jpg  \n",
            "  inflating: /content/train_data/images/train/jazda_0_364.jpg  \n",
            "  inflating: /content/train_data/images/train/jazda_0_39.jpg  \n",
            "  inflating: /content/train_data/images/train/jazda_0_4.jpg  \n",
            "  inflating: /content/train_data/images/train/jazda_0_41.png  \n",
            "  inflating: /content/train_data/images/train/jazda_0_43.jpg  \n",
            "  inflating: /content/train_data/images/train/jazda_0_45.jpg  \n",
            "  inflating: /content/train_data/images/train/jazda_0_49.jpg  \n",
            "  inflating: /content/train_data/images/train/jazda_0_5.jpg  \n",
            "  inflating: /content/train_data/images/train/jazda_0_50.jpg  \n",
            "  inflating: /content/train_data/images/train/jazda_0_53.jpeg  \n",
            "  inflating: /content/train_data/images/train/jazda_0_55.jpeg  \n",
            "  inflating: /content/train_data/images/train/jazda_0_56.jpeg  \n",
            "  inflating: /content/train_data/images/train/jazda_0_59.jpeg  \n",
            "  inflating: /content/train_data/images/train/jazda_0_60.jpeg  \n",
            "  inflating: /content/train_data/images/train/jazda_0_66.jpeg  \n",
            "  inflating: /content/train_data/images/train/jazda_0_67.jpeg  \n",
            "  inflating: /content/train_data/images/train/jazda_0_7.jpg  \n",
            "  inflating: /content/train_data/images/train/jazda_0_70.jpeg  \n",
            "  inflating: /content/train_data/images/train/jazda_0_73.jpeg  \n",
            "  inflating: /content/train_data/images/train/jazda_0_74.jpeg  \n",
            "  inflating: /content/train_data/images/train/jazda_0_75.jpeg  \n",
            "  inflating: /content/train_data/images/train/jazda_0_77.jpeg  \n",
            "  inflating: /content/train_data/images/train/jazda_0_78.jpeg  \n",
            "  inflating: /content/train_data/images/train/jazda_0_8.jpg  \n",
            "  inflating: /content/train_data/images/train/jazda_0_83.jpeg  \n",
            "  inflating: /content/train_data/images/train/jazda_0_84.jpeg  \n",
            "  inflating: /content/train_data/images/train/jazda_0_85.jpeg  \n",
            "  inflating: /content/train_data/images/train/jazda_0_86.jpeg  \n",
            "  inflating: /content/train_data/images/train/jazda_0_87.jpeg  \n",
            "  inflating: /content/train_data/images/train/jazda_0_89.jpeg  \n",
            "  inflating: /content/train_data/images/train/jazda_0_9.jpg  \n",
            "  inflating: /content/train_data/images/train/jazda_0_91.jpeg  \n",
            "  inflating: /content/train_data/images/train/jazda_0_93.jpeg  \n",
            "  inflating: /content/train_data/images/train/jazda_0_98.jpeg  \n",
            "  inflating: /content/train_data/images/train/jazda_0_99.jpeg  \n",
            "  inflating: /content/train_data/images/train/jazda_1_1.png  \n",
            "  inflating: /content/train_data/images/train/jazda_1_10.jpg  \n",
            "  inflating: /content/train_data/images/train/jazda_1_100.jpeg  \n",
            "  inflating: /content/train_data/images/train/jazda_1_101.jpeg  \n",
            "  inflating: /content/train_data/images/train/jazda_1_102.jpeg  \n",
            "  inflating: /content/train_data/images/train/jazda_1_104.jpeg  \n",
            "  inflating: /content/train_data/images/train/jazda_1_105.jpeg  \n",
            "  inflating: /content/train_data/images/train/jazda_1_106.jpeg  \n",
            "  inflating: /content/train_data/images/train/jazda_1_107.jpeg  \n",
            "  inflating: /content/train_data/images/train/jazda_1_108.jpeg  \n",
            "  inflating: /content/train_data/images/train/jazda_1_11.jpg  \n",
            "  inflating: /content/train_data/images/train/jazda_1_110.jpeg  \n",
            "  inflating: /content/train_data/images/train/jazda_1_111.jpeg  \n",
            "  inflating: /content/train_data/images/train/jazda_1_112.jpeg  \n",
            "  inflating: /content/train_data/images/train/jazda_1_113.jpeg  \n",
            "  inflating: /content/train_data/images/train/jazda_1_114.jpeg  \n",
            "  inflating: /content/train_data/images/train/jazda_1_115.jpeg  \n",
            "  inflating: /content/train_data/images/train/jazda_1_116.jpeg  \n",
            "  inflating: /content/train_data/images/train/jazda_1_117.jpeg  \n",
            "  inflating: /content/train_data/images/train/jazda_1_12.jpg  \n",
            "  inflating: /content/train_data/images/train/jazda_1_120.jpeg  \n",
            "  inflating: /content/train_data/images/train/jazda_1_122.jpeg  \n",
            "  inflating: /content/train_data/images/train/jazda_1_124.jpeg  \n",
            "  inflating: /content/train_data/images/train/jazda_1_125.jpeg  \n",
            "  inflating: /content/train_data/images/train/jazda_1_126.jpeg  \n",
            "  inflating: /content/train_data/images/train/jazda_1_127.jpeg  \n",
            "  inflating: /content/train_data/images/train/jazda_1_128.jpeg  \n",
            "  inflating: /content/train_data/images/train/jazda_1_13.jpeg  \n",
            "  inflating: /content/train_data/images/train/jazda_1_130.jpeg  \n",
            "  inflating: /content/train_data/images/train/jazda_1_132.jpeg  \n",
            "  inflating: /content/train_data/images/train/jazda_1_134.jpeg  \n",
            "  inflating: /content/train_data/images/train/jazda_1_135.jpeg  \n",
            "  inflating: /content/train_data/images/train/jazda_1_139.jpeg  \n",
            "  inflating: /content/train_data/images/train/jazda_1_14.jpg  \n",
            "  inflating: /content/train_data/images/train/jazda_1_140.jpeg  \n",
            "  inflating: /content/train_data/images/train/jazda_1_142.jpeg  \n",
            "  inflating: /content/train_data/images/train/jazda_1_143.jpeg  \n",
            "  inflating: /content/train_data/images/train/jazda_1_144.jpg  \n",
            "  inflating: /content/train_data/images/train/jazda_1_145.jpeg  \n",
            "  inflating: /content/train_data/images/train/jazda_1_146.png  \n",
            "  inflating: /content/train_data/images/train/jazda_1_148.jpg  \n",
            "  inflating: /content/train_data/images/train/jazda_1_149.jpeg  \n",
            "  inflating: /content/train_data/images/train/jazda_1_15.jpg  \n",
            "  inflating: /content/train_data/images/train/jazda_1_150.jpeg  \n",
            "  inflating: /content/train_data/images/train/jazda_1_152.jpg  \n",
            "  inflating: /content/train_data/images/train/jazda_1_153.jpg  \n",
            "  inflating: /content/train_data/images/train/jazda_1_154.jpg  \n",
            "  inflating: /content/train_data/images/train/jazda_1_155.jpg  \n",
            "  inflating: /content/train_data/images/train/jazda_1_157.jpg  \n",
            "  inflating: /content/train_data/images/train/jazda_1_158.jpg  \n",
            "  inflating: /content/train_data/images/train/jazda_1_159.png  \n",
            "  inflating: /content/train_data/images/train/jazda_1_16.jpeg  \n",
            "  inflating: /content/train_data/images/train/jazda_1_161.jpg  \n",
            "  inflating: /content/train_data/images/train/jazda_1_162.jpg  \n",
            "  inflating: /content/train_data/images/train/jazda_1_163.jpg  \n",
            "  inflating: /content/train_data/images/train/jazda_1_164.jpg  \n",
            "  inflating: /content/train_data/images/train/jazda_1_166.jpg  \n",
            "  inflating: /content/train_data/images/train/jazda_1_167.jpg  \n",
            "  inflating: /content/train_data/images/train/jazda_1_168.jpg  \n",
            "  inflating: /content/train_data/images/train/jazda_1_169.jpg  \n",
            "  inflating: /content/train_data/images/train/jazda_1_171.jpg  \n",
            "  inflating: /content/train_data/images/train/jazda_1_18.jpg  \n",
            "  inflating: /content/train_data/images/train/jazda_1_2.png  \n",
            "  inflating: /content/train_data/images/train/jazda_1_20.jpg  \n",
            "  inflating: /content/train_data/images/train/jazda_1_21.jpg  \n",
            "  inflating: /content/train_data/images/train/jazda_1_23.png  \n",
            "  inflating: /content/train_data/images/train/jazda_1_24.jpg  \n",
            "  inflating: /content/train_data/images/train/jazda_1_25.png  \n",
            "  inflating: /content/train_data/images/train/jazda_1_26.jpg  \n",
            "  inflating: /content/train_data/images/train/jazda_1_27.jpg  \n",
            "  inflating: /content/train_data/images/train/jazda_1_28.jpg  \n",
            "  inflating: /content/train_data/images/train/jazda_1_29.jpg  \n",
            "  inflating: /content/train_data/images/train/jazda_1_3.jpg  \n",
            "  inflating: /content/train_data/images/train/jazda_1_30.jpg  \n",
            "  inflating: /content/train_data/images/train/jazda_1_32.jpg  \n",
            "  inflating: /content/train_data/images/train/jazda_1_33.jpg  \n",
            "  inflating: /content/train_data/images/train/jazda_1_34.jpg  \n",
            "  inflating: /content/train_data/images/train/jazda_1_36.jpg  \n",
            "  inflating: /content/train_data/images/train/jazda_1_37.jpg  \n",
            "  inflating: /content/train_data/images/train/jazda_1_4.jpg  \n",
            "  inflating: /content/train_data/images/train/jazda_1_40.jpg  \n",
            "  inflating: /content/train_data/images/train/jazda_1_41.jpg  \n",
            "  inflating: /content/train_data/images/train/jazda_1_42.png  \n",
            "  inflating: /content/train_data/images/train/jazda_1_43.jpg  \n",
            "  inflating: /content/train_data/images/train/jazda_1_44.jpg  \n",
            "  inflating: /content/train_data/images/train/jazda_1_45.jpg  \n",
            "  inflating: /content/train_data/images/train/jazda_1_46.jpg  \n",
            "  inflating: /content/train_data/images/train/jazda_1_47.png  \n",
            "  inflating: /content/train_data/images/train/jazda_1_48.jpg  \n",
            "  inflating: /content/train_data/images/train/jazda_1_49.jpg  \n",
            "  inflating: /content/train_data/images/train/jazda_1_5.jpg  \n",
            "  inflating: /content/train_data/images/train/jazda_1_50.jpg  \n",
            "  inflating: /content/train_data/images/train/jazda_1_51.jpg  \n",
            "  inflating: /content/train_data/images/train/jazda_1_53.jpg  \n",
            "  inflating: /content/train_data/images/train/jazda_1_54.jpeg  \n",
            "  inflating: /content/train_data/images/train/jazda_1_55.jpeg  \n",
            "  inflating: /content/train_data/images/train/jazda_1_56.jpeg  \n",
            "  inflating: /content/train_data/images/train/jazda_1_57.jpeg  \n",
            "  inflating: /content/train_data/images/train/jazda_1_58.jpeg  \n",
            "  inflating: /content/train_data/images/train/jazda_1_6.jpg  \n",
            "  inflating: /content/train_data/images/train/jazda_1_60.jpeg  \n",
            "  inflating: /content/train_data/images/train/jazda_1_61.jpeg  \n",
            "  inflating: /content/train_data/images/train/jazda_1_63.jpeg  \n",
            "  inflating: /content/train_data/images/train/jazda_1_64.jpeg  \n",
            "  inflating: /content/train_data/images/train/jazda_1_65.jpeg  \n",
            "  inflating: /content/train_data/images/train/jazda_1_67.jpeg  \n",
            "  inflating: /content/train_data/images/train/jazda_1_68.jpeg  \n",
            "  inflating: /content/train_data/images/train/jazda_1_7.jpg  \n",
            "  inflating: /content/train_data/images/train/jazda_1_70.jpeg  \n",
            "  inflating: /content/train_data/images/train/jazda_1_72.jpeg  \n",
            "  inflating: /content/train_data/images/train/jazda_1_74.jpeg  \n",
            "  inflating: /content/train_data/images/train/jazda_1_76.jpeg  \n",
            "  inflating: /content/train_data/images/train/jazda_1_77.jpeg  \n",
            "  inflating: /content/train_data/images/train/jazda_1_79.jpeg  \n",
            "  inflating: /content/train_data/images/train/jazda_1_8.jpg  \n",
            "  inflating: /content/train_data/images/train/jazda_1_80.jpeg  \n",
            "  inflating: /content/train_data/images/train/jazda_1_82.jpeg  \n",
            "  inflating: /content/train_data/images/train/jazda_1_84.jpeg  \n",
            "  inflating: /content/train_data/images/train/jazda_1_85.jpeg  \n",
            "  inflating: /content/train_data/images/train/jazda_1_86.jpg  \n",
            "  inflating: /content/train_data/images/train/jazda_1_87.jpeg  \n",
            "  inflating: /content/train_data/images/train/jazda_1_88.jpeg  \n",
            "  inflating: /content/train_data/images/train/jazda_1_89.jpeg  \n",
            "  inflating: /content/train_data/images/train/jazda_1_9.jpg  \n",
            "  inflating: /content/train_data/images/train/jazda_1_91.jpeg  \n",
            "  inflating: /content/train_data/images/train/jazda_1_92.jpeg  \n",
            "  inflating: /content/train_data/images/train/jazda_1_93.jpeg  \n",
            "  inflating: /content/train_data/images/train/jazda_1_94.jpeg  \n",
            "  inflating: /content/train_data/images/train/jazda_1_97.jpeg  \n",
            "  inflating: /content/train_data/images/train/jazda_1_99.jpeg  \n",
            "  inflating: /content/train_data/images/train/jazda_2_0.jpg  \n",
            "  inflating: /content/train_data/images/train/jazda_2_1.jpg  \n",
            "  inflating: /content/train_data/images/train/jazda_2_10.jpg  \n",
            "  inflating: /content/train_data/images/train/jazda_2_12.jpg  \n",
            "  inflating: /content/train_data/images/train/jazda_2_13.jpg  \n",
            "  inflating: /content/train_data/images/train/jazda_2_15.jpg  \n",
            "  inflating: /content/train_data/images/train/jazda_2_16.jpg  \n",
            "  inflating: /content/train_data/images/train/jazda_2_17.jpg  \n",
            "  inflating: /content/train_data/images/train/jazda_2_18.jpg  \n",
            "  inflating: /content/train_data/images/train/jazda_2_19.jpg  \n",
            "  inflating: /content/train_data/images/train/jazda_2_2.jpg  \n",
            "  inflating: /content/train_data/images/train/jazda_2_20.jpg  \n",
            "  inflating: /content/train_data/images/train/jazda_2_21.jpg  \n",
            "  inflating: /content/train_data/images/train/jazda_2_24.jpg  \n",
            "  inflating: /content/train_data/images/train/jazda_2_27.jpg  \n",
            "  inflating: /content/train_data/images/train/jazda_2_28.jpg  \n",
            "  inflating: /content/train_data/images/train/jazda_2_3.jpg  \n",
            "  inflating: /content/train_data/images/train/jazda_2_31.jpg  \n",
            "  inflating: /content/train_data/images/train/jazda_2_32.jpg  \n",
            "  inflating: /content/train_data/images/train/jazda_2_35.png  \n",
            "  inflating: /content/train_data/images/train/jazda_2_37.jpg  \n",
            "  inflating: /content/train_data/images/train/jazda_2_38.jpg  \n",
            "  inflating: /content/train_data/images/train/jazda_2_39.jpg  \n",
            "  inflating: /content/train_data/images/train/jazda_2_4.jpg  \n",
            "  inflating: /content/train_data/images/train/jazda_2_40.jpg  \n",
            "  inflating: /content/train_data/images/train/jazda_2_41.jpg  \n",
            "  inflating: /content/train_data/images/train/jazda_2_42.jpg  \n",
            "  inflating: /content/train_data/images/train/jazda_2_43.jpg  \n",
            "  inflating: /content/train_data/images/train/jazda_2_44.jpg  \n",
            "  inflating: /content/train_data/images/train/jazda_2_45.png  \n",
            "  inflating: /content/train_data/images/train/jazda_2_48.jpg  \n",
            "  inflating: /content/train_data/images/train/jazda_2_5.jpg  \n",
            "  inflating: /content/train_data/images/train/jazda_2_50.jpg  \n",
            "  inflating: /content/train_data/images/train/jazda_2_51.jpg  \n",
            "  inflating: /content/train_data/images/train/jazda_2_55.jpeg  \n",
            "  inflating: /content/train_data/images/train/jazda_2_56.jpeg  \n",
            "  inflating: /content/train_data/images/train/jazda_2_58.jpeg  \n",
            "  inflating: /content/train_data/images/train/jazda_2_59.jpeg  \n",
            "  inflating: /content/train_data/images/train/jazda_2_6.jpg  \n",
            "  inflating: /content/train_data/images/train/jazda_2_62.jpeg  \n",
            "  inflating: /content/train_data/images/train/jazda_2_64.jpeg  \n",
            "  inflating: /content/train_data/images/train/jazda_2_68.jpeg  \n",
            "  inflating: /content/train_data/images/train/jazda_2_7.jpg  \n",
            "  inflating: /content/train_data/images/train/jazda_2_72.jpeg  \n",
            "  inflating: /content/train_data/images/train/jazda_2_75.jpeg  \n",
            "  inflating: /content/train_data/images/train/jazda_2_8.jpg  \n",
            "  inflating: /content/train_data/images/train/jazda_2_9.jpg  \n",
            "   creating: /content/train_data/images/val/\n",
            "  inflating: /content/train_data/images/val/jazdabombaatak_1_66.jpeg  \n",
            "  inflating: /content/train_data/images/val/jazdabombaatak_1_67.jpeg  \n",
            "  inflating: /content/train_data/images/val/jazdabombaatak_1_68.jpeg  \n",
            "  inflating: /content/train_data/images/val/jazdabombaatak_1_69.jpeg  \n",
            "  inflating: /content/train_data/images/val/jazdabombaatak_1_7.jpg  \n",
            "  inflating: /content/train_data/images/val/jazdabombaatak_1_70.jpeg  \n",
            "  inflating: /content/train_data/images/val/jazdabombaatak_1_71.jpeg  \n",
            "  inflating: /content/train_data/images/val/jazdabombaatak_1_72.jpeg  \n",
            "  inflating: /content/train_data/images/val/jazdabombaatak_1_73.jpeg  \n",
            "  inflating: /content/train_data/images/val/jazdabombaatak_1_76.jpeg  \n",
            "  inflating: /content/train_data/images/val/jazdabombaatak_1_77.jpeg  \n",
            "  inflating: /content/train_data/images/val/jazdabombaatak_1_78.jpeg  \n",
            "  inflating: /content/train_data/images/val/jazdabombaatak_1_79.jpeg  \n",
            "  inflating: /content/train_data/images/val/jazdabombaatak_1_8.jpg  \n",
            "  inflating: /content/train_data/images/val/jazdabombaatak_1_80.jpeg  \n",
            "  inflating: /content/train_data/images/val/jazdabombaatak_1_81.jpeg  \n",
            "  inflating: /content/train_data/images/val/jazda_3_17.jpeg  \n",
            "  inflating: /content/train_data/images/val/jazda_3_18.jpeg  \n",
            "  inflating: /content/train_data/images/val/jazda_3_19.jpeg  \n",
            "  inflating: /content/train_data/images/val/jazda_3_2.jpeg  \n",
            "  inflating: /content/train_data/images/val/jazda_3_20.jpeg  \n",
            "  inflating: /content/train_data/images/val/jazda_3_21.jpeg  \n",
            "  inflating: /content/train_data/images/val/jazda_3_22.jpeg  \n",
            "  inflating: /content/train_data/images/val/jazda_3_23.jpeg  \n",
            "  inflating: /content/train_data/images/val/jazda_3_24.jpeg  \n",
            "  inflating: /content/train_data/images/val/jazda_3_25.jpeg  \n",
            "  inflating: /content/train_data/images/val/jazda_3_26.jpeg  \n",
            "  inflating: /content/train_data/images/val/jazda_3_27.jpeg  \n",
            "  inflating: /content/train_data/images/val/jazda_3_28.jpeg  \n",
            "  inflating: /content/train_data/images/val/jazda_3_29.jpeg  \n",
            "  inflating: /content/train_data/images/val/jazda_3_3.jpg  \n",
            "  inflating: /content/train_data/images/val/jazda_3_30.jpeg  \n",
            "  inflating: /content/train_data/images/val/jazda_3_31.jpeg  \n",
            "  inflating: /content/train_data/images/val/jazda_3_32.jpeg  \n",
            "  inflating: /content/train_data/images/val/jazda_3_33.jpeg  \n",
            "  inflating: /content/train_data/images/val/jazda_3_36.jpeg  \n",
            "  inflating: /content/train_data/images/val/jazda_3_37.jpeg  \n",
            "  inflating: /content/train_data/images/val/jazda_3_38.jpeg  \n",
            "  inflating: /content/train_data/images/val/jazda_3_39.jpeg  \n",
            "  inflating: /content/train_data/images/val/jazda_3_4.jpeg  \n",
            "  inflating: /content/train_data/images/val/jazda_3_40.jpeg  \n",
            "  inflating: /content/train_data/images/val/jazda_3_41.jpeg  \n",
            "  inflating: /content/train_data/images/val/jazda_3_42.jpeg  \n",
            "  inflating: /content/train_data/images/val/jazda_3_43.jpeg  \n",
            "  inflating: /content/train_data/images/val/jazda_3_5.jpg  \n",
            "  inflating: /content/train_data/images/val/jazda_3_52.jpeg  \n",
            "  inflating: /content/train_data/images/val/jazda_3_55.jpeg  \n",
            "   creating: /content/train_data/labels/\n",
            "   creating: /content/train_data/labels/train/\n",
            "  inflating: /content/train_data/labels/train/ajmo0_0.txt  \n",
            "  inflating: /content/train_data/labels/train/ajmo0_10.txt  \n",
            "  inflating: /content/train_data/labels/train/ajmo0_100.txt  \n",
            "  inflating: /content/train_data/labels/train/ajmo0_101.txt  \n",
            "  inflating: /content/train_data/labels/train/ajmo0_104.txt  \n",
            "  inflating: /content/train_data/labels/train/ajmo0_105.txt  \n",
            "  inflating: /content/train_data/labels/train/ajmo0_107.txt  \n",
            "  inflating: /content/train_data/labels/train/ajmo0_109.txt  \n",
            "  inflating: /content/train_data/labels/train/ajmo0_11.txt  \n",
            "  inflating: /content/train_data/labels/train/ajmo0_113.txt  \n",
            "  inflating: /content/train_data/labels/train/ajmo0_114.txt  \n",
            "  inflating: /content/train_data/labels/train/ajmo0_116.txt  \n",
            "  inflating: /content/train_data/labels/train/ajmo0_118.txt  \n",
            "  inflating: /content/train_data/labels/train/ajmo0_12.txt  \n",
            "  inflating: /content/train_data/labels/train/ajmo0_120.txt  \n",
            "  inflating: /content/train_data/labels/train/ajmo0_122.txt  \n",
            "  inflating: /content/train_data/labels/train/ajmo0_123.txt  \n",
            "  inflating: /content/train_data/labels/train/ajmo0_124.txt  \n",
            "  inflating: /content/train_data/labels/train/ajmo0_13.txt  \n",
            "  inflating: /content/train_data/labels/train/ajmo0_130.txt  \n",
            "  inflating: /content/train_data/labels/train/ajmo0_131.txt  \n",
            "  inflating: /content/train_data/labels/train/ajmo0_133.txt  \n",
            "  inflating: /content/train_data/labels/train/ajmo0_137.txt  \n",
            "  inflating: /content/train_data/labels/train/ajmo0_139.txt  \n",
            "  inflating: /content/train_data/labels/train/ajmo0_14.txt  \n",
            "  inflating: /content/train_data/labels/train/ajmo0_146.txt  \n",
            "  inflating: /content/train_data/labels/train/ajmo0_147.txt  \n",
            "  inflating: /content/train_data/labels/train/ajmo0_15.txt  \n",
            "  inflating: /content/train_data/labels/train/ajmo0_150.txt  \n",
            "  inflating: /content/train_data/labels/train/ajmo0_152.txt  \n",
            "  inflating: /content/train_data/labels/train/ajmo0_153.txt  \n",
            "  inflating: /content/train_data/labels/train/ajmo0_154.txt  \n",
            "  inflating: /content/train_data/labels/train/ajmo0_155.txt  \n",
            "  inflating: /content/train_data/labels/train/ajmo0_156.txt  \n",
            "  inflating: /content/train_data/labels/train/ajmo0_157.txt  \n",
            "  inflating: /content/train_data/labels/train/ajmo0_158.txt  \n",
            "  inflating: /content/train_data/labels/train/ajmo0_161.txt  \n",
            "  inflating: /content/train_data/labels/train/ajmo0_162.txt  \n",
            "  inflating: /content/train_data/labels/train/ajmo0_164.txt  \n",
            "  inflating: /content/train_data/labels/train/ajmo0_165.txt  \n",
            "  inflating: /content/train_data/labels/train/ajmo0_166.txt  \n",
            "  inflating: /content/train_data/labels/train/ajmo0_168.txt  \n",
            "  inflating: /content/train_data/labels/train/ajmo0_169.txt  \n",
            "  inflating: /content/train_data/labels/train/ajmo0_17.txt  \n",
            "  inflating: /content/train_data/labels/train/ajmo0_170.txt  \n",
            "  inflating: /content/train_data/labels/train/ajmo0_173.txt  \n",
            "  inflating: /content/train_data/labels/train/ajmo0_175.txt  \n",
            "  inflating: /content/train_data/labels/train/ajmo0_176.txt  \n",
            "  inflating: /content/train_data/labels/train/ajmo0_177.txt  \n",
            "  inflating: /content/train_data/labels/train/ajmo0_178.txt  \n",
            "  inflating: /content/train_data/labels/train/ajmo0_179.txt  \n",
            "  inflating: /content/train_data/labels/train/ajmo0_18.txt  \n",
            "  inflating: /content/train_data/labels/train/ajmo0_181.txt  \n",
            "  inflating: /content/train_data/labels/train/ajmo0_186.txt  \n",
            "  inflating: /content/train_data/labels/train/ajmo0_187.txt  \n",
            "  inflating: /content/train_data/labels/train/ajmo0_188.txt  \n",
            "  inflating: /content/train_data/labels/train/ajmo0_19.txt  \n",
            "  inflating: /content/train_data/labels/train/ajmo0_193.txt  \n",
            "  inflating: /content/train_data/labels/train/ajmo0_194.txt  \n",
            "  inflating: /content/train_data/labels/train/ajmo0_195.txt  \n",
            "  inflating: /content/train_data/labels/train/ajmo0_196.txt  \n",
            "  inflating: /content/train_data/labels/train/ajmo0_197.txt  \n",
            "  inflating: /content/train_data/labels/train/ajmo0_199.txt  \n",
            "  inflating: /content/train_data/labels/train/ajmo0_200.txt  \n",
            "  inflating: /content/train_data/labels/train/ajmo0_201.txt  \n",
            "  inflating: /content/train_data/labels/train/ajmo0_202.txt  \n",
            "  inflating: /content/train_data/labels/train/ajmo0_204.txt  \n",
            "  inflating: /content/train_data/labels/train/ajmo0_205.txt  \n",
            "  inflating: /content/train_data/labels/train/ajmo0_206.txt  \n",
            "  inflating: /content/train_data/labels/train/ajmo0_208.txt  \n",
            "  inflating: /content/train_data/labels/train/ajmo0_21.txt  \n",
            "  inflating: /content/train_data/labels/train/ajmo0_210.txt  \n",
            "  inflating: /content/train_data/labels/train/ajmo0_214.txt  \n",
            "  inflating: /content/train_data/labels/train/ajmo0_215.txt  \n",
            "  inflating: /content/train_data/labels/train/ajmo0_216.txt  \n",
            "  inflating: /content/train_data/labels/train/ajmo0_22.txt  \n",
            "  inflating: /content/train_data/labels/train/ajmo0_220.txt  \n",
            "  inflating: /content/train_data/labels/train/ajmo0_221.txt  \n",
            "  inflating: /content/train_data/labels/train/ajmo0_223.txt  \n",
            "  inflating: /content/train_data/labels/train/ajmo0_224.txt  \n",
            "  inflating: /content/train_data/labels/train/ajmo0_225.txt  \n",
            "  inflating: /content/train_data/labels/train/ajmo0_228.txt  \n",
            "  inflating: /content/train_data/labels/train/ajmo0_23.txt  \n",
            "  inflating: /content/train_data/labels/train/ajmo0_235.txt  \n",
            "  inflating: /content/train_data/labels/train/ajmo0_237.txt  \n",
            "  inflating: /content/train_data/labels/train/ajmo0_239.txt  \n",
            "  inflating: /content/train_data/labels/train/ajmo0_24.txt  \n",
            "  inflating: /content/train_data/labels/train/ajmo0_240.txt  \n",
            "  inflating: /content/train_data/labels/train/ajmo0_241.txt  \n",
            "  inflating: /content/train_data/labels/train/ajmo0_243.txt  \n",
            "  inflating: /content/train_data/labels/train/ajmo0_244.txt  \n",
            "  inflating: /content/train_data/labels/train/ajmo0_248.txt  \n",
            "  inflating: /content/train_data/labels/train/ajmo0_25.txt  \n",
            "  inflating: /content/train_data/labels/train/ajmo0_251.txt  \n",
            "  inflating: /content/train_data/labels/train/ajmo0_254.txt  \n",
            "  inflating: /content/train_data/labels/train/ajmo0_255.txt  \n",
            "  inflating: /content/train_data/labels/train/ajmo0_258.txt  \n",
            "  inflating: /content/train_data/labels/train/ajmo0_259.txt  \n",
            "  inflating: /content/train_data/labels/train/ajmo0_26.txt  \n",
            "  inflating: /content/train_data/labels/train/ajmo0_260.txt  \n",
            "  inflating: /content/train_data/labels/train/ajmo0_263.txt  \n",
            "  inflating: /content/train_data/labels/train/ajmo0_265.txt  \n",
            "  inflating: /content/train_data/labels/train/ajmo0_27.txt  \n",
            "  inflating: /content/train_data/labels/train/ajmo0_271.txt  \n",
            "  inflating: /content/train_data/labels/train/ajmo0_272.txt  \n",
            "  inflating: /content/train_data/labels/train/ajmo0_273.txt  \n",
            "  inflating: /content/train_data/labels/train/ajmo0_276.txt  \n",
            "  inflating: /content/train_data/labels/train/ajmo0_277.txt  \n",
            "  inflating: /content/train_data/labels/train/ajmo0_28.txt  \n",
            "  inflating: /content/train_data/labels/train/ajmo0_280.txt  \n",
            "  inflating: /content/train_data/labels/train/ajmo0_281.txt  \n",
            "  inflating: /content/train_data/labels/train/ajmo0_282.txt  \n",
            "  inflating: /content/train_data/labels/train/ajmo0_285.txt  \n",
            "  inflating: /content/train_data/labels/train/ajmo0_287.txt  \n",
            "  inflating: /content/train_data/labels/train/ajmo0_288.txt  \n",
            "  inflating: /content/train_data/labels/train/ajmo0_290.txt  \n",
            "  inflating: /content/train_data/labels/train/ajmo0_296.txt  \n",
            "  inflating: /content/train_data/labels/train/ajmo0_297.txt  \n",
            "  inflating: /content/train_data/labels/train/ajmo0_298.txt  \n",
            "  inflating: /content/train_data/labels/train/ajmo0_3.txt  \n",
            "  inflating: /content/train_data/labels/train/ajmo0_30.txt  \n",
            "  inflating: /content/train_data/labels/train/ajmo0_302.txt  \n",
            "  inflating: /content/train_data/labels/train/ajmo0_305.txt  \n",
            "  inflating: /content/train_data/labels/train/ajmo0_306.txt  \n",
            "  inflating: /content/train_data/labels/train/ajmo0_307.txt  \n",
            "  inflating: /content/train_data/labels/train/ajmo0_309.txt  \n",
            "  inflating: /content/train_data/labels/train/ajmo0_31.txt  \n",
            "  inflating: /content/train_data/labels/train/ajmo0_311.txt  \n",
            "  inflating: /content/train_data/labels/train/ajmo0_315.txt  \n",
            "  inflating: /content/train_data/labels/train/ajmo0_318.txt  \n",
            "  inflating: /content/train_data/labels/train/ajmo0_319.txt  \n",
            "  inflating: /content/train_data/labels/train/ajmo0_32.txt  \n",
            "  inflating: /content/train_data/labels/train/ajmo0_320.txt  \n",
            "  inflating: /content/train_data/labels/train/ajmo0_321.txt  \n",
            "  inflating: /content/train_data/labels/train/ajmo0_323.txt  \n",
            "  inflating: /content/train_data/labels/train/ajmo0_329.txt  \n",
            "  inflating: /content/train_data/labels/train/ajmo0_33.txt  \n",
            "  inflating: /content/train_data/labels/train/ajmo0_332.txt  \n",
            "  inflating: /content/train_data/labels/train/ajmo0_334.txt  \n",
            "  inflating: /content/train_data/labels/train/ajmo0_337.txt  \n",
            "  inflating: /content/train_data/labels/train/ajmo0_338.txt  \n",
            "  inflating: /content/train_data/labels/train/ajmo0_339.txt  \n",
            "  inflating: /content/train_data/labels/train/ajmo0_34.txt  \n",
            "  inflating: /content/train_data/labels/train/ajmo0_341.txt  \n",
            "  inflating: /content/train_data/labels/train/ajmo0_343.txt  \n",
            "  inflating: /content/train_data/labels/train/ajmo0_345.txt  \n",
            "  inflating: /content/train_data/labels/train/ajmo0_348.txt  \n",
            "  inflating: /content/train_data/labels/train/ajmo0_35.txt  \n",
            "  inflating: /content/train_data/labels/train/ajmo0_351.txt  \n",
            "  inflating: /content/train_data/labels/train/ajmo0_352.txt  \n",
            "  inflating: /content/train_data/labels/train/ajmo0_353.txt  \n",
            "  inflating: /content/train_data/labels/train/ajmo0_354.txt  \n",
            "  inflating: /content/train_data/labels/train/ajmo0_357.txt  \n",
            "  inflating: /content/train_data/labels/train/ajmo0_358.txt  \n",
            "  inflating: /content/train_data/labels/train/ajmo0_359.txt  \n",
            "  inflating: /content/train_data/labels/train/ajmo0_361.txt  \n",
            "  inflating: /content/train_data/labels/train/ajmo0_362.txt  \n",
            "  inflating: /content/train_data/labels/train/ajmo0_364.txt  \n",
            "  inflating: /content/train_data/labels/train/ajmo0_367.txt  \n",
            "  inflating: /content/train_data/labels/train/ajmo0_368.txt  \n",
            "  inflating: /content/train_data/labels/train/ajmo0_369.txt  \n",
            "  inflating: /content/train_data/labels/train/ajmo0_37.txt  \n",
            "  inflating: /content/train_data/labels/train/ajmo0_371.txt  \n",
            "  inflating: /content/train_data/labels/train/ajmo0_377.txt  \n",
            "  inflating: /content/train_data/labels/train/ajmo0_378.txt  \n",
            "  inflating: /content/train_data/labels/train/ajmo0_379.txt  \n",
            "  inflating: /content/train_data/labels/train/ajmo0_380.txt  \n",
            "  inflating: /content/train_data/labels/train/ajmo0_381.txt  \n",
            "  inflating: /content/train_data/labels/train/ajmo0_385.txt  \n",
            "  inflating: /content/train_data/labels/train/ajmo0_386.txt  \n",
            "  inflating: /content/train_data/labels/train/ajmo0_387.txt  \n",
            "  inflating: /content/train_data/labels/train/ajmo0_389.txt  \n",
            "  inflating: /content/train_data/labels/train/ajmo0_390.txt  \n",
            "  inflating: /content/train_data/labels/train/ajmo0_391.txt  \n",
            "  inflating: /content/train_data/labels/train/ajmo0_392.txt  \n",
            "  inflating: /content/train_data/labels/train/ajmo0_393.txt  \n",
            "  inflating: /content/train_data/labels/train/ajmo0_394.txt  \n",
            "  inflating: /content/train_data/labels/train/ajmo0_395.txt  \n",
            "  inflating: /content/train_data/labels/train/ajmo0_396.txt  \n",
            "  inflating: /content/train_data/labels/train/ajmo0_397.txt  \n",
            "  inflating: /content/train_data/labels/train/ajmo0_398.txt  \n",
            "  inflating: /content/train_data/labels/train/ajmo0_4.txt  \n",
            "  inflating: /content/train_data/labels/train/ajmo0_400.txt  \n",
            "  inflating: /content/train_data/labels/train/ajmo0_403.txt  \n",
            "  inflating: /content/train_data/labels/train/ajmo0_404.txt  \n",
            "  inflating: /content/train_data/labels/train/ajmo0_406.txt  \n",
            "  inflating: /content/train_data/labels/train/ajmo0_45.txt  \n",
            "  inflating: /content/train_data/labels/train/ajmo0_46.txt  \n",
            "  inflating: /content/train_data/labels/train/ajmo0_49.txt  \n",
            "  inflating: /content/train_data/labels/train/ajmo0_50.txt  \n",
            "  inflating: /content/train_data/labels/train/ajmo0_51.txt  \n",
            "  inflating: /content/train_data/labels/train/ajmo0_52.txt  \n",
            "  inflating: /content/train_data/labels/train/ajmo0_53.txt  \n",
            "  inflating: /content/train_data/labels/train/ajmo0_54.txt  \n",
            "  inflating: /content/train_data/labels/train/ajmo0_56.txt  \n",
            "  inflating: /content/train_data/labels/train/ajmo0_58.txt  \n",
            "  inflating: /content/train_data/labels/train/ajmo0_6.txt  \n",
            "  inflating: /content/train_data/labels/train/ajmo0_60.txt  \n",
            "  inflating: /content/train_data/labels/train/ajmo0_61.txt  \n",
            "  inflating: /content/train_data/labels/train/ajmo0_64.txt  \n",
            "  inflating: /content/train_data/labels/train/ajmo0_66.txt  \n",
            "  inflating: /content/train_data/labels/train/ajmo0_67.txt  \n",
            "  inflating: /content/train_data/labels/train/ajmo0_68.txt  \n",
            "  inflating: /content/train_data/labels/train/ajmo0_7.txt  \n",
            "  inflating: /content/train_data/labels/train/ajmo0_70.txt  \n",
            "  inflating: /content/train_data/labels/train/ajmo0_72.txt  \n",
            "  inflating: /content/train_data/labels/train/ajmo0_73.txt  \n",
            "  inflating: /content/train_data/labels/train/ajmo0_77.txt  \n",
            "  inflating: /content/train_data/labels/train/ajmo0_78.txt  \n",
            "  inflating: /content/train_data/labels/train/ajmo0_79.txt  \n",
            "  inflating: /content/train_data/labels/train/ajmo0_8.txt  \n",
            "  inflating: /content/train_data/labels/train/ajmo0_82.txt  \n",
            "  inflating: /content/train_data/labels/train/ajmo0_85.txt  \n",
            "  inflating: /content/train_data/labels/train/ajmo0_86.txt  \n",
            "  inflating: /content/train_data/labels/train/ajmo0_87.txt  \n",
            "  inflating: /content/train_data/labels/train/ajmo0_88.txt  \n",
            "  inflating: /content/train_data/labels/train/ajmo0_89.txt  \n",
            "  inflating: /content/train_data/labels/train/ajmo0_9.txt  \n",
            "  inflating: /content/train_data/labels/train/ajmo0_90.txt  \n",
            "  inflating: /content/train_data/labels/train/ajmo0_91.txt  \n",
            "  inflating: /content/train_data/labels/train/ajmo0_92.txt  \n",
            "  inflating: /content/train_data/labels/train/ajmo0_94.txt  \n",
            "  inflating: /content/train_data/labels/train/jazdabombaatakmocne_0_0.txt  \n",
            "  inflating: /content/train_data/labels/train/jazdabombaatakmocne_0_1.txt  \n",
            "  inflating: /content/train_data/labels/train/jazdabombaatakmocne_0_10.txt  \n",
            "  inflating: /content/train_data/labels/train/jazdabombaatakmocne_0_101.txt  \n",
            "  inflating: /content/train_data/labels/train/jazdabombaatakmocne_0_105.txt  \n",
            "  inflating: /content/train_data/labels/train/jazdabombaatakmocne_0_13.txt  \n",
            "  inflating: /content/train_data/labels/train/jazdabombaatakmocne_0_131.txt  \n",
            "  inflating: /content/train_data/labels/train/jazdabombaatakmocne_0_135.txt  \n",
            "  inflating: /content/train_data/labels/train/jazdabombaatakmocne_0_136.txt  \n",
            "  inflating: /content/train_data/labels/train/jazdabombaatakmocne_0_144.txt  \n",
            "  inflating: /content/train_data/labels/train/jazdabombaatakmocne_0_146.txt  \n",
            "  inflating: /content/train_data/labels/train/jazdabombaatakmocne_0_150.txt  \n",
            "  inflating: /content/train_data/labels/train/jazdabombaatakmocne_0_155.txt  \n",
            "  inflating: /content/train_data/labels/train/jazdabombaatakmocne_0_156.txt  \n",
            "  inflating: /content/train_data/labels/train/jazdabombaatakmocne_0_160.txt  \n",
            "  inflating: /content/train_data/labels/train/jazdabombaatakmocne_0_165.txt  \n",
            "  inflating: /content/train_data/labels/train/jazdabombaatakmocne_0_182.txt  \n",
            "  inflating: /content/train_data/labels/train/jazdabombaatakmocne_0_2.txt  \n",
            "  inflating: /content/train_data/labels/train/jazdabombaatakmocne_0_25.txt  \n",
            "  inflating: /content/train_data/labels/train/jazdabombaatakmocne_0_3.txt  \n",
            "  inflating: /content/train_data/labels/train/jazdabombaatakmocne_0_31.txt  \n",
            "  inflating: /content/train_data/labels/train/jazdabombaatakmocne_0_38.txt  \n",
            "  inflating: /content/train_data/labels/train/jazdabombaatakmocne_0_4.txt  \n",
            "  inflating: /content/train_data/labels/train/jazdabombaatakmocne_0_47.txt  \n",
            "  inflating: /content/train_data/labels/train/jazdabombaatakmocne_0_5.txt  \n",
            "  inflating: /content/train_data/labels/train/jazdabombaatakmocne_0_6.txt  \n",
            "  inflating: /content/train_data/labels/train/jazdabombaatakmocne_0_7.txt  \n",
            "  inflating: /content/train_data/labels/train/jazdabombaatakmocne_0_86.txt  \n",
            "  inflating: /content/train_data/labels/train/jazdabombaatak_0_113.txt  \n",
            "  inflating: /content/train_data/labels/train/jazdabombaatak_0_13.txt  \n",
            "  inflating: /content/train_data/labels/train/jazdabombaatak_0_16.txt  \n",
            "  inflating: /content/train_data/labels/train/jazdabombaatak_0_17.txt  \n",
            "  inflating: /content/train_data/labels/train/jazdabombaatak_0_20.txt  \n",
            "  inflating: /content/train_data/labels/train/jazdabombaatak_0_21.txt  \n",
            "  inflating: /content/train_data/labels/train/jazdabombaatak_0_27.txt  \n",
            "  inflating: /content/train_data/labels/train/jazdabombaatak_0_28.txt  \n",
            "  inflating: /content/train_data/labels/train/jazdabombaatak_0_29.txt  \n",
            "  inflating: /content/train_data/labels/train/jazdabombaatak_0_3.txt  \n",
            "  inflating: /content/train_data/labels/train/jazdabombaatak_0_35.txt  \n",
            "  inflating: /content/train_data/labels/train/jazdabombaatak_0_38.txt  \n",
            "  inflating: /content/train_data/labels/train/jazdabombaatak_0_4.txt  \n",
            "  inflating: /content/train_data/labels/train/jazdabombaatak_0_42.txt  \n",
            "  inflating: /content/train_data/labels/train/jazdabombaatak_0_43.txt  \n",
            "  inflating: /content/train_data/labels/train/jazdabombaatak_0_44.txt  \n",
            "  inflating: /content/train_data/labels/train/jazdabombaatak_0_48.txt  \n",
            "  inflating: /content/train_data/labels/train/jazdabombaatak_0_50.txt  \n",
            "  inflating: /content/train_data/labels/train/jazdabombaatak_0_52.txt  \n",
            "  inflating: /content/train_data/labels/train/jazdabombaatak_0_59.txt  \n",
            "  inflating: /content/train_data/labels/train/jazdabombaatak_0_7.txt  \n",
            "  inflating: /content/train_data/labels/train/jazdabombaatak_0_72.txt  \n",
            "  inflating: /content/train_data/labels/train/jazdabombaatak_0_79.txt  \n",
            "  inflating: /content/train_data/labels/train/jazdabombaatak_0_82.txt  \n",
            "  inflating: /content/train_data/labels/train/jazdabombaatak_0_9.txt  \n",
            "  inflating: /content/train_data/labels/train/jazda_0_0.txt  \n",
            "  inflating: /content/train_data/labels/train/jazda_0_100.txt  \n",
            "  inflating: /content/train_data/labels/train/jazda_0_101.txt  \n",
            "  inflating: /content/train_data/labels/train/jazda_0_103.txt  \n",
            "  inflating: /content/train_data/labels/train/jazda_0_104.txt  \n",
            "  inflating: /content/train_data/labels/train/jazda_0_105.txt  \n",
            "  inflating: /content/train_data/labels/train/jazda_0_106.txt  \n",
            "  inflating: /content/train_data/labels/train/jazda_0_108.txt  \n",
            "  inflating: /content/train_data/labels/train/jazda_0_109.txt  \n",
            "  inflating: /content/train_data/labels/train/jazda_0_113.txt  \n",
            "  inflating: /content/train_data/labels/train/jazda_0_114.txt  \n",
            "  inflating: /content/train_data/labels/train/jazda_0_115.txt  \n",
            "  inflating: /content/train_data/labels/train/jazda_0_118.txt  \n",
            "  inflating: /content/train_data/labels/train/jazda_0_119.txt  \n",
            "  inflating: /content/train_data/labels/train/jazda_0_12.txt  \n",
            "  inflating: /content/train_data/labels/train/jazda_0_121.txt  \n",
            "  inflating: /content/train_data/labels/train/jazda_0_122.txt  \n",
            "  inflating: /content/train_data/labels/train/jazda_0_125.txt  \n",
            "  inflating: /content/train_data/labels/train/jazda_0_127.txt  \n",
            "  inflating: /content/train_data/labels/train/jazda_0_128.txt  \n",
            "  inflating: /content/train_data/labels/train/jazda_0_129.txt  \n",
            "  inflating: /content/train_data/labels/train/jazda_0_13.txt  \n",
            "  inflating: /content/train_data/labels/train/jazda_0_137.txt  \n",
            "  inflating: /content/train_data/labels/train/jazda_0_139.txt  \n",
            "  inflating: /content/train_data/labels/train/jazda_0_14.txt  \n",
            "  inflating: /content/train_data/labels/train/jazda_0_140.txt  \n",
            "  inflating: /content/train_data/labels/train/jazda_0_141.txt  \n",
            "  inflating: /content/train_data/labels/train/jazda_0_146.txt  \n",
            "  inflating: /content/train_data/labels/train/jazda_0_147.txt  \n",
            "  inflating: /content/train_data/labels/train/jazda_0_148.txt  \n",
            "  inflating: /content/train_data/labels/train/jazda_0_149.txt  \n",
            "  inflating: /content/train_data/labels/train/jazda_0_15.txt  \n",
            "  inflating: /content/train_data/labels/train/jazda_0_150.txt  \n",
            "  inflating: /content/train_data/labels/train/jazda_0_151.txt  \n",
            "  inflating: /content/train_data/labels/train/jazda_0_152.txt  \n",
            "  inflating: /content/train_data/labels/train/jazda_0_153.txt  \n",
            "  inflating: /content/train_data/labels/train/jazda_0_154.txt  \n",
            "  inflating: /content/train_data/labels/train/jazda_0_156.txt  \n",
            "  inflating: /content/train_data/labels/train/jazda_0_157.txt  \n",
            "  inflating: /content/train_data/labels/train/jazda_0_162.txt  \n",
            "  inflating: /content/train_data/labels/train/jazda_0_166.txt  \n",
            "  inflating: /content/train_data/labels/train/jazda_0_167.txt  \n",
            "  inflating: /content/train_data/labels/train/jazda_0_169.txt  \n",
            "  inflating: /content/train_data/labels/train/jazda_0_170.txt  \n",
            "  inflating: /content/train_data/labels/train/jazda_0_173.txt  \n",
            "  inflating: /content/train_data/labels/train/jazda_0_174.txt  \n",
            "  inflating: /content/train_data/labels/train/jazda_0_176.txt  \n",
            "  inflating: /content/train_data/labels/train/jazda_0_177.txt  \n",
            "  inflating: /content/train_data/labels/train/jazda_0_179.txt  \n",
            "  inflating: /content/train_data/labels/train/jazda_0_18.txt  \n",
            "  inflating: /content/train_data/labels/train/jazda_0_182.txt  \n",
            "  inflating: /content/train_data/labels/train/jazda_0_183.txt  \n",
            "  inflating: /content/train_data/labels/train/jazda_0_186.txt  \n",
            "  inflating: /content/train_data/labels/train/jazda_0_189.txt  \n",
            "  inflating: /content/train_data/labels/train/jazda_0_194.txt  \n",
            "  inflating: /content/train_data/labels/train/jazda_0_197.txt  \n",
            "  inflating: /content/train_data/labels/train/jazda_0_198.txt  \n",
            "  inflating: /content/train_data/labels/train/jazda_0_200.txt  \n",
            "  inflating: /content/train_data/labels/train/jazda_0_202.txt  \n",
            "  inflating: /content/train_data/labels/train/jazda_0_203.txt  \n",
            "  inflating: /content/train_data/labels/train/jazda_0_204.txt  \n",
            "  inflating: /content/train_data/labels/train/jazda_0_205.txt  \n",
            "  inflating: /content/train_data/labels/train/jazda_0_206.txt  \n",
            "  inflating: /content/train_data/labels/train/jazda_0_207.txt  \n",
            "  inflating: /content/train_data/labels/train/jazda_0_208.txt  \n",
            "  inflating: /content/train_data/labels/train/jazda_0_209.txt  \n",
            "  inflating: /content/train_data/labels/train/jazda_0_21.txt  \n",
            "  inflating: /content/train_data/labels/train/jazda_0_210.txt  \n",
            "  inflating: /content/train_data/labels/train/jazda_0_213.txt  \n",
            "  inflating: /content/train_data/labels/train/jazda_0_214.txt  \n",
            "  inflating: /content/train_data/labels/train/jazda_0_215.txt  \n",
            "  inflating: /content/train_data/labels/train/jazda_0_217.txt  \n",
            "  inflating: /content/train_data/labels/train/jazda_0_219.txt  \n",
            "  inflating: /content/train_data/labels/train/jazda_0_221.txt  \n",
            "  inflating: /content/train_data/labels/train/jazda_0_222.txt  \n",
            "  inflating: /content/train_data/labels/train/jazda_0_223.txt  \n",
            "  inflating: /content/train_data/labels/train/jazda_0_225.txt  \n",
            "  inflating: /content/train_data/labels/train/jazda_0_226.txt  \n",
            "  inflating: /content/train_data/labels/train/jazda_0_228.txt  \n",
            "  inflating: /content/train_data/labels/train/jazda_0_229.txt  \n",
            "  inflating: /content/train_data/labels/train/jazda_0_230.txt  \n",
            "  inflating: /content/train_data/labels/train/jazda_0_233.txt  \n",
            "  inflating: /content/train_data/labels/train/jazda_0_234.txt  \n",
            "  inflating: /content/train_data/labels/train/jazda_0_238.txt  \n",
            "  inflating: /content/train_data/labels/train/jazda_0_241.txt  \n",
            "  inflating: /content/train_data/labels/train/jazda_0_242.txt  \n",
            "  inflating: /content/train_data/labels/train/jazda_0_243.txt  \n",
            "  inflating: /content/train_data/labels/train/jazda_0_244.txt  \n",
            "  inflating: /content/train_data/labels/train/jazda_0_245.txt  \n",
            "  inflating: /content/train_data/labels/train/jazda_0_251.txt  \n",
            "  inflating: /content/train_data/labels/train/jazda_0_252.txt  \n",
            "  inflating: /content/train_data/labels/train/jazda_0_255.txt  \n",
            "  inflating: /content/train_data/labels/train/jazda_0_258.txt  \n",
            "  inflating: /content/train_data/labels/train/jazda_0_26.txt  \n",
            "  inflating: /content/train_data/labels/train/jazda_0_261.txt  \n",
            "  inflating: /content/train_data/labels/train/jazda_0_262.txt  \n",
            "  inflating: /content/train_data/labels/train/jazda_0_265.txt  \n",
            "  inflating: /content/train_data/labels/train/jazda_0_266.txt  \n",
            "  inflating: /content/train_data/labels/train/jazda_0_267.txt  \n",
            "  inflating: /content/train_data/labels/train/jazda_0_275.txt  \n",
            "  inflating: /content/train_data/labels/train/jazda_0_278.txt  \n",
            "  inflating: /content/train_data/labels/train/jazda_0_28.txt  \n",
            "  inflating: /content/train_data/labels/train/jazda_0_281.txt  \n",
            "  inflating: /content/train_data/labels/train/jazda_0_282.txt  \n",
            "  inflating: /content/train_data/labels/train/jazda_0_284.txt  \n",
            "  inflating: /content/train_data/labels/train/jazda_0_286.txt  \n",
            "  inflating: /content/train_data/labels/train/jazda_0_288.txt  \n",
            "  inflating: /content/train_data/labels/train/jazda_0_289.txt  \n",
            "  inflating: /content/train_data/labels/train/jazda_0_293.txt  \n",
            "  inflating: /content/train_data/labels/train/jazda_0_295.txt  \n",
            "  inflating: /content/train_data/labels/train/jazda_0_296.txt  \n",
            "  inflating: /content/train_data/labels/train/jazda_0_30.txt  \n",
            "  inflating: /content/train_data/labels/train/jazda_0_303.txt  \n",
            "  inflating: /content/train_data/labels/train/jazda_0_304.txt  \n",
            "  inflating: /content/train_data/labels/train/jazda_0_310.txt  \n",
            "  inflating: /content/train_data/labels/train/jazda_0_312.txt  \n",
            "  inflating: /content/train_data/labels/train/jazda_0_313.txt  \n",
            "  inflating: /content/train_data/labels/train/jazda_0_316.txt  \n",
            "  inflating: /content/train_data/labels/train/jazda_0_320.txt  \n",
            "  inflating: /content/train_data/labels/train/jazda_0_322.txt  \n",
            "  inflating: /content/train_data/labels/train/jazda_0_327.txt  \n",
            "  inflating: /content/train_data/labels/train/jazda_0_33.txt  \n",
            "  inflating: /content/train_data/labels/train/jazda_0_333.txt  \n",
            "  inflating: /content/train_data/labels/train/jazda_0_335.txt  \n",
            "  inflating: /content/train_data/labels/train/jazda_0_336.txt  \n",
            "  inflating: /content/train_data/labels/train/jazda_0_337.txt  \n",
            "  inflating: /content/train_data/labels/train/jazda_0_339.txt  \n",
            "  inflating: /content/train_data/labels/train/jazda_0_34.txt  \n",
            "  inflating: /content/train_data/labels/train/jazda_0_340.txt  \n",
            "  inflating: /content/train_data/labels/train/jazda_0_342.txt  \n",
            "  inflating: /content/train_data/labels/train/jazda_0_345.txt  \n",
            "  inflating: /content/train_data/labels/train/jazda_0_347.txt  \n",
            "  inflating: /content/train_data/labels/train/jazda_0_348.txt  \n",
            "  inflating: /content/train_data/labels/train/jazda_0_349.txt  \n",
            "  inflating: /content/train_data/labels/train/jazda_0_350.txt  \n",
            "  inflating: /content/train_data/labels/train/jazda_0_352.txt  \n",
            "  inflating: /content/train_data/labels/train/jazda_0_354.txt  \n",
            "  inflating: /content/train_data/labels/train/jazda_0_355.txt  \n",
            "  inflating: /content/train_data/labels/train/jazda_0_358.txt  \n",
            "  inflating: /content/train_data/labels/train/jazda_0_359.txt  \n",
            "  inflating: /content/train_data/labels/train/jazda_0_360.txt  \n",
            "  inflating: /content/train_data/labels/train/jazda_0_362.txt  \n",
            "  inflating: /content/train_data/labels/train/jazda_0_364.txt  \n",
            "  inflating: /content/train_data/labels/train/jazda_0_39.txt  \n",
            "  inflating: /content/train_data/labels/train/jazda_0_4.txt  \n",
            "  inflating: /content/train_data/labels/train/jazda_0_41.txt  \n",
            "  inflating: /content/train_data/labels/train/jazda_0_43.txt  \n",
            "  inflating: /content/train_data/labels/train/jazda_0_45.txt  \n",
            "  inflating: /content/train_data/labels/train/jazda_0_49.txt  \n",
            "  inflating: /content/train_data/labels/train/jazda_0_5.txt  \n",
            "  inflating: /content/train_data/labels/train/jazda_0_50.txt  \n",
            "  inflating: /content/train_data/labels/train/jazda_0_53.txt  \n",
            "  inflating: /content/train_data/labels/train/jazda_0_55.txt  \n",
            "  inflating: /content/train_data/labels/train/jazda_0_56.txt  \n",
            "  inflating: /content/train_data/labels/train/jazda_0_59.txt  \n",
            "  inflating: /content/train_data/labels/train/jazda_0_60.txt  \n",
            "  inflating: /content/train_data/labels/train/jazda_0_66.txt  \n",
            "  inflating: /content/train_data/labels/train/jazda_0_67.txt  \n",
            "  inflating: /content/train_data/labels/train/jazda_0_7.txt  \n",
            "  inflating: /content/train_data/labels/train/jazda_0_70.txt  \n",
            "  inflating: /content/train_data/labels/train/jazda_0_73.txt  \n",
            "  inflating: /content/train_data/labels/train/jazda_0_74.txt  \n",
            "  inflating: /content/train_data/labels/train/jazda_0_75.txt  \n",
            "  inflating: /content/train_data/labels/train/jazda_0_77.txt  \n",
            "  inflating: /content/train_data/labels/train/jazda_0_78.txt  \n",
            "  inflating: /content/train_data/labels/train/jazda_0_8.txt  \n",
            "  inflating: /content/train_data/labels/train/jazda_0_83.txt  \n",
            "  inflating: /content/train_data/labels/train/jazda_0_84.txt  \n",
            "  inflating: /content/train_data/labels/train/jazda_0_85.txt  \n",
            "  inflating: /content/train_data/labels/train/jazda_0_86.txt  \n",
            "  inflating: /content/train_data/labels/train/jazda_0_87.txt  \n",
            "  inflating: /content/train_data/labels/train/jazda_0_89.txt  \n",
            "  inflating: /content/train_data/labels/train/jazda_0_9.txt  \n",
            "  inflating: /content/train_data/labels/train/jazda_0_91.txt  \n",
            "  inflating: /content/train_data/labels/train/jazda_0_93.txt  \n",
            "  inflating: /content/train_data/labels/train/jazda_0_98.txt  \n",
            "  inflating: /content/train_data/labels/train/jazda_0_99.txt  \n",
            "  inflating: /content/train_data/labels/train/jazda_1_1.txt  \n",
            "  inflating: /content/train_data/labels/train/jazda_1_10.txt  \n",
            "  inflating: /content/train_data/labels/train/jazda_1_100.txt  \n",
            "  inflating: /content/train_data/labels/train/jazda_1_101.txt  \n",
            "  inflating: /content/train_data/labels/train/jazda_1_102.txt  \n",
            "  inflating: /content/train_data/labels/train/jazda_1_104.txt  \n",
            "  inflating: /content/train_data/labels/train/jazda_1_105.txt  \n",
            "  inflating: /content/train_data/labels/train/jazda_1_106.txt  \n",
            "  inflating: /content/train_data/labels/train/jazda_1_107.txt  \n",
            "  inflating: /content/train_data/labels/train/jazda_1_108.txt  \n",
            "  inflating: /content/train_data/labels/train/jazda_1_11.txt  \n",
            "  inflating: /content/train_data/labels/train/jazda_1_110.txt  \n",
            "  inflating: /content/train_data/labels/train/jazda_1_111.txt  \n",
            "  inflating: /content/train_data/labels/train/jazda_1_112.txt  \n",
            "  inflating: /content/train_data/labels/train/jazda_1_113.txt  \n",
            "  inflating: /content/train_data/labels/train/jazda_1_114.txt  \n",
            "  inflating: /content/train_data/labels/train/jazda_1_115.txt  \n",
            "  inflating: /content/train_data/labels/train/jazda_1_116.txt  \n",
            "  inflating: /content/train_data/labels/train/jazda_1_117.txt  \n",
            "  inflating: /content/train_data/labels/train/jazda_1_12.txt  \n",
            "  inflating: /content/train_data/labels/train/jazda_1_120.txt  \n",
            "  inflating: /content/train_data/labels/train/jazda_1_122.txt  \n",
            "  inflating: /content/train_data/labels/train/jazda_1_124.txt  \n",
            "  inflating: /content/train_data/labels/train/jazda_1_125.txt  \n",
            "  inflating: /content/train_data/labels/train/jazda_1_126.txt  \n",
            "  inflating: /content/train_data/labels/train/jazda_1_127.txt  \n",
            "  inflating: /content/train_data/labels/train/jazda_1_128.txt  \n",
            "  inflating: /content/train_data/labels/train/jazda_1_13.txt  \n",
            "  inflating: /content/train_data/labels/train/jazda_1_130.txt  \n",
            "  inflating: /content/train_data/labels/train/jazda_1_132.txt  \n",
            "  inflating: /content/train_data/labels/train/jazda_1_134.txt  \n",
            "  inflating: /content/train_data/labels/train/jazda_1_135.txt  \n",
            "  inflating: /content/train_data/labels/train/jazda_1_139.txt  \n",
            "  inflating: /content/train_data/labels/train/jazda_1_14.txt  \n",
            "  inflating: /content/train_data/labels/train/jazda_1_140.txt  \n",
            "  inflating: /content/train_data/labels/train/jazda_1_142.txt  \n",
            "  inflating: /content/train_data/labels/train/jazda_1_143.txt  \n",
            "  inflating: /content/train_data/labels/train/jazda_1_144.txt  \n",
            "  inflating: /content/train_data/labels/train/jazda_1_145.txt  \n",
            "  inflating: /content/train_data/labels/train/jazda_1_146.txt  \n",
            "  inflating: /content/train_data/labels/train/jazda_1_148.txt  \n",
            "  inflating: /content/train_data/labels/train/jazda_1_149.txt  \n",
            "  inflating: /content/train_data/labels/train/jazda_1_15.txt  \n",
            "  inflating: /content/train_data/labels/train/jazda_1_150.txt  \n",
            "  inflating: /content/train_data/labels/train/jazda_1_152.txt  \n",
            "  inflating: /content/train_data/labels/train/jazda_1_153.txt  \n",
            "  inflating: /content/train_data/labels/train/jazda_1_154.txt  \n",
            "  inflating: /content/train_data/labels/train/jazda_1_155.txt  \n",
            "  inflating: /content/train_data/labels/train/jazda_1_157.txt  \n",
            "  inflating: /content/train_data/labels/train/jazda_1_158.txt  \n",
            "  inflating: /content/train_data/labels/train/jazda_1_159.txt  \n",
            "  inflating: /content/train_data/labels/train/jazda_1_16.txt  \n",
            "  inflating: /content/train_data/labels/train/jazda_1_161.txt  \n",
            "  inflating: /content/train_data/labels/train/jazda_1_162.txt  \n",
            "  inflating: /content/train_data/labels/train/jazda_1_163.txt  \n",
            "  inflating: /content/train_data/labels/train/jazda_1_164.txt  \n",
            "  inflating: /content/train_data/labels/train/jazda_1_166.txt  \n",
            "  inflating: /content/train_data/labels/train/jazda_1_167.txt  \n",
            "  inflating: /content/train_data/labels/train/jazda_1_168.txt  \n",
            "  inflating: /content/train_data/labels/train/jazda_1_169.txt  \n",
            "  inflating: /content/train_data/labels/train/jazda_1_171.txt  \n",
            "  inflating: /content/train_data/labels/train/jazda_1_18.txt  \n",
            "  inflating: /content/train_data/labels/train/jazda_1_2.txt  \n",
            "  inflating: /content/train_data/labels/train/jazda_1_20.txt  \n",
            "  inflating: /content/train_data/labels/train/jazda_1_21.txt  \n",
            "  inflating: /content/train_data/labels/train/jazda_1_23.txt  \n",
            "  inflating: /content/train_data/labels/train/jazda_1_24.txt  \n",
            "  inflating: /content/train_data/labels/train/jazda_1_25.txt  \n",
            "  inflating: /content/train_data/labels/train/jazda_1_26.txt  \n",
            "  inflating: /content/train_data/labels/train/jazda_1_27.txt  \n",
            "  inflating: /content/train_data/labels/train/jazda_1_28.txt  \n",
            "  inflating: /content/train_data/labels/train/jazda_1_29.txt  \n",
            "  inflating: /content/train_data/labels/train/jazda_1_3.txt  \n",
            "  inflating: /content/train_data/labels/train/jazda_1_30.txt  \n",
            "  inflating: /content/train_data/labels/train/jazda_1_32.txt  \n",
            "  inflating: /content/train_data/labels/train/jazda_1_33.txt  \n",
            "  inflating: /content/train_data/labels/train/jazda_1_34.txt  \n",
            "  inflating: /content/train_data/labels/train/jazda_1_36.txt  \n",
            "  inflating: /content/train_data/labels/train/jazda_1_37.txt  \n",
            "  inflating: /content/train_data/labels/train/jazda_1_4.txt  \n",
            "  inflating: /content/train_data/labels/train/jazda_1_40.txt  \n",
            "  inflating: /content/train_data/labels/train/jazda_1_41.txt  \n",
            "  inflating: /content/train_data/labels/train/jazda_1_42.txt  \n",
            "  inflating: /content/train_data/labels/train/jazda_1_43.txt  \n",
            "  inflating: /content/train_data/labels/train/jazda_1_44.txt  \n",
            "  inflating: /content/train_data/labels/train/jazda_1_45.txt  \n",
            "  inflating: /content/train_data/labels/train/jazda_1_46.txt  \n",
            "  inflating: /content/train_data/labels/train/jazda_1_47.txt  \n",
            "  inflating: /content/train_data/labels/train/jazda_1_48.txt  \n",
            "  inflating: /content/train_data/labels/train/jazda_1_49.txt  \n",
            "  inflating: /content/train_data/labels/train/jazda_1_5.txt  \n",
            "  inflating: /content/train_data/labels/train/jazda_1_50.txt  \n",
            "  inflating: /content/train_data/labels/train/jazda_1_51.txt  \n",
            "  inflating: /content/train_data/labels/train/jazda_1_53.txt  \n",
            "  inflating: /content/train_data/labels/train/jazda_1_54.txt  \n",
            "  inflating: /content/train_data/labels/train/jazda_1_55.txt  \n",
            "  inflating: /content/train_data/labels/train/jazda_1_56.txt  \n",
            "  inflating: /content/train_data/labels/train/jazda_1_57.txt  \n",
            "  inflating: /content/train_data/labels/train/jazda_1_58.txt  \n",
            "  inflating: /content/train_data/labels/train/jazda_1_6.txt  \n",
            "  inflating: /content/train_data/labels/train/jazda_1_60.txt  \n",
            "  inflating: /content/train_data/labels/train/jazda_1_61.txt  \n",
            "  inflating: /content/train_data/labels/train/jazda_1_63.txt  \n",
            "  inflating: /content/train_data/labels/train/jazda_1_64.txt  \n",
            "  inflating: /content/train_data/labels/train/jazda_1_65.txt  \n",
            "  inflating: /content/train_data/labels/train/jazda_1_67.txt  \n",
            "  inflating: /content/train_data/labels/train/jazda_1_68.txt  \n",
            "  inflating: /content/train_data/labels/train/jazda_1_7.txt  \n",
            "  inflating: /content/train_data/labels/train/jazda_1_70.txt  \n",
            "  inflating: /content/train_data/labels/train/jazda_1_72.txt  \n",
            "  inflating: /content/train_data/labels/train/jazda_1_74.txt  \n",
            "  inflating: /content/train_data/labels/train/jazda_1_76.txt  \n",
            "  inflating: /content/train_data/labels/train/jazda_1_77.txt  \n",
            "  inflating: /content/train_data/labels/train/jazda_1_79.txt  \n",
            "  inflating: /content/train_data/labels/train/jazda_1_8.txt  \n",
            "  inflating: /content/train_data/labels/train/jazda_1_80.txt  \n",
            "  inflating: /content/train_data/labels/train/jazda_1_82.txt  \n",
            "  inflating: /content/train_data/labels/train/jazda_1_84.txt  \n",
            "  inflating: /content/train_data/labels/train/jazda_1_85.txt  \n",
            "  inflating: /content/train_data/labels/train/jazda_1_86.txt  \n",
            "  inflating: /content/train_data/labels/train/jazda_1_87.txt  \n",
            "  inflating: /content/train_data/labels/train/jazda_1_88.txt  \n",
            "  inflating: /content/train_data/labels/train/jazda_1_89.txt  \n",
            "  inflating: /content/train_data/labels/train/jazda_1_9.txt  \n",
            "  inflating: /content/train_data/labels/train/jazda_1_91.txt  \n",
            "  inflating: /content/train_data/labels/train/jazda_1_92.txt  \n",
            "  inflating: /content/train_data/labels/train/jazda_1_93.txt  \n",
            "  inflating: /content/train_data/labels/train/jazda_1_94.txt  \n",
            "  inflating: /content/train_data/labels/train/jazda_1_97.txt  \n",
            "  inflating: /content/train_data/labels/train/jazda_1_99.txt  \n",
            "  inflating: /content/train_data/labels/train/jazda_2_0.txt  \n",
            "  inflating: /content/train_data/labels/train/jazda_2_1.txt  \n",
            "  inflating: /content/train_data/labels/train/jazda_2_10.txt  \n",
            "  inflating: /content/train_data/labels/train/jazda_2_12.txt  \n",
            "  inflating: /content/train_data/labels/train/jazda_2_13.txt  \n",
            "  inflating: /content/train_data/labels/train/jazda_2_15.txt  \n",
            "  inflating: /content/train_data/labels/train/jazda_2_16.txt  \n",
            "  inflating: /content/train_data/labels/train/jazda_2_17.txt  \n",
            "  inflating: /content/train_data/labels/train/jazda_2_18.txt  \n",
            "  inflating: /content/train_data/labels/train/jazda_2_19.txt  \n",
            "  inflating: /content/train_data/labels/train/jazda_2_2.txt  \n",
            "  inflating: /content/train_data/labels/train/jazda_2_20.txt  \n",
            "  inflating: /content/train_data/labels/train/jazda_2_21.txt  \n",
            "  inflating: /content/train_data/labels/train/jazda_2_24.txt  \n",
            "  inflating: /content/train_data/labels/train/jazda_2_27.txt  \n",
            "  inflating: /content/train_data/labels/train/jazda_2_28.txt  \n",
            "  inflating: /content/train_data/labels/train/jazda_2_3.txt  \n",
            "  inflating: /content/train_data/labels/train/jazda_2_31.txt  \n",
            "  inflating: /content/train_data/labels/train/jazda_2_32.txt  \n",
            "  inflating: /content/train_data/labels/train/jazda_2_35.txt  \n",
            "  inflating: /content/train_data/labels/train/jazda_2_37.txt  \n",
            "  inflating: /content/train_data/labels/train/jazda_2_38.txt  \n",
            "  inflating: /content/train_data/labels/train/jazda_2_39.txt  \n",
            "  inflating: /content/train_data/labels/train/jazda_2_4.txt  \n",
            "  inflating: /content/train_data/labels/train/jazda_2_40.txt  \n",
            "  inflating: /content/train_data/labels/train/jazda_2_41.txt  \n",
            "  inflating: /content/train_data/labels/train/jazda_2_42.txt  \n",
            "  inflating: /content/train_data/labels/train/jazda_2_43.txt  \n",
            "  inflating: /content/train_data/labels/train/jazda_2_44.txt  \n",
            "  inflating: /content/train_data/labels/train/jazda_2_45.txt  \n",
            "  inflating: /content/train_data/labels/train/jazda_2_48.txt  \n",
            "  inflating: /content/train_data/labels/train/jazda_2_5.txt  \n",
            "  inflating: /content/train_data/labels/train/jazda_2_50.txt  \n",
            "  inflating: /content/train_data/labels/train/jazda_2_51.txt  \n",
            "  inflating: /content/train_data/labels/train/jazda_2_55.txt  \n",
            "  inflating: /content/train_data/labels/train/jazda_2_56.txt  \n",
            "  inflating: /content/train_data/labels/train/jazda_2_58.txt  \n",
            "  inflating: /content/train_data/labels/train/jazda_2_59.txt  \n",
            "  inflating: /content/train_data/labels/train/jazda_2_6.txt  \n",
            "  inflating: /content/train_data/labels/train/jazda_2_62.txt  \n",
            "  inflating: /content/train_data/labels/train/jazda_2_64.txt  \n",
            "  inflating: /content/train_data/labels/train/jazda_2_68.txt  \n",
            "  inflating: /content/train_data/labels/train/jazda_2_7.txt  \n",
            "  inflating: /content/train_data/labels/train/jazda_2_72.txt  \n",
            "  inflating: /content/train_data/labels/train/jazda_2_75.txt  \n",
            "  inflating: /content/train_data/labels/train/jazda_2_8.txt  \n",
            "  inflating: /content/train_data/labels/train/jazda_2_9.txt  \n",
            "   creating: /content/train_data/labels/val/\n",
            "  inflating: /content/train_data/labels/val/jazdabombaatak_1_66.txt  \n",
            "  inflating: /content/train_data/labels/val/jazdabombaatak_1_67.txt  \n",
            "  inflating: /content/train_data/labels/val/jazdabombaatak_1_68.txt  \n",
            "  inflating: /content/train_data/labels/val/jazdabombaatak_1_69.txt  \n",
            "  inflating: /content/train_data/labels/val/jazdabombaatak_1_7.txt  \n",
            "  inflating: /content/train_data/labels/val/jazdabombaatak_1_70.txt  \n",
            "  inflating: /content/train_data/labels/val/jazdabombaatak_1_71.txt  \n",
            "  inflating: /content/train_data/labels/val/jazdabombaatak_1_72.txt  \n",
            "  inflating: /content/train_data/labels/val/jazdabombaatak_1_73.txt  \n",
            "  inflating: /content/train_data/labels/val/jazdabombaatak_1_76.txt  \n",
            "  inflating: /content/train_data/labels/val/jazdabombaatak_1_77.txt  \n",
            "  inflating: /content/train_data/labels/val/jazdabombaatak_1_78.txt  \n",
            "  inflating: /content/train_data/labels/val/jazdabombaatak_1_79.txt  \n",
            "  inflating: /content/train_data/labels/val/jazdabombaatak_1_8.txt  \n",
            "  inflating: /content/train_data/labels/val/jazdabombaatak_1_80.txt  \n",
            "  inflating: /content/train_data/labels/val/jazdabombaatak_1_81.txt  \n",
            "  inflating: /content/train_data/labels/val/jazda_3_17.txt  \n",
            "  inflating: /content/train_data/labels/val/jazda_3_18.txt  \n",
            "  inflating: /content/train_data/labels/val/jazda_3_19.txt  \n",
            "  inflating: /content/train_data/labels/val/jazda_3_2.txt  \n",
            "  inflating: /content/train_data/labels/val/jazda_3_20.txt  \n",
            "  inflating: /content/train_data/labels/val/jazda_3_21.txt  \n",
            "  inflating: /content/train_data/labels/val/jazda_3_22.txt  \n",
            "  inflating: /content/train_data/labels/val/jazda_3_23.txt  \n",
            "  inflating: /content/train_data/labels/val/jazda_3_24.txt  \n",
            "  inflating: /content/train_data/labels/val/jazda_3_25.txt  \n",
            "  inflating: /content/train_data/labels/val/jazda_3_26.txt  \n",
            "  inflating: /content/train_data/labels/val/jazda_3_27.txt  \n",
            "  inflating: /content/train_data/labels/val/jazda_3_28.txt  \n",
            "  inflating: /content/train_data/labels/val/jazda_3_29.txt  \n",
            "  inflating: /content/train_data/labels/val/jazda_3_3.txt  \n",
            "  inflating: /content/train_data/labels/val/jazda_3_30.txt  \n",
            "  inflating: /content/train_data/labels/val/jazda_3_31.txt  \n",
            "  inflating: /content/train_data/labels/val/jazda_3_32.txt  \n",
            "  inflating: /content/train_data/labels/val/jazda_3_33.txt  \n",
            "  inflating: /content/train_data/labels/val/jazda_3_36.txt  \n",
            "  inflating: /content/train_data/labels/val/jazda_3_37.txt  \n",
            "  inflating: /content/train_data/labels/val/jazda_3_38.txt  \n",
            "  inflating: /content/train_data/labels/val/jazda_3_39.txt  \n",
            "  inflating: /content/train_data/labels/val/jazda_3_4.txt  \n",
            "  inflating: /content/train_data/labels/val/jazda_3_40.txt  \n",
            "  inflating: /content/train_data/labels/val/jazda_3_41.txt  \n",
            "  inflating: /content/train_data/labels/val/jazda_3_42.txt  \n",
            "  inflating: /content/train_data/labels/val/jazda_3_43.txt  \n",
            "  inflating: /content/train_data/labels/val/jazda_3_5.txt  \n",
            "  inflating: /content/train_data/labels/val/jazda_3_52.txt  \n",
            "  inflating: /content/train_data/labels/val/jazda_3_55.txt  \n"
          ]
        }
      ]
    },
    {
      "cell_type": "code",
      "source": [
        "!pip install ultralytics==8.3.89 sahi==0.11.22"
      ],
      "metadata": {
        "colab": {
          "base_uri": "https://localhost:8080/"
        },
        "id": "Z4gcejapdQvu",
        "outputId": "71d787e5-a0ce-491f-8c39-91d18a577018"
      },
      "execution_count": 3,
      "outputs": [
        {
          "output_type": "stream",
          "name": "stdout",
          "text": [
            "Collecting ultralytics==8.3.89\n",
            "  Downloading ultralytics-8.3.89-py3-none-any.whl.metadata (35 kB)\n",
            "Collecting sahi==0.11.22\n",
            "  Downloading sahi-0.11.22-py3-none-any.whl.metadata (17 kB)\n",
            "Requirement already satisfied: numpy<=2.1.1,>=1.23.0 in /usr/local/lib/python3.11/dist-packages (from ultralytics==8.3.89) (2.0.2)\n",
            "Requirement already satisfied: matplotlib>=3.3.0 in /usr/local/lib/python3.11/dist-packages (from ultralytics==8.3.89) (3.10.0)\n",
            "Requirement already satisfied: opencv-python>=4.6.0 in /usr/local/lib/python3.11/dist-packages (from ultralytics==8.3.89) (4.11.0.86)\n",
            "Requirement already satisfied: pillow>=7.1.2 in /usr/local/lib/python3.11/dist-packages (from ultralytics==8.3.89) (11.2.1)\n",
            "Requirement already satisfied: pyyaml>=5.3.1 in /usr/local/lib/python3.11/dist-packages (from ultralytics==8.3.89) (6.0.2)\n",
            "Requirement already satisfied: requests>=2.23.0 in /usr/local/lib/python3.11/dist-packages (from ultralytics==8.3.89) (2.32.3)\n",
            "Requirement already satisfied: scipy>=1.4.1 in /usr/local/lib/python3.11/dist-packages (from ultralytics==8.3.89) (1.15.3)\n",
            "Requirement already satisfied: torch>=1.8.0 in /usr/local/lib/python3.11/dist-packages (from ultralytics==8.3.89) (2.6.0+cu124)\n",
            "Requirement already satisfied: torchvision>=0.9.0 in /usr/local/lib/python3.11/dist-packages (from ultralytics==8.3.89) (0.21.0+cu124)\n",
            "Requirement already satisfied: tqdm>=4.64.0 in /usr/local/lib/python3.11/dist-packages (from ultralytics==8.3.89) (4.67.1)\n",
            "Requirement already satisfied: psutil in /usr/local/lib/python3.11/dist-packages (from ultralytics==8.3.89) (5.9.5)\n",
            "Requirement already satisfied: py-cpuinfo in /usr/local/lib/python3.11/dist-packages (from ultralytics==8.3.89) (9.0.0)\n",
            "Requirement already satisfied: pandas>=1.1.4 in /usr/local/lib/python3.11/dist-packages (from ultralytics==8.3.89) (2.2.2)\n",
            "Requirement already satisfied: seaborn>=0.11.0 in /usr/local/lib/python3.11/dist-packages (from ultralytics==8.3.89) (0.13.2)\n",
            "Collecting ultralytics-thop>=2.0.0 (from ultralytics==8.3.89)\n",
            "  Downloading ultralytics_thop-2.0.14-py3-none-any.whl.metadata (9.4 kB)\n",
            "Requirement already satisfied: click in /usr/local/lib/python3.11/dist-packages (from sahi==0.11.22) (8.2.1)\n",
            "Collecting fire (from sahi==0.11.22)\n",
            "  Downloading fire-0.7.0.tar.gz (87 kB)\n",
            "\u001b[2K     \u001b[90m━━━━━━━━━━━━━━━━━━━━━━━━━━━━━━━━━━━━━━━━\u001b[0m \u001b[32m87.2/87.2 kB\u001b[0m \u001b[31m6.1 MB/s\u001b[0m eta \u001b[36m0:00:00\u001b[0m\n",
            "\u001b[?25h  Preparing metadata (setup.py) ... \u001b[?25l\u001b[?25hdone\n",
            "Collecting opencv-python>=4.6.0 (from ultralytics==8.3.89)\n",
            "  Downloading opencv_python-4.10.0.84-cp37-abi3-manylinux_2_17_x86_64.manylinux2014_x86_64.whl.metadata (20 kB)\n",
            "Collecting pybboxes==0.1.6 (from sahi==0.11.22)\n",
            "  Downloading pybboxes-0.1.6-py3-none-any.whl.metadata (9.9 kB)\n",
            "Requirement already satisfied: shapely>=2.0.0 in /usr/local/lib/python3.11/dist-packages (from sahi==0.11.22) (2.1.1)\n",
            "Collecting terminaltables (from sahi==0.11.22)\n",
            "  Downloading terminaltables-3.1.10-py2.py3-none-any.whl.metadata (3.5 kB)\n",
            "Requirement already satisfied: contourpy>=1.0.1 in /usr/local/lib/python3.11/dist-packages (from matplotlib>=3.3.0->ultralytics==8.3.89) (1.3.2)\n",
            "Requirement already satisfied: cycler>=0.10 in /usr/local/lib/python3.11/dist-packages (from matplotlib>=3.3.0->ultralytics==8.3.89) (0.12.1)\n",
            "Requirement already satisfied: fonttools>=4.22.0 in /usr/local/lib/python3.11/dist-packages (from matplotlib>=3.3.0->ultralytics==8.3.89) (4.58.4)\n",
            "Requirement already satisfied: kiwisolver>=1.3.1 in /usr/local/lib/python3.11/dist-packages (from matplotlib>=3.3.0->ultralytics==8.3.89) (1.4.8)\n",
            "Requirement already satisfied: packaging>=20.0 in /usr/local/lib/python3.11/dist-packages (from matplotlib>=3.3.0->ultralytics==8.3.89) (24.2)\n",
            "Requirement already satisfied: pyparsing>=2.3.1 in /usr/local/lib/python3.11/dist-packages (from matplotlib>=3.3.0->ultralytics==8.3.89) (3.2.3)\n",
            "Requirement already satisfied: python-dateutil>=2.7 in /usr/local/lib/python3.11/dist-packages (from matplotlib>=3.3.0->ultralytics==8.3.89) (2.9.0.post0)\n",
            "Requirement already satisfied: pytz>=2020.1 in /usr/local/lib/python3.11/dist-packages (from pandas>=1.1.4->ultralytics==8.3.89) (2025.2)\n",
            "Requirement already satisfied: tzdata>=2022.7 in /usr/local/lib/python3.11/dist-packages (from pandas>=1.1.4->ultralytics==8.3.89) (2025.2)\n",
            "Requirement already satisfied: charset-normalizer<4,>=2 in /usr/local/lib/python3.11/dist-packages (from requests>=2.23.0->ultralytics==8.3.89) (3.4.2)\n",
            "Requirement already satisfied: idna<4,>=2.5 in /usr/local/lib/python3.11/dist-packages (from requests>=2.23.0->ultralytics==8.3.89) (3.10)\n",
            "Requirement already satisfied: urllib3<3,>=1.21.1 in /usr/local/lib/python3.11/dist-packages (from requests>=2.23.0->ultralytics==8.3.89) (2.4.0)\n",
            "Requirement already satisfied: certifi>=2017.4.17 in /usr/local/lib/python3.11/dist-packages (from requests>=2.23.0->ultralytics==8.3.89) (2025.6.15)\n",
            "Requirement already satisfied: filelock in /usr/local/lib/python3.11/dist-packages (from torch>=1.8.0->ultralytics==8.3.89) (3.18.0)\n",
            "Requirement already satisfied: typing-extensions>=4.10.0 in /usr/local/lib/python3.11/dist-packages (from torch>=1.8.0->ultralytics==8.3.89) (4.14.0)\n",
            "Requirement already satisfied: networkx in /usr/local/lib/python3.11/dist-packages (from torch>=1.8.0->ultralytics==8.3.89) (3.5)\n",
            "Requirement already satisfied: jinja2 in /usr/local/lib/python3.11/dist-packages (from torch>=1.8.0->ultralytics==8.3.89) (3.1.6)\n",
            "Requirement already satisfied: fsspec in /usr/local/lib/python3.11/dist-packages (from torch>=1.8.0->ultralytics==8.3.89) (2025.3.2)\n",
            "Collecting nvidia-cuda-nvrtc-cu12==12.4.127 (from torch>=1.8.0->ultralytics==8.3.89)\n",
            "  Downloading nvidia_cuda_nvrtc_cu12-12.4.127-py3-none-manylinux2014_x86_64.whl.metadata (1.5 kB)\n",
            "Collecting nvidia-cuda-runtime-cu12==12.4.127 (from torch>=1.8.0->ultralytics==8.3.89)\n",
            "  Downloading nvidia_cuda_runtime_cu12-12.4.127-py3-none-manylinux2014_x86_64.whl.metadata (1.5 kB)\n",
            "Collecting nvidia-cuda-cupti-cu12==12.4.127 (from torch>=1.8.0->ultralytics==8.3.89)\n",
            "  Downloading nvidia_cuda_cupti_cu12-12.4.127-py3-none-manylinux2014_x86_64.whl.metadata (1.6 kB)\n",
            "Collecting nvidia-cudnn-cu12==9.1.0.70 (from torch>=1.8.0->ultralytics==8.3.89)\n",
            "  Downloading nvidia_cudnn_cu12-9.1.0.70-py3-none-manylinux2014_x86_64.whl.metadata (1.6 kB)\n",
            "Collecting nvidia-cublas-cu12==12.4.5.8 (from torch>=1.8.0->ultralytics==8.3.89)\n",
            "  Downloading nvidia_cublas_cu12-12.4.5.8-py3-none-manylinux2014_x86_64.whl.metadata (1.5 kB)\n",
            "Collecting nvidia-cufft-cu12==11.2.1.3 (from torch>=1.8.0->ultralytics==8.3.89)\n",
            "  Downloading nvidia_cufft_cu12-11.2.1.3-py3-none-manylinux2014_x86_64.whl.metadata (1.5 kB)\n",
            "Collecting nvidia-curand-cu12==10.3.5.147 (from torch>=1.8.0->ultralytics==8.3.89)\n",
            "  Downloading nvidia_curand_cu12-10.3.5.147-py3-none-manylinux2014_x86_64.whl.metadata (1.5 kB)\n",
            "Collecting nvidia-cusolver-cu12==11.6.1.9 (from torch>=1.8.0->ultralytics==8.3.89)\n",
            "  Downloading nvidia_cusolver_cu12-11.6.1.9-py3-none-manylinux2014_x86_64.whl.metadata (1.6 kB)\n",
            "Collecting nvidia-cusparse-cu12==12.3.1.170 (from torch>=1.8.0->ultralytics==8.3.89)\n",
            "  Downloading nvidia_cusparse_cu12-12.3.1.170-py3-none-manylinux2014_x86_64.whl.metadata (1.6 kB)\n",
            "Requirement already satisfied: nvidia-cusparselt-cu12==0.6.2 in /usr/local/lib/python3.11/dist-packages (from torch>=1.8.0->ultralytics==8.3.89) (0.6.2)\n",
            "Requirement already satisfied: nvidia-nccl-cu12==2.21.5 in /usr/local/lib/python3.11/dist-packages (from torch>=1.8.0->ultralytics==8.3.89) (2.21.5)\n",
            "Requirement already satisfied: nvidia-nvtx-cu12==12.4.127 in /usr/local/lib/python3.11/dist-packages (from torch>=1.8.0->ultralytics==8.3.89) (12.4.127)\n",
            "Collecting nvidia-nvjitlink-cu12==12.4.127 (from torch>=1.8.0->ultralytics==8.3.89)\n",
            "  Downloading nvidia_nvjitlink_cu12-12.4.127-py3-none-manylinux2014_x86_64.whl.metadata (1.5 kB)\n",
            "Requirement already satisfied: triton==3.2.0 in /usr/local/lib/python3.11/dist-packages (from torch>=1.8.0->ultralytics==8.3.89) (3.2.0)\n",
            "Requirement already satisfied: sympy==1.13.1 in /usr/local/lib/python3.11/dist-packages (from torch>=1.8.0->ultralytics==8.3.89) (1.13.1)\n",
            "Requirement already satisfied: mpmath<1.4,>=1.1.0 in /usr/local/lib/python3.11/dist-packages (from sympy==1.13.1->torch>=1.8.0->ultralytics==8.3.89) (1.3.0)\n",
            "Requirement already satisfied: termcolor in /usr/local/lib/python3.11/dist-packages (from fire->sahi==0.11.22) (3.1.0)\n",
            "Requirement already satisfied: six>=1.5 in /usr/local/lib/python3.11/dist-packages (from python-dateutil>=2.7->matplotlib>=3.3.0->ultralytics==8.3.89) (1.17.0)\n",
            "Requirement already satisfied: MarkupSafe>=2.0 in /usr/local/lib/python3.11/dist-packages (from jinja2->torch>=1.8.0->ultralytics==8.3.89) (3.0.2)\n",
            "Downloading ultralytics-8.3.89-py3-none-any.whl (932 kB)\n",
            "\u001b[2K   \u001b[90m━━━━━━━━━━━━━━━━━━━━━━━━━━━━━━━━━━━━━━━━\u001b[0m \u001b[32m932.6/932.6 kB\u001b[0m \u001b[31m33.8 MB/s\u001b[0m eta \u001b[36m0:00:00\u001b[0m\n",
            "\u001b[?25hDownloading sahi-0.11.22-py3-none-any.whl (114 kB)\n",
            "\u001b[2K   \u001b[90m━━━━━━━━━━━━━━━━━━━━━━━━━━━━━━━━━━━━━━━━\u001b[0m \u001b[32m114.2/114.2 kB\u001b[0m \u001b[31m11.9 MB/s\u001b[0m eta \u001b[36m0:00:00\u001b[0m\n",
            "\u001b[?25hDownloading pybboxes-0.1.6-py3-none-any.whl (24 kB)\n",
            "Downloading opencv_python-4.10.0.84-cp37-abi3-manylinux_2_17_x86_64.manylinux2014_x86_64.whl (62.5 MB)\n",
            "\u001b[2K   \u001b[90m━━━━━━━━━━━━━━━━━━━━━━━━━━━━━━━━━━━━━━━━\u001b[0m \u001b[32m62.5/62.5 MB\u001b[0m \u001b[31m15.2 MB/s\u001b[0m eta \u001b[36m0:00:00\u001b[0m\n",
            "\u001b[?25hDownloading nvidia_cublas_cu12-12.4.5.8-py3-none-manylinux2014_x86_64.whl (363.4 MB)\n",
            "\u001b[2K   \u001b[90m━━━━━━━━━━━━━━━━━━━━━━━━━━━━━━━━━━━━━━━━\u001b[0m \u001b[32m363.4/363.4 MB\u001b[0m \u001b[31m1.5 MB/s\u001b[0m eta \u001b[36m0:00:00\u001b[0m\n",
            "\u001b[?25hDownloading nvidia_cuda_cupti_cu12-12.4.127-py3-none-manylinux2014_x86_64.whl (13.8 MB)\n",
            "\u001b[2K   \u001b[90m━━━━━━━━━━━━━━━━━━━━━━━━━━━━━━━━━━━━━━━━\u001b[0m \u001b[32m13.8/13.8 MB\u001b[0m \u001b[31m117.3 MB/s\u001b[0m eta \u001b[36m0:00:00\u001b[0m\n",
            "\u001b[?25hDownloading nvidia_cuda_nvrtc_cu12-12.4.127-py3-none-manylinux2014_x86_64.whl (24.6 MB)\n",
            "\u001b[2K   \u001b[90m━━━━━━━━━━━━━━━━━━━━━━━━━━━━━━━━━━━━━━━━\u001b[0m \u001b[32m24.6/24.6 MB\u001b[0m \u001b[31m95.5 MB/s\u001b[0m eta \u001b[36m0:00:00\u001b[0m\n",
            "\u001b[?25hDownloading nvidia_cuda_runtime_cu12-12.4.127-py3-none-manylinux2014_x86_64.whl (883 kB)\n",
            "\u001b[2K   \u001b[90m━━━━━━━━━━━━━━━━━━━━━━━━━━━━━━━━━━━━━━━━\u001b[0m \u001b[32m883.7/883.7 kB\u001b[0m \u001b[31m62.6 MB/s\u001b[0m eta \u001b[36m0:00:00\u001b[0m\n",
            "\u001b[?25hDownloading nvidia_cudnn_cu12-9.1.0.70-py3-none-manylinux2014_x86_64.whl (664.8 MB)\n",
            "\u001b[2K   \u001b[90m━━━━━━━━━━━━━━━━━━━━━━━━━━━━━━━━━━━━━━━━\u001b[0m \u001b[32m664.8/664.8 MB\u001b[0m \u001b[31m3.0 MB/s\u001b[0m eta \u001b[36m0:00:00\u001b[0m\n",
            "\u001b[?25hDownloading nvidia_cufft_cu12-11.2.1.3-py3-none-manylinux2014_x86_64.whl (211.5 MB)\n",
            "\u001b[2K   \u001b[90m━━━━━━━━━━━━━━━━━━━━━━━━━━━━━━━━━━━━━━━━\u001b[0m \u001b[32m211.5/211.5 MB\u001b[0m \u001b[31m5.3 MB/s\u001b[0m eta \u001b[36m0:00:00\u001b[0m\n",
            "\u001b[?25hDownloading nvidia_curand_cu12-10.3.5.147-py3-none-manylinux2014_x86_64.whl (56.3 MB)\n",
            "\u001b[2K   \u001b[90m━━━━━━━━━━━━━━━━━━━━━━━━━━━━━━━━━━━━━━━━\u001b[0m \u001b[32m56.3/56.3 MB\u001b[0m \u001b[31m12.6 MB/s\u001b[0m eta \u001b[36m0:00:00\u001b[0m\n",
            "\u001b[?25hDownloading nvidia_cusolver_cu12-11.6.1.9-py3-none-manylinux2014_x86_64.whl (127.9 MB)\n",
            "\u001b[2K   \u001b[90m━━━━━━━━━━━━━━━━━━━━━━━━━━━━━━━━━━━━━━━━\u001b[0m \u001b[32m127.9/127.9 MB\u001b[0m \u001b[31m7.4 MB/s\u001b[0m eta \u001b[36m0:00:00\u001b[0m\n",
            "\u001b[?25hDownloading nvidia_cusparse_cu12-12.3.1.170-py3-none-manylinux2014_x86_64.whl (207.5 MB)\n",
            "\u001b[2K   \u001b[90m━━━━━━━━━━━━━━━━━━━━━━━━━━━━━━━━━━━━━━━━\u001b[0m \u001b[32m207.5/207.5 MB\u001b[0m \u001b[31m5.5 MB/s\u001b[0m eta \u001b[36m0:00:00\u001b[0m\n",
            "\u001b[?25hDownloading nvidia_nvjitlink_cu12-12.4.127-py3-none-manylinux2014_x86_64.whl (21.1 MB)\n",
            "\u001b[2K   \u001b[90m━━━━━━━━━━━━━━━━━━━━━━━━━━━━━━━━━━━━━━━━\u001b[0m \u001b[32m21.1/21.1 MB\u001b[0m \u001b[31m79.3 MB/s\u001b[0m eta \u001b[36m0:00:00\u001b[0m\n",
            "\u001b[?25hDownloading ultralytics_thop-2.0.14-py3-none-any.whl (26 kB)\n",
            "Downloading terminaltables-3.1.10-py2.py3-none-any.whl (15 kB)\n",
            "Building wheels for collected packages: fire\n",
            "  Building wheel for fire (setup.py) ... \u001b[?25l\u001b[?25hdone\n",
            "  Created wheel for fire: filename=fire-0.7.0-py3-none-any.whl size=114249 sha256=b124f82833d93160b81ad121635b1497827771cfbc22ce4f6cc98fb333eb0c2e\n",
            "  Stored in directory: /root/.cache/pip/wheels/46/54/24/1624fd5b8674eb1188623f7e8e17cdf7c0f6c24b609dfb8a89\n",
            "Successfully built fire\n",
            "Installing collected packages: terminaltables, pybboxes, opencv-python, nvidia-nvjitlink-cu12, nvidia-curand-cu12, nvidia-cufft-cu12, nvidia-cuda-runtime-cu12, nvidia-cuda-nvrtc-cu12, nvidia-cuda-cupti-cu12, nvidia-cublas-cu12, fire, sahi, nvidia-cusparse-cu12, nvidia-cudnn-cu12, nvidia-cusolver-cu12, ultralytics-thop, ultralytics\n",
            "  Attempting uninstall: opencv-python\n",
            "    Found existing installation: opencv-python 4.11.0.86\n",
            "    Uninstalling opencv-python-4.11.0.86:\n",
            "      Successfully uninstalled opencv-python-4.11.0.86\n",
            "  Attempting uninstall: nvidia-nvjitlink-cu12\n",
            "    Found existing installation: nvidia-nvjitlink-cu12 12.5.82\n",
            "    Uninstalling nvidia-nvjitlink-cu12-12.5.82:\n",
            "      Successfully uninstalled nvidia-nvjitlink-cu12-12.5.82\n",
            "  Attempting uninstall: nvidia-curand-cu12\n",
            "    Found existing installation: nvidia-curand-cu12 10.3.6.82\n",
            "    Uninstalling nvidia-curand-cu12-10.3.6.82:\n",
            "      Successfully uninstalled nvidia-curand-cu12-10.3.6.82\n",
            "  Attempting uninstall: nvidia-cufft-cu12\n",
            "    Found existing installation: nvidia-cufft-cu12 11.2.3.61\n",
            "    Uninstalling nvidia-cufft-cu12-11.2.3.61:\n",
            "      Successfully uninstalled nvidia-cufft-cu12-11.2.3.61\n",
            "  Attempting uninstall: nvidia-cuda-runtime-cu12\n",
            "    Found existing installation: nvidia-cuda-runtime-cu12 12.5.82\n",
            "    Uninstalling nvidia-cuda-runtime-cu12-12.5.82:\n",
            "      Successfully uninstalled nvidia-cuda-runtime-cu12-12.5.82\n",
            "  Attempting uninstall: nvidia-cuda-nvrtc-cu12\n",
            "    Found existing installation: nvidia-cuda-nvrtc-cu12 12.5.82\n",
            "    Uninstalling nvidia-cuda-nvrtc-cu12-12.5.82:\n",
            "      Successfully uninstalled nvidia-cuda-nvrtc-cu12-12.5.82\n",
            "  Attempting uninstall: nvidia-cuda-cupti-cu12\n",
            "    Found existing installation: nvidia-cuda-cupti-cu12 12.5.82\n",
            "    Uninstalling nvidia-cuda-cupti-cu12-12.5.82:\n",
            "      Successfully uninstalled nvidia-cuda-cupti-cu12-12.5.82\n",
            "  Attempting uninstall: nvidia-cublas-cu12\n",
            "    Found existing installation: nvidia-cublas-cu12 12.5.3.2\n",
            "    Uninstalling nvidia-cublas-cu12-12.5.3.2:\n",
            "      Successfully uninstalled nvidia-cublas-cu12-12.5.3.2\n",
            "  Attempting uninstall: nvidia-cusparse-cu12\n",
            "    Found existing installation: nvidia-cusparse-cu12 12.5.1.3\n",
            "    Uninstalling nvidia-cusparse-cu12-12.5.1.3:\n",
            "      Successfully uninstalled nvidia-cusparse-cu12-12.5.1.3\n",
            "  Attempting uninstall: nvidia-cudnn-cu12\n",
            "    Found existing installation: nvidia-cudnn-cu12 9.3.0.75\n",
            "    Uninstalling nvidia-cudnn-cu12-9.3.0.75:\n",
            "      Successfully uninstalled nvidia-cudnn-cu12-9.3.0.75\n",
            "  Attempting uninstall: nvidia-cusolver-cu12\n",
            "    Found existing installation: nvidia-cusolver-cu12 11.6.3.83\n",
            "    Uninstalling nvidia-cusolver-cu12-11.6.3.83:\n",
            "      Successfully uninstalled nvidia-cusolver-cu12-11.6.3.83\n",
            "Successfully installed fire-0.7.0 nvidia-cublas-cu12-12.4.5.8 nvidia-cuda-cupti-cu12-12.4.127 nvidia-cuda-nvrtc-cu12-12.4.127 nvidia-cuda-runtime-cu12-12.4.127 nvidia-cudnn-cu12-9.1.0.70 nvidia-cufft-cu12-11.2.1.3 nvidia-curand-cu12-10.3.5.147 nvidia-cusolver-cu12-11.6.1.9 nvidia-cusparse-cu12-12.3.1.170 nvidia-nvjitlink-cu12-12.4.127 opencv-python-4.10.0.84 pybboxes-0.1.6 sahi-0.11.22 terminaltables-3.1.10 ultralytics-8.3.89 ultralytics-thop-2.0.14\n"
          ]
        }
      ]
    },
    {
      "cell_type": "code",
      "source": [
        "!pip freeze | grep -e ultralytics -e sahi -e torch"
      ],
      "metadata": {
        "colab": {
          "base_uri": "https://localhost:8080/"
        },
        "id": "imtUz00xNrNN",
        "outputId": "3e17cfad-d501-47d9-8190-476b89b829b8"
      },
      "execution_count": 4,
      "outputs": [
        {
          "output_type": "stream",
          "name": "stdout",
          "text": [
            "sahi==0.11.22\n",
            "torch @ https://download.pytorch.org/whl/cu124/torch-2.6.0%2Bcu124-cp311-cp311-linux_x86_64.whl\n",
            "torchao==0.10.0\n",
            "torchaudio @ https://download.pytorch.org/whl/cu124/torchaudio-2.6.0%2Bcu124-cp311-cp311-linux_x86_64.whl\n",
            "torchdata==0.11.0\n",
            "torchsummary==1.5.1\n",
            "torchtune==0.6.1\n",
            "torchvision @ https://download.pytorch.org/whl/cu124/torchvision-0.21.0%2Bcu124-cp311-cp311-linux_x86_64.whl\n",
            "ultralytics==8.3.89\n",
            "ultralytics-thop==2.0.14\n"
          ]
        }
      ]
    },
    {
      "cell_type": "code",
      "source": [
        "from ultralytics import YOLO\n",
        "from sahi.utils.ultralytics import download_yolo11n_model\n",
        "import yaml\n",
        "import os\n",
        "import torch\n",
        "import shutil"
      ],
      "metadata": {
        "colab": {
          "base_uri": "https://localhost:8080/"
        },
        "id": "5yZr7slKdFgd",
        "outputId": "3adf2d08-4c9f-422e-e87b-20ce99fe1045"
      },
      "execution_count": 5,
      "outputs": [
        {
          "output_type": "stream",
          "name": "stdout",
          "text": [
            "Creating new Ultralytics Settings v0.0.6 file ✅ \n",
            "View Ultralytics Settings with 'yolo settings' or at '/root/.config/Ultralytics/settings.json'\n",
            "Update Settings with 'yolo settings key=value', i.e. 'yolo settings runs_dir=path/to/dir'. For help see https://docs.ultralytics.com/quickstart/#ultralytics-settings.\n"
          ]
        }
      ]
    },
    {
      "cell_type": "code",
      "source": [
        "if torch.cuda.is_available():\n",
        "    device_count = torch.cuda.device_count()\n",
        "    device_name = torch.cuda.get_device_name(0) if device_count > 0 else \"None\"\n",
        "    print(f\"Found {device_count} GPU devices.\")\n",
        "    print(f\"Active device: {device_name}\")\n",
        "    device = 0  # Użyj pierwszego GPU\n",
        "else:\n",
        "    print(\"GPU not found, using CPU.\")\n",
        "    device = 'cpu'"
      ],
      "metadata": {
        "colab": {
          "base_uri": "https://localhost:8080/"
        },
        "id": "4f7Mrwd2dkyP",
        "outputId": "17d80ed5-5f8d-45cc-cccd-90386f53ed4d"
      },
      "execution_count": 6,
      "outputs": [
        {
          "output_type": "stream",
          "name": "stdout",
          "text": [
            "Found 1 GPU devices.\n",
            "Active device: Tesla T4\n"
          ]
        }
      ]
    },
    {
      "cell_type": "code",
      "source": [
        "DATASET_PATH = \"/content/train_data\"\n",
        "CLASS_NAMES = [\"bee\", \"ant\"]\n",
        "MODEL_DIR = \"./models\"\n",
        "MODEL_NAME = \"yolov11m.pt\"\n",
        "MODEL_PATH = os.path.join(MODEL_DIR, MODEL_NAME)\n",
        "BATCH_SIZE = 16\n",
        "WORKERS = 8\n",
        "CONFIG_YAML_FILE = \"./config/data.yaml\""
      ],
      "metadata": {
        "id": "nPgw5FmFdl-J"
      },
      "execution_count": 7,
      "outputs": []
    },
    {
      "cell_type": "code",
      "source": [
        "os.makedirs(MODEL_DIR, exist_ok=True)\n",
        "\n",
        "if not os.path.exists(MODEL_PATH):\n",
        "    print(f\"Model {MODEL_NAME} not found. Downloading...\")\n",
        "\n",
        "    download_yolo11n_model(MODEL_PATH)\n",
        "    print(f\"Model has been downloaded, to {MODEL_PATH}\")"
      ],
      "metadata": {
        "colab": {
          "base_uri": "https://localhost:8080/"
        },
        "id": "bn-aIbOpdsR9",
        "outputId": "52b0e0b8-8675-4fa1-96df-9335f5b44e6d"
      },
      "execution_count": 8,
      "outputs": [
        {
          "output_type": "stream",
          "name": "stdout",
          "text": [
            "Model yolov11m.pt not found. Downloading...\n"
          ]
        },
        {
          "output_type": "stream",
          "name": "stderr",
          "text": [
            "yolov11m.pt: 100%|██████████| 5.35M/5.35M [00:00<00:00, 82.7MB/s]"
          ]
        },
        {
          "output_type": "stream",
          "name": "stdout",
          "text": [
            "Model has been downloaded, to ./models/yolov11m.pt\n"
          ]
        },
        {
          "output_type": "stream",
          "name": "stderr",
          "text": [
            "\n"
          ]
        }
      ]
    },
    {
      "cell_type": "code",
      "source": [
        "data_yaml = {\n",
        "    'path': DATASET_PATH,\n",
        "    'train': 'images/train',\n",
        "    'val': 'images/val',\n",
        "    'names': {i: name for i, name in enumerate(CLASS_NAMES)},\n",
        "    'nc': len(CLASS_NAMES)\n",
        "}\n",
        "\n",
        "os.makedirs(\"config\", exist_ok=True)\n",
        "with open(CONFIG_YAML_FILE, 'w') as f:\n",
        "    yaml.dump(data_yaml, f, sort_keys=False)\n",
        "\n",
        "print(f\"Config file created: {CONFIG_YAML_FILE}\")"
      ],
      "metadata": {
        "colab": {
          "base_uri": "https://localhost:8080/"
        },
        "id": "fZjWN6pOeExp",
        "outputId": "26513ccb-7e49-4701-e454-fb021d7067c5"
      },
      "execution_count": 9,
      "outputs": [
        {
          "output_type": "stream",
          "name": "stdout",
          "text": [
            "Config file created: ./config/data.yaml\n"
          ]
        }
      ]
    },
    {
      "cell_type": "code",
      "source": [
        "print(f\"Loading model from {MODEL_PATH}...\")\n",
        "model = YOLO(MODEL_PATH)"
      ],
      "metadata": {
        "colab": {
          "base_uri": "https://localhost:8080/"
        },
        "id": "OSj2bTYWeGZE",
        "outputId": "ddcce01b-0fa8-4fc4-835a-06acda21d1eb"
      },
      "execution_count": 10,
      "outputs": [
        {
          "output_type": "stream",
          "name": "stdout",
          "text": [
            "Loading model from ./models/yolov11m.pt...\n"
          ]
        }
      ]
    },
    {
      "cell_type": "code",
      "source": [
        "# test vanila paramy\n",
        "results = model.train(\n",
        "    data=CONFIG_YAML_FILE,\n",
        "    epochs=50,\n",
        "    imgsz=800,\n",
        "    batch=BATCH_SIZE,\n",
        "    project=\"runs\",\n",
        "    name=\"yolov11_bees_vanila\",\n",
        "    save=True,\n",
        "    device=device,\n",
        "    workers=WORKERS\n",
        ")"
      ],
      "metadata": {
        "colab": {
          "base_uri": "https://localhost:8080/",
          "height": 1000
        },
        "id": "jQkQFq5aaX3H",
        "outputId": "0872a133-39d8-4f08-a4b8-78de8496f950"
      },
      "execution_count": null,
      "outputs": [
        {
          "output_type": "stream",
          "name": "stdout",
          "text": [
            "New https://pypi.org/project/ultralytics/8.3.162 available 😃 Update with 'pip install -U ultralytics'\n",
            "Ultralytics 8.3.89 🚀 Python-3.11.13 torch-2.6.0+cu124 CUDA:0 (Tesla T4, 15095MiB)\n",
            "\u001b[34m\u001b[1mengine/trainer: \u001b[0mtask=detect, mode=train, model=./models/yolov11m.pt, data=./config/data.yaml, epochs=50, time=None, patience=100, batch=32, imgsz=800, save=True, save_period=-1, cache=False, device=0, workers=8, project=runs, name=yolov11_bees_vanila, exist_ok=False, pretrained=True, optimizer=auto, verbose=True, seed=0, deterministic=True, single_cls=False, rect=False, cos_lr=False, close_mosaic=10, resume=False, amp=True, fraction=1.0, profile=False, freeze=None, multi_scale=False, overlap_mask=True, mask_ratio=4, dropout=0.0, val=True, split=val, save_json=False, save_hybrid=False, conf=None, iou=0.7, max_det=300, half=False, dnn=False, plots=True, source=None, vid_stride=1, stream_buffer=False, visualize=False, augment=False, agnostic_nms=False, classes=None, retina_masks=False, embed=None, show=False, save_frames=False, save_txt=False, save_conf=False, save_crop=False, show_labels=True, show_conf=True, show_boxes=True, line_width=None, format=torchscript, keras=False, optimize=False, int8=False, dynamic=False, simplify=True, opset=None, workspace=None, nms=False, lr0=0.01, lrf=0.01, momentum=0.937, weight_decay=0.0005, warmup_epochs=3.0, warmup_momentum=0.8, warmup_bias_lr=0.1, box=7.5, cls=0.5, dfl=1.5, pose=12.0, kobj=1.0, nbs=64, hsv_h=0.015, hsv_s=0.7, hsv_v=0.4, degrees=0.0, translate=0.1, scale=0.5, shear=0.0, perspective=0.0, flipud=0.0, fliplr=0.5, bgr=0.0, mosaic=1.0, mixup=0.0, copy_paste=0.0, copy_paste_mode=flip, auto_augment=randaugment, erasing=0.4, crop_fraction=1.0, cfg=None, tracker=botsort.yaml, save_dir=runs/yolov11_bees_vanila\n",
            "Downloading https://ultralytics.com/assets/Arial.ttf to '/root/.config/Ultralytics/Arial.ttf'...\n"
          ]
        },
        {
          "output_type": "stream",
          "name": "stderr",
          "text": [
            "100%|██████████| 755k/755k [00:00<00:00, 82.7MB/s]\n"
          ]
        },
        {
          "output_type": "stream",
          "name": "stdout",
          "text": [
            "Overriding model.yaml nc=80 with nc=2\n",
            "\n",
            "                   from  n    params  module                                       arguments                     \n",
            "  0                  -1  1       464  ultralytics.nn.modules.conv.Conv             [3, 16, 3, 2]                 \n",
            "  1                  -1  1      4672  ultralytics.nn.modules.conv.Conv             [16, 32, 3, 2]                \n",
            "  2                  -1  1      6640  ultralytics.nn.modules.block.C3k2            [32, 64, 1, False, 0.25]      \n",
            "  3                  -1  1     36992  ultralytics.nn.modules.conv.Conv             [64, 64, 3, 2]                \n",
            "  4                  -1  1     26080  ultralytics.nn.modules.block.C3k2            [64, 128, 1, False, 0.25]     \n",
            "  5                  -1  1    147712  ultralytics.nn.modules.conv.Conv             [128, 128, 3, 2]              \n",
            "  6                  -1  1     87040  ultralytics.nn.modules.block.C3k2            [128, 128, 1, True]           \n",
            "  7                  -1  1    295424  ultralytics.nn.modules.conv.Conv             [128, 256, 3, 2]              \n",
            "  8                  -1  1    346112  ultralytics.nn.modules.block.C3k2            [256, 256, 1, True]           \n",
            "  9                  -1  1    164608  ultralytics.nn.modules.block.SPPF            [256, 256, 5]                 \n",
            " 10                  -1  1    249728  ultralytics.nn.modules.block.C2PSA           [256, 256, 1]                 \n",
            " 11                  -1  1         0  torch.nn.modules.upsampling.Upsample         [None, 2, 'nearest']          \n",
            " 12             [-1, 6]  1         0  ultralytics.nn.modules.conv.Concat           [1]                           \n",
            " 13                  -1  1    111296  ultralytics.nn.modules.block.C3k2            [384, 128, 1, False]          \n",
            " 14                  -1  1         0  torch.nn.modules.upsampling.Upsample         [None, 2, 'nearest']          \n",
            " 15             [-1, 4]  1         0  ultralytics.nn.modules.conv.Concat           [1]                           \n",
            " 16                  -1  1     32096  ultralytics.nn.modules.block.C3k2            [256, 64, 1, False]           \n",
            " 17                  -1  1     36992  ultralytics.nn.modules.conv.Conv             [64, 64, 3, 2]                \n",
            " 18            [-1, 13]  1         0  ultralytics.nn.modules.conv.Concat           [1]                           \n",
            " 19                  -1  1     86720  ultralytics.nn.modules.block.C3k2            [192, 128, 1, False]          \n",
            " 20                  -1  1    147712  ultralytics.nn.modules.conv.Conv             [128, 128, 3, 2]              \n",
            " 21            [-1, 10]  1         0  ultralytics.nn.modules.conv.Concat           [1]                           \n",
            " 22                  -1  1    378880  ultralytics.nn.modules.block.C3k2            [384, 256, 1, True]           \n",
            " 23        [16, 19, 22]  1    431062  ultralytics.nn.modules.head.Detect           [2, [64, 128, 256]]           \n",
            "YOLO11n summary: 181 layers, 2,590,230 parameters, 2,590,214 gradients, 6.4 GFLOPs\n",
            "\n",
            "Transferred 448/499 items from pretrained weights\n",
            "\u001b[34m\u001b[1mTensorBoard: \u001b[0mStart with 'tensorboard --logdir runs/yolov11_bees_vanila', view at http://localhost:6006/\n",
            "Freezing layer 'model.23.dfl.conv.weight'\n",
            "\u001b[34m\u001b[1mAMP: \u001b[0mrunning Automatic Mixed Precision (AMP) checks...\n",
            "Downloading https://github.com/ultralytics/assets/releases/download/v8.3.0/yolo11n.pt to 'yolo11n.pt'...\n"
          ]
        },
        {
          "output_type": "stream",
          "name": "stderr",
          "text": [
            "100%|██████████| 5.35M/5.35M [00:00<00:00, 398MB/s]\n"
          ]
        },
        {
          "output_type": "stream",
          "name": "stdout",
          "text": [
            "\u001b[34m\u001b[1mAMP: \u001b[0mchecks passed ✅\n"
          ]
        },
        {
          "output_type": "stream",
          "name": "stderr",
          "text": [
            "\u001b[34m\u001b[1mtrain: \u001b[0mScanning /content/train_data/labels/train... 629 images, 0 backgrounds, 0 corrupt: 100%|██████████| 629/629 [00:00<00:00, 1031.63it/s]"
          ]
        },
        {
          "output_type": "stream",
          "name": "stdout",
          "text": [
            "\u001b[34m\u001b[1mtrain: \u001b[0mNew cache created: /content/train_data/labels/train.cache\n"
          ]
        },
        {
          "output_type": "stream",
          "name": "stderr",
          "text": [
            "\n"
          ]
        },
        {
          "output_type": "stream",
          "name": "stdout",
          "text": [
            "\u001b[34m\u001b[1malbumentations: \u001b[0mBlur(p=0.01, blur_limit=(3, 7)), MedianBlur(p=0.01, blur_limit=(3, 7)), ToGray(p=0.01, method='weighted_average', num_output_channels=3), CLAHE(p=0.01, clip_limit=(1.0, 4.0), tile_grid_size=(8, 8))\n"
          ]
        },
        {
          "output_type": "stream",
          "name": "stderr",
          "text": [
            "\u001b[34m\u001b[1mval: \u001b[0mScanning /content/train_data/labels/val... 47 images, 0 backgrounds, 0 corrupt: 100%|██████████| 47/47 [00:00<00:00, 489.60it/s]"
          ]
        },
        {
          "output_type": "stream",
          "name": "stdout",
          "text": [
            "\u001b[34m\u001b[1mval: \u001b[0mNew cache created: /content/train_data/labels/val.cache\n"
          ]
        },
        {
          "output_type": "stream",
          "name": "stderr",
          "text": [
            "\n"
          ]
        },
        {
          "output_type": "stream",
          "name": "stdout",
          "text": [
            "Plotting labels to runs/yolov11_bees_vanila/labels.jpg... \n",
            "\n",
            "\u001b[34m\u001b[1moptimizer:\u001b[0m 'optimizer=auto' found, ignoring 'lr0=0.01' and 'momentum=0.937' and determining best 'optimizer', 'lr0' and 'momentum' automatically... \n",
            "\u001b[34m\u001b[1moptimizer:\u001b[0m AdamW(lr=0.001667, momentum=0.9) with parameter groups 81 weight(decay=0.0), 88 weight(decay=0.0005), 87 bias(decay=0.0)\n",
            "\u001b[34m\u001b[1mTensorBoard: \u001b[0mmodel graph visualization added ✅\n",
            "Image sizes 800 train, 800 val\n",
            "Using 2 dataloader workers\n",
            "Logging results to \u001b[1mruns/yolov11_bees_vanila\u001b[0m\n",
            "Starting training for 50 epochs...\n",
            "\n",
            "      Epoch    GPU_mem   box_loss   cls_loss   dfl_loss  Instances       Size\n"
          ]
        },
        {
          "output_type": "stream",
          "name": "stderr",
          "text": [
            "       1/50      8.39G      2.186      3.586      1.696        461        800:  10%|█         | 2/20 [00:05<00:51,  2.86s/it]\n"
          ]
        },
        {
          "output_type": "error",
          "ename": "KeyboardInterrupt",
          "evalue": "",
          "traceback": [
            "\u001b[0;31m---------------------------------------------------------------------------\u001b[0m",
            "\u001b[0;31mKeyboardInterrupt\u001b[0m                         Traceback (most recent call last)",
            "\u001b[0;32m/tmp/ipython-input-11-115595611.py\u001b[0m in \u001b[0;36m<cell line: 0>\u001b[0;34m()\u001b[0m\n\u001b[1;32m      1\u001b[0m \u001b[0;31m# test vanila paramy\u001b[0m\u001b[0;34m\u001b[0m\u001b[0;34m\u001b[0m\u001b[0m\n\u001b[0;32m----> 2\u001b[0;31m results = model.train(\n\u001b[0m\u001b[1;32m      3\u001b[0m     \u001b[0mdata\u001b[0m\u001b[0;34m=\u001b[0m\u001b[0mCONFIG_YAML_FILE\u001b[0m\u001b[0;34m,\u001b[0m\u001b[0;34m\u001b[0m\u001b[0;34m\u001b[0m\u001b[0m\n\u001b[1;32m      4\u001b[0m     \u001b[0mepochs\u001b[0m\u001b[0;34m=\u001b[0m\u001b[0;36m50\u001b[0m\u001b[0;34m,\u001b[0m\u001b[0;34m\u001b[0m\u001b[0;34m\u001b[0m\u001b[0m\n\u001b[1;32m      5\u001b[0m     \u001b[0mimgsz\u001b[0m\u001b[0;34m=\u001b[0m\u001b[0;36m800\u001b[0m\u001b[0;34m,\u001b[0m\u001b[0;34m\u001b[0m\u001b[0;34m\u001b[0m\u001b[0m\n",
            "\u001b[0;32m/usr/local/lib/python3.11/dist-packages/ultralytics/engine/model.py\u001b[0m in \u001b[0;36mtrain\u001b[0;34m(self, trainer, **kwargs)\u001b[0m\n\u001b[1;32m    808\u001b[0m \u001b[0;34m\u001b[0m\u001b[0m\n\u001b[1;32m    809\u001b[0m         \u001b[0mself\u001b[0m\u001b[0;34m.\u001b[0m\u001b[0mtrainer\u001b[0m\u001b[0;34m.\u001b[0m\u001b[0mhub_session\u001b[0m \u001b[0;34m=\u001b[0m \u001b[0mself\u001b[0m\u001b[0;34m.\u001b[0m\u001b[0msession\u001b[0m  \u001b[0;31m# attach optional HUB session\u001b[0m\u001b[0;34m\u001b[0m\u001b[0;34m\u001b[0m\u001b[0m\n\u001b[0;32m--> 810\u001b[0;31m         \u001b[0mself\u001b[0m\u001b[0;34m.\u001b[0m\u001b[0mtrainer\u001b[0m\u001b[0;34m.\u001b[0m\u001b[0mtrain\u001b[0m\u001b[0;34m(\u001b[0m\u001b[0;34m)\u001b[0m\u001b[0;34m\u001b[0m\u001b[0;34m\u001b[0m\u001b[0m\n\u001b[0m\u001b[1;32m    811\u001b[0m         \u001b[0;31m# Update model and cfg after training\u001b[0m\u001b[0;34m\u001b[0m\u001b[0;34m\u001b[0m\u001b[0m\n\u001b[1;32m    812\u001b[0m         \u001b[0;32mif\u001b[0m \u001b[0mRANK\u001b[0m \u001b[0;32min\u001b[0m \u001b[0;34m{\u001b[0m\u001b[0;34m-\u001b[0m\u001b[0;36m1\u001b[0m\u001b[0;34m,\u001b[0m \u001b[0;36m0\u001b[0m\u001b[0;34m}\u001b[0m\u001b[0;34m:\u001b[0m\u001b[0;34m\u001b[0m\u001b[0;34m\u001b[0m\u001b[0m\n",
            "\u001b[0;32m/usr/local/lib/python3.11/dist-packages/ultralytics/engine/trainer.py\u001b[0m in \u001b[0;36mtrain\u001b[0;34m(self)\u001b[0m\n\u001b[1;32m    206\u001b[0m \u001b[0;34m\u001b[0m\u001b[0m\n\u001b[1;32m    207\u001b[0m         \u001b[0;32melse\u001b[0m\u001b[0;34m:\u001b[0m\u001b[0;34m\u001b[0m\u001b[0;34m\u001b[0m\u001b[0m\n\u001b[0;32m--> 208\u001b[0;31m             \u001b[0mself\u001b[0m\u001b[0;34m.\u001b[0m\u001b[0m_do_train\u001b[0m\u001b[0;34m(\u001b[0m\u001b[0mworld_size\u001b[0m\u001b[0;34m)\u001b[0m\u001b[0;34m\u001b[0m\u001b[0;34m\u001b[0m\u001b[0m\n\u001b[0m\u001b[1;32m    209\u001b[0m \u001b[0;34m\u001b[0m\u001b[0m\n\u001b[1;32m    210\u001b[0m     \u001b[0;32mdef\u001b[0m \u001b[0m_setup_scheduler\u001b[0m\u001b[0;34m(\u001b[0m\u001b[0mself\u001b[0m\u001b[0;34m)\u001b[0m\u001b[0;34m:\u001b[0m\u001b[0;34m\u001b[0m\u001b[0;34m\u001b[0m\u001b[0m\n",
            "\u001b[0;32m/usr/local/lib/python3.11/dist-packages/ultralytics/engine/trainer.py\u001b[0m in \u001b[0;36m_do_train\u001b[0;34m(self, world_size)\u001b[0m\n\u001b[1;32m    361\u001b[0m                 \u001b[0mpbar\u001b[0m \u001b[0;34m=\u001b[0m \u001b[0mTQDM\u001b[0m\u001b[0;34m(\u001b[0m\u001b[0menumerate\u001b[0m\u001b[0;34m(\u001b[0m\u001b[0mself\u001b[0m\u001b[0;34m.\u001b[0m\u001b[0mtrain_loader\u001b[0m\u001b[0;34m)\u001b[0m\u001b[0;34m,\u001b[0m \u001b[0mtotal\u001b[0m\u001b[0;34m=\u001b[0m\u001b[0mnb\u001b[0m\u001b[0;34m)\u001b[0m\u001b[0;34m\u001b[0m\u001b[0;34m\u001b[0m\u001b[0m\n\u001b[1;32m    362\u001b[0m             \u001b[0mself\u001b[0m\u001b[0;34m.\u001b[0m\u001b[0mtloss\u001b[0m \u001b[0;34m=\u001b[0m \u001b[0;32mNone\u001b[0m\u001b[0;34m\u001b[0m\u001b[0;34m\u001b[0m\u001b[0m\n\u001b[0;32m--> 363\u001b[0;31m             \u001b[0;32mfor\u001b[0m \u001b[0mi\u001b[0m\u001b[0;34m,\u001b[0m \u001b[0mbatch\u001b[0m \u001b[0;32min\u001b[0m \u001b[0mpbar\u001b[0m\u001b[0;34m:\u001b[0m\u001b[0;34m\u001b[0m\u001b[0;34m\u001b[0m\u001b[0m\n\u001b[0m\u001b[1;32m    364\u001b[0m                 \u001b[0mself\u001b[0m\u001b[0;34m.\u001b[0m\u001b[0mrun_callbacks\u001b[0m\u001b[0;34m(\u001b[0m\u001b[0;34m\"on_train_batch_start\"\u001b[0m\u001b[0;34m)\u001b[0m\u001b[0;34m\u001b[0m\u001b[0;34m\u001b[0m\u001b[0m\n\u001b[1;32m    365\u001b[0m                 \u001b[0;31m# Warmup\u001b[0m\u001b[0;34m\u001b[0m\u001b[0;34m\u001b[0m\u001b[0m\n",
            "\u001b[0;32m/usr/local/lib/python3.11/dist-packages/tqdm/std.py\u001b[0m in \u001b[0;36m__iter__\u001b[0;34m(self)\u001b[0m\n\u001b[1;32m   1179\u001b[0m \u001b[0;34m\u001b[0m\u001b[0m\n\u001b[1;32m   1180\u001b[0m         \u001b[0;32mtry\u001b[0m\u001b[0;34m:\u001b[0m\u001b[0;34m\u001b[0m\u001b[0;34m\u001b[0m\u001b[0m\n\u001b[0;32m-> 1181\u001b[0;31m             \u001b[0;32mfor\u001b[0m \u001b[0mobj\u001b[0m \u001b[0;32min\u001b[0m \u001b[0miterable\u001b[0m\u001b[0;34m:\u001b[0m\u001b[0;34m\u001b[0m\u001b[0;34m\u001b[0m\u001b[0m\n\u001b[0m\u001b[1;32m   1182\u001b[0m                 \u001b[0;32myield\u001b[0m \u001b[0mobj\u001b[0m\u001b[0;34m\u001b[0m\u001b[0;34m\u001b[0m\u001b[0m\n\u001b[1;32m   1183\u001b[0m                 \u001b[0;31m# Update and possibly print the progressbar.\u001b[0m\u001b[0;34m\u001b[0m\u001b[0;34m\u001b[0m\u001b[0m\n",
            "\u001b[0;32m/usr/local/lib/python3.11/dist-packages/ultralytics/data/build.py\u001b[0m in \u001b[0;36m__iter__\u001b[0;34m(self)\u001b[0m\n\u001b[1;32m     46\u001b[0m         \u001b[0;34m\"\"\"Creates a sampler that repeats indefinitely.\"\"\"\u001b[0m\u001b[0;34m\u001b[0m\u001b[0;34m\u001b[0m\u001b[0m\n\u001b[1;32m     47\u001b[0m         \u001b[0;32mfor\u001b[0m \u001b[0m_\u001b[0m \u001b[0;32min\u001b[0m \u001b[0mrange\u001b[0m\u001b[0;34m(\u001b[0m\u001b[0mlen\u001b[0m\u001b[0;34m(\u001b[0m\u001b[0mself\u001b[0m\u001b[0;34m)\u001b[0m\u001b[0;34m)\u001b[0m\u001b[0;34m:\u001b[0m\u001b[0;34m\u001b[0m\u001b[0;34m\u001b[0m\u001b[0m\n\u001b[0;32m---> 48\u001b[0;31m             \u001b[0;32myield\u001b[0m \u001b[0mnext\u001b[0m\u001b[0;34m(\u001b[0m\u001b[0mself\u001b[0m\u001b[0;34m.\u001b[0m\u001b[0miterator\u001b[0m\u001b[0;34m)\u001b[0m\u001b[0;34m\u001b[0m\u001b[0;34m\u001b[0m\u001b[0m\n\u001b[0m\u001b[1;32m     49\u001b[0m \u001b[0;34m\u001b[0m\u001b[0m\n\u001b[1;32m     50\u001b[0m     \u001b[0;32mdef\u001b[0m \u001b[0m__del__\u001b[0m\u001b[0;34m(\u001b[0m\u001b[0mself\u001b[0m\u001b[0;34m)\u001b[0m\u001b[0;34m:\u001b[0m\u001b[0;34m\u001b[0m\u001b[0;34m\u001b[0m\u001b[0m\n",
            "\u001b[0;32m/usr/local/lib/python3.11/dist-packages/torch/utils/data/dataloader.py\u001b[0m in \u001b[0;36m__next__\u001b[0;34m(self)\u001b[0m\n\u001b[1;32m    706\u001b[0m                 \u001b[0;31m# TODO(https://github.com/pytorch/pytorch/issues/76750)\u001b[0m\u001b[0;34m\u001b[0m\u001b[0;34m\u001b[0m\u001b[0m\n\u001b[1;32m    707\u001b[0m                 \u001b[0mself\u001b[0m\u001b[0;34m.\u001b[0m\u001b[0m_reset\u001b[0m\u001b[0;34m(\u001b[0m\u001b[0;34m)\u001b[0m  \u001b[0;31m# type: ignore[call-arg]\u001b[0m\u001b[0;34m\u001b[0m\u001b[0;34m\u001b[0m\u001b[0m\n\u001b[0;32m--> 708\u001b[0;31m             \u001b[0mdata\u001b[0m \u001b[0;34m=\u001b[0m \u001b[0mself\u001b[0m\u001b[0;34m.\u001b[0m\u001b[0m_next_data\u001b[0m\u001b[0;34m(\u001b[0m\u001b[0;34m)\u001b[0m\u001b[0;34m\u001b[0m\u001b[0;34m\u001b[0m\u001b[0m\n\u001b[0m\u001b[1;32m    709\u001b[0m             \u001b[0mself\u001b[0m\u001b[0;34m.\u001b[0m\u001b[0m_num_yielded\u001b[0m \u001b[0;34m+=\u001b[0m \u001b[0;36m1\u001b[0m\u001b[0;34m\u001b[0m\u001b[0;34m\u001b[0m\u001b[0m\n\u001b[1;32m    710\u001b[0m             if (\n",
            "\u001b[0;32m/usr/local/lib/python3.11/dist-packages/torch/utils/data/dataloader.py\u001b[0m in \u001b[0;36m_next_data\u001b[0;34m(self)\u001b[0m\n\u001b[1;32m   1456\u001b[0m \u001b[0;34m\u001b[0m\u001b[0m\n\u001b[1;32m   1457\u001b[0m             \u001b[0;32massert\u001b[0m \u001b[0;32mnot\u001b[0m \u001b[0mself\u001b[0m\u001b[0;34m.\u001b[0m\u001b[0m_shutdown\u001b[0m \u001b[0;32mand\u001b[0m \u001b[0mself\u001b[0m\u001b[0;34m.\u001b[0m\u001b[0m_tasks_outstanding\u001b[0m \u001b[0;34m>\u001b[0m \u001b[0;36m0\u001b[0m\u001b[0;34m\u001b[0m\u001b[0;34m\u001b[0m\u001b[0m\n\u001b[0;32m-> 1458\u001b[0;31m             \u001b[0midx\u001b[0m\u001b[0;34m,\u001b[0m \u001b[0mdata\u001b[0m \u001b[0;34m=\u001b[0m \u001b[0mself\u001b[0m\u001b[0;34m.\u001b[0m\u001b[0m_get_data\u001b[0m\u001b[0;34m(\u001b[0m\u001b[0;34m)\u001b[0m\u001b[0;34m\u001b[0m\u001b[0;34m\u001b[0m\u001b[0m\n\u001b[0m\u001b[1;32m   1459\u001b[0m             \u001b[0mself\u001b[0m\u001b[0;34m.\u001b[0m\u001b[0m_tasks_outstanding\u001b[0m \u001b[0;34m-=\u001b[0m \u001b[0;36m1\u001b[0m\u001b[0;34m\u001b[0m\u001b[0;34m\u001b[0m\u001b[0m\n\u001b[1;32m   1460\u001b[0m             \u001b[0;32mif\u001b[0m \u001b[0mself\u001b[0m\u001b[0;34m.\u001b[0m\u001b[0m_dataset_kind\u001b[0m \u001b[0;34m==\u001b[0m \u001b[0m_DatasetKind\u001b[0m\u001b[0;34m.\u001b[0m\u001b[0mIterable\u001b[0m\u001b[0;34m:\u001b[0m\u001b[0;34m\u001b[0m\u001b[0;34m\u001b[0m\u001b[0m\n",
            "\u001b[0;32m/usr/local/lib/python3.11/dist-packages/torch/utils/data/dataloader.py\u001b[0m in \u001b[0;36m_get_data\u001b[0;34m(self)\u001b[0m\n\u001b[1;32m   1408\u001b[0m         \u001b[0;32melif\u001b[0m \u001b[0mself\u001b[0m\u001b[0;34m.\u001b[0m\u001b[0m_pin_memory\u001b[0m\u001b[0;34m:\u001b[0m\u001b[0;34m\u001b[0m\u001b[0;34m\u001b[0m\u001b[0m\n\u001b[1;32m   1409\u001b[0m             \u001b[0;32mwhile\u001b[0m \u001b[0mself\u001b[0m\u001b[0;34m.\u001b[0m\u001b[0m_pin_memory_thread\u001b[0m\u001b[0;34m.\u001b[0m\u001b[0mis_alive\u001b[0m\u001b[0;34m(\u001b[0m\u001b[0;34m)\u001b[0m\u001b[0;34m:\u001b[0m\u001b[0;34m\u001b[0m\u001b[0;34m\u001b[0m\u001b[0m\n\u001b[0;32m-> 1410\u001b[0;31m                 \u001b[0msuccess\u001b[0m\u001b[0;34m,\u001b[0m \u001b[0mdata\u001b[0m \u001b[0;34m=\u001b[0m \u001b[0mself\u001b[0m\u001b[0;34m.\u001b[0m\u001b[0m_try_get_data\u001b[0m\u001b[0;34m(\u001b[0m\u001b[0;34m)\u001b[0m\u001b[0;34m\u001b[0m\u001b[0;34m\u001b[0m\u001b[0m\n\u001b[0m\u001b[1;32m   1411\u001b[0m                 \u001b[0;32mif\u001b[0m \u001b[0msuccess\u001b[0m\u001b[0;34m:\u001b[0m\u001b[0;34m\u001b[0m\u001b[0;34m\u001b[0m\u001b[0m\n\u001b[1;32m   1412\u001b[0m                     \u001b[0;32mreturn\u001b[0m \u001b[0mdata\u001b[0m\u001b[0;34m\u001b[0m\u001b[0;34m\u001b[0m\u001b[0m\n",
            "\u001b[0;32m/usr/local/lib/python3.11/dist-packages/torch/utils/data/dataloader.py\u001b[0m in \u001b[0;36m_try_get_data\u001b[0;34m(self, timeout)\u001b[0m\n\u001b[1;32m   1249\u001b[0m         \u001b[0;31m#   (bool: whether successfully get data, any: data if successful else None)\u001b[0m\u001b[0;34m\u001b[0m\u001b[0;34m\u001b[0m\u001b[0m\n\u001b[1;32m   1250\u001b[0m         \u001b[0;32mtry\u001b[0m\u001b[0;34m:\u001b[0m\u001b[0;34m\u001b[0m\u001b[0;34m\u001b[0m\u001b[0m\n\u001b[0;32m-> 1251\u001b[0;31m             \u001b[0mdata\u001b[0m \u001b[0;34m=\u001b[0m \u001b[0mself\u001b[0m\u001b[0;34m.\u001b[0m\u001b[0m_data_queue\u001b[0m\u001b[0;34m.\u001b[0m\u001b[0mget\u001b[0m\u001b[0;34m(\u001b[0m\u001b[0mtimeout\u001b[0m\u001b[0;34m=\u001b[0m\u001b[0mtimeout\u001b[0m\u001b[0;34m)\u001b[0m\u001b[0;34m\u001b[0m\u001b[0;34m\u001b[0m\u001b[0m\n\u001b[0m\u001b[1;32m   1252\u001b[0m             \u001b[0;32mreturn\u001b[0m \u001b[0;34m(\u001b[0m\u001b[0;32mTrue\u001b[0m\u001b[0;34m,\u001b[0m \u001b[0mdata\u001b[0m\u001b[0;34m)\u001b[0m\u001b[0;34m\u001b[0m\u001b[0;34m\u001b[0m\u001b[0m\n\u001b[1;32m   1253\u001b[0m         \u001b[0;32mexcept\u001b[0m \u001b[0mException\u001b[0m \u001b[0;32mas\u001b[0m \u001b[0me\u001b[0m\u001b[0;34m:\u001b[0m\u001b[0;34m\u001b[0m\u001b[0;34m\u001b[0m\u001b[0m\n",
            "\u001b[0;32m/usr/lib/python3.11/queue.py\u001b[0m in \u001b[0;36mget\u001b[0;34m(self, block, timeout)\u001b[0m\n\u001b[1;32m    178\u001b[0m                     \u001b[0;32mif\u001b[0m \u001b[0mremaining\u001b[0m \u001b[0;34m<=\u001b[0m \u001b[0;36m0.0\u001b[0m\u001b[0;34m:\u001b[0m\u001b[0;34m\u001b[0m\u001b[0;34m\u001b[0m\u001b[0m\n\u001b[1;32m    179\u001b[0m                         \u001b[0;32mraise\u001b[0m \u001b[0mEmpty\u001b[0m\u001b[0;34m\u001b[0m\u001b[0;34m\u001b[0m\u001b[0m\n\u001b[0;32m--> 180\u001b[0;31m                     \u001b[0mself\u001b[0m\u001b[0;34m.\u001b[0m\u001b[0mnot_empty\u001b[0m\u001b[0;34m.\u001b[0m\u001b[0mwait\u001b[0m\u001b[0;34m(\u001b[0m\u001b[0mremaining\u001b[0m\u001b[0;34m)\u001b[0m\u001b[0;34m\u001b[0m\u001b[0;34m\u001b[0m\u001b[0m\n\u001b[0m\u001b[1;32m    181\u001b[0m             \u001b[0mitem\u001b[0m \u001b[0;34m=\u001b[0m \u001b[0mself\u001b[0m\u001b[0;34m.\u001b[0m\u001b[0m_get\u001b[0m\u001b[0;34m(\u001b[0m\u001b[0;34m)\u001b[0m\u001b[0;34m\u001b[0m\u001b[0;34m\u001b[0m\u001b[0m\n\u001b[1;32m    182\u001b[0m             \u001b[0mself\u001b[0m\u001b[0;34m.\u001b[0m\u001b[0mnot_full\u001b[0m\u001b[0;34m.\u001b[0m\u001b[0mnotify\u001b[0m\u001b[0;34m(\u001b[0m\u001b[0;34m)\u001b[0m\u001b[0;34m\u001b[0m\u001b[0;34m\u001b[0m\u001b[0m\n",
            "\u001b[0;32m/usr/lib/python3.11/threading.py\u001b[0m in \u001b[0;36mwait\u001b[0;34m(self, timeout)\u001b[0m\n\u001b[1;32m    329\u001b[0m             \u001b[0;32melse\u001b[0m\u001b[0;34m:\u001b[0m\u001b[0;34m\u001b[0m\u001b[0;34m\u001b[0m\u001b[0m\n\u001b[1;32m    330\u001b[0m                 \u001b[0;32mif\u001b[0m \u001b[0mtimeout\u001b[0m \u001b[0;34m>\u001b[0m \u001b[0;36m0\u001b[0m\u001b[0;34m:\u001b[0m\u001b[0;34m\u001b[0m\u001b[0;34m\u001b[0m\u001b[0m\n\u001b[0;32m--> 331\u001b[0;31m                     \u001b[0mgotit\u001b[0m \u001b[0;34m=\u001b[0m \u001b[0mwaiter\u001b[0m\u001b[0;34m.\u001b[0m\u001b[0macquire\u001b[0m\u001b[0;34m(\u001b[0m\u001b[0;32mTrue\u001b[0m\u001b[0;34m,\u001b[0m \u001b[0mtimeout\u001b[0m\u001b[0;34m)\u001b[0m\u001b[0;34m\u001b[0m\u001b[0;34m\u001b[0m\u001b[0m\n\u001b[0m\u001b[1;32m    332\u001b[0m                 \u001b[0;32melse\u001b[0m\u001b[0;34m:\u001b[0m\u001b[0;34m\u001b[0m\u001b[0;34m\u001b[0m\u001b[0m\n\u001b[1;32m    333\u001b[0m                     \u001b[0mgotit\u001b[0m \u001b[0;34m=\u001b[0m \u001b[0mwaiter\u001b[0m\u001b[0;34m.\u001b[0m\u001b[0macquire\u001b[0m\u001b[0;34m(\u001b[0m\u001b[0;32mFalse\u001b[0m\u001b[0;34m)\u001b[0m\u001b[0;34m\u001b[0m\u001b[0;34m\u001b[0m\u001b[0m\n",
            "\u001b[0;31mKeyboardInterrupt\u001b[0m: "
          ]
        }
      ]
    },
    {
      "cell_type": "code",
      "source": [
        "# results = model.train(\n",
        "#     data=CONFIG_YAML_FILE,\n",
        "#     epochs=80,\n",
        "#     imgsz=800,\n",
        "#     batch=BATCH_SIZE,\n",
        "#     patience=30,\n",
        "#     project=\"runs\",\n",
        "#     name=\"yolov11_custom\",\n",
        "#     pretrained=True,\n",
        "#     optimizer='SGD',\n",
        "#     momentum=0.937,\n",
        "#     weight_decay=0.0005,\n",
        "#     lr0=0.0015,       # More moderate learning rate - balance between stability and recall improvement\n",
        "#     lrf=0.005,        # Gentler LR decay - less aggressive\n",
        "#     warmup_epochs=5,  # Shorter warmup - faster transition to full LR\n",
        "#     cos_lr=True,\n",
        "#     augment=True,\n",
        "#     mosaic=0.7,       # Less intense mosaic - cracks may disappear with too strong mosaic\n",
        "#     mixup=0.15,       # Less intense mixup - preserves more distinct crack features\n",
        "#     copy_paste=0.2,   # Remains high - good for rare classes\n",
        "#     degrees=8.0,      # Reduced rotation - cracks may have directional characteristics\n",
        "#     scale=0.6,        # Larger scale - various crack sizes\n",
        "#     translate=0.2,    # Added translation - helps with different crack locations\n",
        "#     fliplr=0.5,       # Added horizontal flip - increases data diversity\n",
        "#     hsv_h=0.015,\n",
        "#     hsv_s=0.7,\n",
        "#     hsv_v=0.4,\n",
        "#     perspective=0.0005,\n",
        "#     shear=1.0,        # Reduced shearing - preserves natural appearance of cracks\n",
        "#     cls=1.0,          # Higher weight for classification - crucial for recall\n",
        "#     box=3.5,          # Lower weight for box loss - less emphasis on location accuracy\n",
        "#     iou=0.35,         # Lower IoU threshold - increases recall at the cost of precision\n",
        "#     save=True,\n",
        "#     save_period=5,    # More frequent model saving\n",
        "#     device=device,\n",
        "#     workers=WORKERS\n",
        "# )\n",
        "\n",
        "results = model.train(\n",
        "  #Optymalizowana konfiguracja dla wykrywania pszczół i mrówek\n",
        "  data=CONFIG_YAML_FILE,\n",
        "  epochs=120,              # Więcej epok dla dużego datasetu (13k+ obiektów)\n",
        "  imgsz=800,              # Większy rozmiar - lepiej dla małych owadów\n",
        "  batch=BATCH_SIZE,       # Rozważ zwiększenie jeśli GPU pozwala\n",
        "  patience=40,            # Więcej cierpliwości dla większej liczby epok\n",
        "  project=\"runs\",\n",
        "  name=\"yolov11_bees_ants\",\n",
        "  pretrained=True,\n",
        "  optimizer='AdamW',      # AdamW często lepszy dla detection tasków\n",
        "  momentum=0.937,\n",
        "  weight_decay=0.0001,    # Mniejszy dla AdamW\n",
        "  lr0=0.002,             # Wyższy LR - owady to prostsze obiekty niż pęknięcia\n",
        "  lrf=0.01,              # Wyższy final LR\n",
        "  warmup_epochs=3,       # Krótszy warmup\n",
        "  cos_lr=True,\n",
        "  augment=True,\n",
        "\n",
        "  # Augmentacje dostosowane do owadów\n",
        "  mosaic=0.9,            # Wysokie - dużo małych obiektów na zdjęciu\n",
        "  mixup=0.1,             # Niższe - zachowuje cechy owadów\n",
        "  copy_paste=0.3,        # Wyższe - pomaga z balansem klas\n",
        "  degrees=45.0,          # Wyższe - owady mogą być w każdej orientacji\n",
        "  scale=0.8,             # Większy zakres skal\n",
        "  translate=0.3,         # Większe przesunięcia\n",
        "  fliplr=0.5,            # Horizontal flip OK\n",
        "  flipud=0.2,            # Vertical flip dla owadów\n",
        "  hsv_h=0.02,            # Większa wariacja odcienia\n",
        "  hsv_s=0.2,             # Większa saturacja - owady mają różne kolory\n",
        "  hsv_v=0.6,             # Większa wariacja jasności\n",
        "  perspective=0.0008,    # Lekka perspektywa\n",
        "  shear=2.0,             # Wyższe - owady mogą być w różnych pozycjach\n",
        "\n",
        "  # Loss weights dla małych obiektów\n",
        "  cls=0.5,               # Mniejsza waga klasyfikacji - balance z lokalizacją\n",
        "  box=7.5,               # Wyższa waga box loss - ważna precyzja lokalizacji\n",
        "  dfl=1.5,               # Distribution Focal Loss - lepiej dla małych obiektów\n",
        "\n",
        "  # Detection parameters\n",
        "  conf=0.25,             # Niższy confidence threshold\n",
        "  iou=0.9,               # Niższy IoU - lepiej dla skupionych owadów\n",
        "  max_det=300,           # Więcej detections per image - dużo owadów na zdjęciu\n",
        "\n",
        "  # Saving\n",
        "  save=True,\n",
        "  save_period=10,        # Rzadziej - więcej epok\n",
        "  device=device,\n",
        "  workers=WORKERS,\n",
        "\n",
        "  # Dodatkowe optymalizacje\n",
        "  amp=True,              # Mixed precision - szybsze trenowanie\n",
        "  profile=False,\n",
        "  verbose=True\n",
        ")"
      ],
      "metadata": {
        "colab": {
          "base_uri": "https://localhost:8080/"
        },
        "id": "B-yvuwoVeJE9",
        "outputId": "f4b830fc-0ae2-4640-e13f-e9f1fc923d6e"
      },
      "execution_count": 11,
      "outputs": [
        {
          "output_type": "stream",
          "name": "stdout",
          "text": [
            "New https://pypi.org/project/ultralytics/8.3.162 available 😃 Update with 'pip install -U ultralytics'\n",
            "Ultralytics 8.3.89 🚀 Python-3.11.13 torch-2.6.0+cu124 CUDA:0 (Tesla T4, 15095MiB)\n",
            "\u001b[34m\u001b[1mengine/trainer: \u001b[0mtask=detect, mode=train, model=./models/yolov11m.pt, data=./config/data.yaml, epochs=120, time=None, patience=40, batch=16, imgsz=800, save=True, save_period=10, cache=False, device=0, workers=8, project=runs, name=yolov11_bees_ants, exist_ok=False, pretrained=True, optimizer=AdamW, verbose=True, seed=0, deterministic=True, single_cls=False, rect=False, cos_lr=True, close_mosaic=10, resume=False, amp=True, fraction=1.0, profile=False, freeze=None, multi_scale=False, overlap_mask=True, mask_ratio=4, dropout=0.0, val=True, split=val, save_json=False, save_hybrid=False, conf=0.25, iou=0.9, max_det=300, half=False, dnn=False, plots=True, source=None, vid_stride=1, stream_buffer=False, visualize=False, augment=True, agnostic_nms=False, classes=None, retina_masks=False, embed=None, show=False, save_frames=False, save_txt=False, save_conf=False, save_crop=False, show_labels=True, show_conf=True, show_boxes=True, line_width=None, format=torchscript, keras=False, optimize=False, int8=False, dynamic=False, simplify=True, opset=None, workspace=None, nms=False, lr0=0.002, lrf=0.01, momentum=0.937, weight_decay=0.0001, warmup_epochs=3, warmup_momentum=0.8, warmup_bias_lr=0.1, box=7.5, cls=0.5, dfl=1.5, pose=12.0, kobj=1.0, nbs=64, hsv_h=0.02, hsv_s=0.2, hsv_v=0.6, degrees=45.0, translate=0.3, scale=0.8, shear=2.0, perspective=0.0008, flipud=0.2, fliplr=0.5, bgr=0.0, mosaic=0.9, mixup=0.1, copy_paste=0.3, copy_paste_mode=flip, auto_augment=randaugment, erasing=0.4, crop_fraction=1.0, cfg=None, tracker=botsort.yaml, save_dir=runs/yolov11_bees_ants\n",
            "Downloading https://ultralytics.com/assets/Arial.ttf to '/root/.config/Ultralytics/Arial.ttf'...\n"
          ]
        },
        {
          "output_type": "stream",
          "name": "stderr",
          "text": [
            "100%|██████████| 755k/755k [00:00<00:00, 19.3MB/s]\n"
          ]
        },
        {
          "output_type": "stream",
          "name": "stdout",
          "text": [
            "Overriding model.yaml nc=80 with nc=2\n",
            "\n",
            "                   from  n    params  module                                       arguments                     \n",
            "  0                  -1  1       464  ultralytics.nn.modules.conv.Conv             [3, 16, 3, 2]                 \n",
            "  1                  -1  1      4672  ultralytics.nn.modules.conv.Conv             [16, 32, 3, 2]                \n",
            "  2                  -1  1      6640  ultralytics.nn.modules.block.C3k2            [32, 64, 1, False, 0.25]      \n",
            "  3                  -1  1     36992  ultralytics.nn.modules.conv.Conv             [64, 64, 3, 2]                \n",
            "  4                  -1  1     26080  ultralytics.nn.modules.block.C3k2            [64, 128, 1, False, 0.25]     \n",
            "  5                  -1  1    147712  ultralytics.nn.modules.conv.Conv             [128, 128, 3, 2]              \n",
            "  6                  -1  1     87040  ultralytics.nn.modules.block.C3k2            [128, 128, 1, True]           \n",
            "  7                  -1  1    295424  ultralytics.nn.modules.conv.Conv             [128, 256, 3, 2]              \n",
            "  8                  -1  1    346112  ultralytics.nn.modules.block.C3k2            [256, 256, 1, True]           \n",
            "  9                  -1  1    164608  ultralytics.nn.modules.block.SPPF            [256, 256, 5]                 \n",
            " 10                  -1  1    249728  ultralytics.nn.modules.block.C2PSA           [256, 256, 1]                 \n",
            " 11                  -1  1         0  torch.nn.modules.upsampling.Upsample         [None, 2, 'nearest']          \n",
            " 12             [-1, 6]  1         0  ultralytics.nn.modules.conv.Concat           [1]                           \n",
            " 13                  -1  1    111296  ultralytics.nn.modules.block.C3k2            [384, 128, 1, False]          \n",
            " 14                  -1  1         0  torch.nn.modules.upsampling.Upsample         [None, 2, 'nearest']          \n",
            " 15             [-1, 4]  1         0  ultralytics.nn.modules.conv.Concat           [1]                           \n",
            " 16                  -1  1     32096  ultralytics.nn.modules.block.C3k2            [256, 64, 1, False]           \n",
            " 17                  -1  1     36992  ultralytics.nn.modules.conv.Conv             [64, 64, 3, 2]                \n",
            " 18            [-1, 13]  1         0  ultralytics.nn.modules.conv.Concat           [1]                           \n",
            " 19                  -1  1     86720  ultralytics.nn.modules.block.C3k2            [192, 128, 1, False]          \n",
            " 20                  -1  1    147712  ultralytics.nn.modules.conv.Conv             [128, 128, 3, 2]              \n",
            " 21            [-1, 10]  1         0  ultralytics.nn.modules.conv.Concat           [1]                           \n",
            " 22                  -1  1    378880  ultralytics.nn.modules.block.C3k2            [384, 256, 1, True]           \n",
            " 23        [16, 19, 22]  1    431062  ultralytics.nn.modules.head.Detect           [2, [64, 128, 256]]           \n",
            "YOLO11n summary: 181 layers, 2,590,230 parameters, 2,590,214 gradients, 6.4 GFLOPs\n",
            "\n",
            "Transferred 448/499 items from pretrained weights\n",
            "\u001b[34m\u001b[1mTensorBoard: \u001b[0mStart with 'tensorboard --logdir runs/yolov11_bees_ants', view at http://localhost:6006/\n",
            "Freezing layer 'model.23.dfl.conv.weight'\n",
            "\u001b[34m\u001b[1mAMP: \u001b[0mrunning Automatic Mixed Precision (AMP) checks...\n",
            "Downloading https://github.com/ultralytics/assets/releases/download/v8.3.0/yolo11n.pt to 'yolo11n.pt'...\n"
          ]
        },
        {
          "output_type": "stream",
          "name": "stderr",
          "text": [
            "100%|██████████| 5.35M/5.35M [00:00<00:00, 107MB/s]\n"
          ]
        },
        {
          "output_type": "stream",
          "name": "stdout",
          "text": [
            "\u001b[34m\u001b[1mAMP: \u001b[0mchecks passed ✅\n"
          ]
        },
        {
          "output_type": "stream",
          "name": "stderr",
          "text": [
            "\u001b[34m\u001b[1mtrain: \u001b[0mScanning /content/train_data/labels/train... 629 images, 0 backgrounds, 0 corrupt: 100%|██████████| 629/629 [00:00<00:00, 908.72it/s]\n"
          ]
        },
        {
          "output_type": "stream",
          "name": "stdout",
          "text": [
            "\u001b[34m\u001b[1mtrain: \u001b[0mNew cache created: /content/train_data/labels/train.cache\n",
            "\u001b[34m\u001b[1malbumentations: \u001b[0mBlur(p=0.01, blur_limit=(3, 7)), MedianBlur(p=0.01, blur_limit=(3, 7)), ToGray(p=0.01, method='weighted_average', num_output_channels=3), CLAHE(p=0.01, clip_limit=(1.0, 4.0), tile_grid_size=(8, 8))\n"
          ]
        },
        {
          "output_type": "stream",
          "name": "stderr",
          "text": [
            "\u001b[34m\u001b[1mval: \u001b[0mScanning /content/train_data/labels/val... 47 images, 0 backgrounds, 0 corrupt: 100%|██████████| 47/47 [00:00<00:00, 473.11it/s]"
          ]
        },
        {
          "output_type": "stream",
          "name": "stdout",
          "text": [
            "\u001b[34m\u001b[1mval: \u001b[0mNew cache created: /content/train_data/labels/val.cache\n"
          ]
        },
        {
          "output_type": "stream",
          "name": "stderr",
          "text": [
            "\n"
          ]
        },
        {
          "output_type": "stream",
          "name": "stdout",
          "text": [
            "Plotting labels to runs/yolov11_bees_ants/labels.jpg... \n",
            "\u001b[34m\u001b[1moptimizer:\u001b[0m AdamW(lr=0.002, momentum=0.937) with parameter groups 81 weight(decay=0.0), 88 weight(decay=0.0001), 87 bias(decay=0.0)\n",
            "\u001b[34m\u001b[1mTensorBoard: \u001b[0mmodel graph visualization added ✅\n",
            "Image sizes 800 train, 800 val\n",
            "Using 2 dataloader workers\n",
            "Logging results to \u001b[1mruns/yolov11_bees_ants\u001b[0m\n",
            "Starting training for 120 epochs...\n",
            "\n",
            "      Epoch    GPU_mem   box_loss   cls_loss   dfl_loss  Instances       Size\n"
          ]
        },
        {
          "output_type": "stream",
          "name": "stderr",
          "text": [
            "      1/120       8.5G      2.661      3.196      2.028        210        800: 100%|██████████| 40/40 [00:23<00:00,  1.73it/s]\n",
            "                 Class     Images  Instances      Box(P          R      mAP50  mAP50-95): 100%|██████████| 2/2 [00:01<00:00,  1.19it/s]"
          ]
        },
        {
          "output_type": "stream",
          "name": "stdout",
          "text": [
            "                   all         47        387          0          0          0          0\n"
          ]
        },
        {
          "output_type": "stream",
          "name": "stderr",
          "text": [
            "\n"
          ]
        },
        {
          "output_type": "stream",
          "name": "stdout",
          "text": [
            "\n",
            "      Epoch    GPU_mem   box_loss   cls_loss   dfl_loss  Instances       Size\n"
          ]
        },
        {
          "output_type": "stream",
          "name": "stderr",
          "text": [
            "      2/120      8.51G      2.484       2.67      1.932        107        800: 100%|██████████| 40/40 [00:20<00:00,  2.00it/s]\n",
            "                 Class     Images  Instances      Box(P          R      mAP50  mAP50-95): 100%|██████████| 2/2 [00:01<00:00,  1.05it/s]"
          ]
        },
        {
          "output_type": "stream",
          "name": "stdout",
          "text": [
            "                   all         47        387     0.0627     0.0251     0.0325    0.00999\n"
          ]
        },
        {
          "output_type": "stream",
          "name": "stderr",
          "text": [
            "\n"
          ]
        },
        {
          "output_type": "stream",
          "name": "stdout",
          "text": [
            "\n",
            "      Epoch    GPU_mem   box_loss   cls_loss   dfl_loss  Instances       Size\n"
          ]
        },
        {
          "output_type": "stream",
          "name": "stderr",
          "text": [
            "      3/120        10G      2.487      2.561      1.909        100        800: 100%|██████████| 40/40 [00:20<00:00,  1.91it/s]\n",
            "                 Class     Images  Instances      Box(P          R      mAP50  mAP50-95): 100%|██████████| 2/2 [00:00<00:00,  2.93it/s]"
          ]
        },
        {
          "output_type": "stream",
          "name": "stdout",
          "text": [
            "                   all         47        387     0.0664     0.0949     0.0384     0.0135\n"
          ]
        },
        {
          "output_type": "stream",
          "name": "stderr",
          "text": [
            "\n"
          ]
        },
        {
          "output_type": "stream",
          "name": "stdout",
          "text": [
            "\n",
            "      Epoch    GPU_mem   box_loss   cls_loss   dfl_loss  Instances       Size\n"
          ]
        },
        {
          "output_type": "stream",
          "name": "stderr",
          "text": [
            "      4/120      10.1G      2.423       2.52      1.919        148        800: 100%|██████████| 40/40 [00:19<00:00,  2.04it/s]\n",
            "                 Class     Images  Instances      Box(P          R      mAP50  mAP50-95): 100%|██████████| 2/2 [00:00<00:00,  2.97it/s]"
          ]
        },
        {
          "output_type": "stream",
          "name": "stdout",
          "text": [
            "                   all         47        387       0.12      0.137     0.0619     0.0187\n"
          ]
        },
        {
          "output_type": "stream",
          "name": "stderr",
          "text": [
            "\n"
          ]
        },
        {
          "output_type": "stream",
          "name": "stdout",
          "text": [
            "\n",
            "      Epoch    GPU_mem   box_loss   cls_loss   dfl_loss  Instances       Size\n"
          ]
        },
        {
          "output_type": "stream",
          "name": "stderr",
          "text": [
            "      5/120      10.1G      2.425      2.513      1.913        122        800: 100%|██████████| 40/40 [00:21<00:00,  1.89it/s]\n",
            "                 Class     Images  Instances      Box(P          R      mAP50  mAP50-95): 100%|██████████| 2/2 [00:00<00:00,  3.15it/s]"
          ]
        },
        {
          "output_type": "stream",
          "name": "stdout",
          "text": [
            "                   all         47        387     0.0467      0.076     0.0289     0.0106\n"
          ]
        },
        {
          "output_type": "stream",
          "name": "stderr",
          "text": [
            "\n"
          ]
        },
        {
          "output_type": "stream",
          "name": "stdout",
          "text": [
            "\n",
            "      Epoch    GPU_mem   box_loss   cls_loss   dfl_loss  Instances       Size\n"
          ]
        },
        {
          "output_type": "stream",
          "name": "stderr",
          "text": [
            "      6/120      10.1G      2.416      2.388      1.867         37        800: 100%|██████████| 40/40 [00:18<00:00,  2.11it/s]\n",
            "                 Class     Images  Instances      Box(P          R      mAP50  mAP50-95): 100%|██████████| 2/2 [00:00<00:00,  3.28it/s]"
          ]
        },
        {
          "output_type": "stream",
          "name": "stdout",
          "text": [
            "                   all         47        387      0.227     0.0991       0.13     0.0457\n"
          ]
        },
        {
          "output_type": "stream",
          "name": "stderr",
          "text": [
            "\n"
          ]
        },
        {
          "output_type": "stream",
          "name": "stdout",
          "text": [
            "\n",
            "      Epoch    GPU_mem   box_loss   cls_loss   dfl_loss  Instances       Size\n"
          ]
        },
        {
          "output_type": "stream",
          "name": "stderr",
          "text": [
            "      7/120      10.1G      2.364      2.317      1.849        171        800: 100%|██████████| 40/40 [00:21<00:00,  1.90it/s]\n",
            "                 Class     Images  Instances      Box(P          R      mAP50  mAP50-95): 100%|██████████| 2/2 [00:00<00:00,  3.72it/s]"
          ]
        },
        {
          "output_type": "stream",
          "name": "stdout",
          "text": [
            "                   all         47        387      0.183      0.116      0.106     0.0358\n"
          ]
        },
        {
          "output_type": "stream",
          "name": "stderr",
          "text": [
            "\n"
          ]
        },
        {
          "output_type": "stream",
          "name": "stdout",
          "text": [
            "\n",
            "      Epoch    GPU_mem   box_loss   cls_loss   dfl_loss  Instances       Size\n"
          ]
        },
        {
          "output_type": "stream",
          "name": "stderr",
          "text": [
            "      8/120      10.1G      2.359       2.29      1.866         82        800: 100%|██████████| 40/40 [00:20<00:00,  1.92it/s]\n",
            "                 Class     Images  Instances      Box(P          R      mAP50  mAP50-95): 100%|██████████| 2/2 [00:01<00:00,  1.99it/s]"
          ]
        },
        {
          "output_type": "stream",
          "name": "stdout",
          "text": [
            "                   all         47        387      0.228     0.0985     0.0834     0.0246\n"
          ]
        },
        {
          "output_type": "stream",
          "name": "stderr",
          "text": [
            "\n"
          ]
        },
        {
          "output_type": "stream",
          "name": "stdout",
          "text": [
            "\n",
            "      Epoch    GPU_mem   box_loss   cls_loss   dfl_loss  Instances       Size\n"
          ]
        },
        {
          "output_type": "stream",
          "name": "stderr",
          "text": [
            "      9/120      10.1G      2.339      2.325      1.861         30        800: 100%|██████████| 40/40 [00:19<00:00,  2.01it/s]\n",
            "                 Class     Images  Instances      Box(P          R      mAP50  mAP50-95): 100%|██████████| 2/2 [00:00<00:00,  3.02it/s]"
          ]
        },
        {
          "output_type": "stream",
          "name": "stdout",
          "text": [
            "                   all         47        387      0.133      0.193      0.108     0.0408\n"
          ]
        },
        {
          "output_type": "stream",
          "name": "stderr",
          "text": [
            "\n"
          ]
        },
        {
          "output_type": "stream",
          "name": "stdout",
          "text": [
            "\n",
            "      Epoch    GPU_mem   box_loss   cls_loss   dfl_loss  Instances       Size\n"
          ]
        },
        {
          "output_type": "stream",
          "name": "stderr",
          "text": [
            "     10/120      10.1G      2.305      2.239      1.809         83        800: 100%|██████████| 40/40 [00:19<00:00,  2.04it/s]\n",
            "                 Class     Images  Instances      Box(P          R      mAP50  mAP50-95): 100%|██████████| 2/2 [00:01<00:00,  1.83it/s]"
          ]
        },
        {
          "output_type": "stream",
          "name": "stdout",
          "text": [
            "                   all         47        387      0.166      0.172     0.0962     0.0309\n"
          ]
        },
        {
          "output_type": "stream",
          "name": "stderr",
          "text": [
            "\n"
          ]
        },
        {
          "output_type": "stream",
          "name": "stdout",
          "text": [
            "\n",
            "      Epoch    GPU_mem   box_loss   cls_loss   dfl_loss  Instances       Size\n"
          ]
        },
        {
          "output_type": "stream",
          "name": "stderr",
          "text": [
            "     11/120      11.9G      2.308      2.224       1.82         59        800: 100%|██████████| 40/40 [00:20<00:00,  1.99it/s]\n",
            "                 Class     Images  Instances      Box(P          R      mAP50  mAP50-95): 100%|██████████| 2/2 [00:00<00:00,  3.14it/s]"
          ]
        },
        {
          "output_type": "stream",
          "name": "stdout",
          "text": [
            "                   all         47        387      0.136      0.259      0.092     0.0285\n"
          ]
        },
        {
          "output_type": "stream",
          "name": "stderr",
          "text": [
            "\n"
          ]
        },
        {
          "output_type": "stream",
          "name": "stdout",
          "text": [
            "\n",
            "      Epoch    GPU_mem   box_loss   cls_loss   dfl_loss  Instances       Size\n"
          ]
        },
        {
          "output_type": "stream",
          "name": "stderr",
          "text": [
            "     12/120      11.9G      2.307      2.187      1.807         30        800: 100%|██████████| 40/40 [00:20<00:00,  1.99it/s]\n",
            "                 Class     Images  Instances      Box(P          R      mAP50  mAP50-95): 100%|██████████| 2/2 [00:01<00:00,  1.94it/s]"
          ]
        },
        {
          "output_type": "stream",
          "name": "stdout",
          "text": [
            "                   all         47        387      0.158      0.259      0.116     0.0365\n"
          ]
        },
        {
          "output_type": "stream",
          "name": "stderr",
          "text": [
            "\n"
          ]
        },
        {
          "output_type": "stream",
          "name": "stdout",
          "text": [
            "\n",
            "      Epoch    GPU_mem   box_loss   cls_loss   dfl_loss  Instances       Size\n"
          ]
        },
        {
          "output_type": "stream",
          "name": "stderr",
          "text": [
            "     13/120      11.9G      2.318       2.18      1.752         67        800: 100%|██████████| 40/40 [00:20<00:00,  2.00it/s]\n",
            "                 Class     Images  Instances      Box(P          R      mAP50  mAP50-95): 100%|██████████| 2/2 [00:00<00:00,  2.67it/s]"
          ]
        },
        {
          "output_type": "stream",
          "name": "stdout",
          "text": [
            "                   all         47        387      0.197      0.205      0.127     0.0451\n"
          ]
        },
        {
          "output_type": "stream",
          "name": "stderr",
          "text": [
            "\n"
          ]
        },
        {
          "output_type": "stream",
          "name": "stdout",
          "text": [
            "\n",
            "      Epoch    GPU_mem   box_loss   cls_loss   dfl_loss  Instances       Size\n"
          ]
        },
        {
          "output_type": "stream",
          "name": "stderr",
          "text": [
            "     14/120      11.9G      2.245      2.053       1.75        109        800: 100%|██████████| 40/40 [00:20<00:00,  1.98it/s]\n",
            "                 Class     Images  Instances      Box(P          R      mAP50  mAP50-95): 100%|██████████| 2/2 [00:01<00:00,  1.92it/s]"
          ]
        },
        {
          "output_type": "stream",
          "name": "stdout",
          "text": [
            "                   all         47        387       0.16      0.333       0.13     0.0407\n"
          ]
        },
        {
          "output_type": "stream",
          "name": "stderr",
          "text": [
            "\n"
          ]
        },
        {
          "output_type": "stream",
          "name": "stdout",
          "text": [
            "\n",
            "      Epoch    GPU_mem   box_loss   cls_loss   dfl_loss  Instances       Size\n"
          ]
        },
        {
          "output_type": "stream",
          "name": "stderr",
          "text": [
            "     15/120      11.9G      2.235      2.199      1.799        340        800: 100%|██████████| 40/40 [00:19<00:00,  2.05it/s]\n",
            "                 Class     Images  Instances      Box(P          R      mAP50  mAP50-95): 100%|██████████| 2/2 [00:00<00:00,  3.31it/s]"
          ]
        },
        {
          "output_type": "stream",
          "name": "stdout",
          "text": [
            "                   all         47        387      0.182      0.288      0.179     0.0698\n"
          ]
        },
        {
          "output_type": "stream",
          "name": "stderr",
          "text": [
            "\n"
          ]
        },
        {
          "output_type": "stream",
          "name": "stdout",
          "text": [
            "\n",
            "      Epoch    GPU_mem   box_loss   cls_loss   dfl_loss  Instances       Size\n"
          ]
        },
        {
          "output_type": "stream",
          "name": "stderr",
          "text": [
            "     16/120      11.9G      2.256      2.153      1.755         80        800: 100%|██████████| 40/40 [00:20<00:00,  1.91it/s]\n",
            "                 Class     Images  Instances      Box(P          R      mAP50  mAP50-95): 100%|██████████| 2/2 [00:00<00:00,  2.44it/s]"
          ]
        },
        {
          "output_type": "stream",
          "name": "stdout",
          "text": [
            "                   all         47        387      0.178      0.136      0.122     0.0526\n"
          ]
        },
        {
          "output_type": "stream",
          "name": "stderr",
          "text": [
            "\n"
          ]
        },
        {
          "output_type": "stream",
          "name": "stdout",
          "text": [
            "\n",
            "      Epoch    GPU_mem   box_loss   cls_loss   dfl_loss  Instances       Size\n"
          ]
        },
        {
          "output_type": "stream",
          "name": "stderr",
          "text": [
            "     17/120        12G      2.281      2.084       1.75        114        800: 100%|██████████| 40/40 [00:19<00:00,  2.03it/s]\n",
            "                 Class     Images  Instances      Box(P          R      mAP50  mAP50-95): 100%|██████████| 2/2 [00:00<00:00,  2.54it/s]"
          ]
        },
        {
          "output_type": "stream",
          "name": "stdout",
          "text": [
            "                   all         47        387      0.168      0.296      0.127     0.0445\n"
          ]
        },
        {
          "output_type": "stream",
          "name": "stderr",
          "text": [
            "\n"
          ]
        },
        {
          "output_type": "stream",
          "name": "stdout",
          "text": [
            "\n",
            "      Epoch    GPU_mem   box_loss   cls_loss   dfl_loss  Instances       Size\n"
          ]
        },
        {
          "output_type": "stream",
          "name": "stderr",
          "text": [
            "     18/120        12G      2.216      2.108      1.748        388        800: 100%|██████████| 40/40 [00:22<00:00,  1.79it/s]\n",
            "                 Class     Images  Instances      Box(P          R      mAP50  mAP50-95): 100%|██████████| 2/2 [00:00<00:00,  2.79it/s]"
          ]
        },
        {
          "output_type": "stream",
          "name": "stdout",
          "text": [
            "                   all         47        387      0.202      0.251      0.169     0.0591\n"
          ]
        },
        {
          "output_type": "stream",
          "name": "stderr",
          "text": [
            "\n"
          ]
        },
        {
          "output_type": "stream",
          "name": "stdout",
          "text": [
            "\n",
            "      Epoch    GPU_mem   box_loss   cls_loss   dfl_loss  Instances       Size\n"
          ]
        },
        {
          "output_type": "stream",
          "name": "stderr",
          "text": [
            "     19/120        12G      2.239      2.088      1.727        149        800: 100%|██████████| 40/40 [00:19<00:00,  2.03it/s]\n",
            "                 Class     Images  Instances      Box(P          R      mAP50  mAP50-95): 100%|██████████| 2/2 [00:00<00:00,  3.01it/s]\n"
          ]
        },
        {
          "output_type": "stream",
          "name": "stdout",
          "text": [
            "                   all         47        387      0.153      0.144     0.0956     0.0332\n",
            "\n",
            "      Epoch    GPU_mem   box_loss   cls_loss   dfl_loss  Instances       Size\n"
          ]
        },
        {
          "output_type": "stream",
          "name": "stderr",
          "text": [
            "     20/120        12G      2.268      2.082      1.729        294        800: 100%|██████████| 40/40 [00:20<00:00,  1.94it/s]\n",
            "                 Class     Images  Instances      Box(P          R      mAP50  mAP50-95): 100%|██████████| 2/2 [00:00<00:00,  2.82it/s]"
          ]
        },
        {
          "output_type": "stream",
          "name": "stdout",
          "text": [
            "                   all         47        387      0.213      0.229      0.158     0.0601\n"
          ]
        },
        {
          "output_type": "stream",
          "name": "stderr",
          "text": [
            "\n"
          ]
        },
        {
          "output_type": "stream",
          "name": "stdout",
          "text": [
            "\n",
            "      Epoch    GPU_mem   box_loss   cls_loss   dfl_loss  Instances       Size\n"
          ]
        },
        {
          "output_type": "stream",
          "name": "stderr",
          "text": [
            "     21/120        12G      2.201      2.049      1.743        134        800: 100%|██████████| 40/40 [00:19<00:00,  2.07it/s]\n",
            "                 Class     Images  Instances      Box(P          R      mAP50  mAP50-95): 100%|██████████| 2/2 [00:00<00:00,  2.55it/s]"
          ]
        },
        {
          "output_type": "stream",
          "name": "stdout",
          "text": [
            "                   all         47        387       0.18       0.25      0.135     0.0413\n"
          ]
        },
        {
          "output_type": "stream",
          "name": "stderr",
          "text": [
            "\n"
          ]
        },
        {
          "output_type": "stream",
          "name": "stdout",
          "text": [
            "\n",
            "      Epoch    GPU_mem   box_loss   cls_loss   dfl_loss  Instances       Size\n"
          ]
        },
        {
          "output_type": "stream",
          "name": "stderr",
          "text": [
            "     22/120        12G      2.204      2.084        1.7        253        800: 100%|██████████| 40/40 [00:20<00:00,  1.95it/s]\n",
            "                 Class     Images  Instances      Box(P          R      mAP50  mAP50-95): 100%|██████████| 2/2 [00:00<00:00,  3.11it/s]"
          ]
        },
        {
          "output_type": "stream",
          "name": "stdout",
          "text": [
            "                   all         47        387      0.187      0.274      0.139     0.0536\n"
          ]
        },
        {
          "output_type": "stream",
          "name": "stderr",
          "text": [
            "\n"
          ]
        },
        {
          "output_type": "stream",
          "name": "stdout",
          "text": [
            "\n",
            "      Epoch    GPU_mem   box_loss   cls_loss   dfl_loss  Instances       Size\n"
          ]
        },
        {
          "output_type": "stream",
          "name": "stderr",
          "text": [
            "     23/120      14.4G      2.171      2.048      1.727        145        800: 100%|██████████| 40/40 [00:19<00:00,  2.07it/s]\n",
            "                 Class     Images  Instances      Box(P          R      mAP50  mAP50-95): 100%|██████████| 2/2 [00:00<00:00,  2.40it/s]"
          ]
        },
        {
          "output_type": "stream",
          "name": "stdout",
          "text": [
            "                   all         47        387      0.136      0.332      0.134     0.0391\n"
          ]
        },
        {
          "output_type": "stream",
          "name": "stderr",
          "text": [
            "\n"
          ]
        },
        {
          "output_type": "stream",
          "name": "stdout",
          "text": [
            "\n",
            "      Epoch    GPU_mem   box_loss   cls_loss   dfl_loss  Instances       Size\n"
          ]
        },
        {
          "output_type": "stream",
          "name": "stderr",
          "text": [
            "     24/120        10G      2.209      2.022      1.707        115        800: 100%|██████████| 40/40 [00:19<00:00,  2.03it/s]\n",
            "                 Class     Images  Instances      Box(P          R      mAP50  mAP50-95): 100%|██████████| 2/2 [00:00<00:00,  2.68it/s]"
          ]
        },
        {
          "output_type": "stream",
          "name": "stdout",
          "text": [
            "                   all         47        387      0.177      0.303      0.129     0.0404\n"
          ]
        },
        {
          "output_type": "stream",
          "name": "stderr",
          "text": [
            "\n"
          ]
        },
        {
          "output_type": "stream",
          "name": "stdout",
          "text": [
            "\n",
            "      Epoch    GPU_mem   box_loss   cls_loss   dfl_loss  Instances       Size\n"
          ]
        },
        {
          "output_type": "stream",
          "name": "stderr",
          "text": [
            "     25/120        10G      2.143       1.95      1.686         93        800: 100%|██████████| 40/40 [00:19<00:00,  2.07it/s]\n",
            "                 Class     Images  Instances      Box(P          R      mAP50  mAP50-95): 100%|██████████| 2/2 [00:00<00:00,  2.04it/s]"
          ]
        },
        {
          "output_type": "stream",
          "name": "stdout",
          "text": [
            "                   all         47        387      0.248      0.316       0.17     0.0529\n"
          ]
        },
        {
          "output_type": "stream",
          "name": "stderr",
          "text": [
            "\n"
          ]
        },
        {
          "output_type": "stream",
          "name": "stdout",
          "text": [
            "\n",
            "      Epoch    GPU_mem   box_loss   cls_loss   dfl_loss  Instances       Size\n"
          ]
        },
        {
          "output_type": "stream",
          "name": "stderr",
          "text": [
            "     26/120        10G      2.206      1.971      1.677        492        800: 100%|██████████| 40/40 [00:20<00:00,  1.99it/s]\n",
            "                 Class     Images  Instances      Box(P          R      mAP50  mAP50-95): 100%|██████████| 2/2 [00:00<00:00,  2.74it/s]"
          ]
        },
        {
          "output_type": "stream",
          "name": "stdout",
          "text": [
            "                   all         47        387      0.174      0.356      0.147     0.0518\n"
          ]
        },
        {
          "output_type": "stream",
          "name": "stderr",
          "text": [
            "\n"
          ]
        },
        {
          "output_type": "stream",
          "name": "stdout",
          "text": [
            "\n",
            "      Epoch    GPU_mem   box_loss   cls_loss   dfl_loss  Instances       Size\n"
          ]
        },
        {
          "output_type": "stream",
          "name": "stderr",
          "text": [
            "     27/120        10G       2.21      1.912      1.665        204        800: 100%|██████████| 40/40 [00:20<00:00,  1.96it/s]\n",
            "                 Class     Images  Instances      Box(P          R      mAP50  mAP50-95): 100%|██████████| 2/2 [00:00<00:00,  2.17it/s]"
          ]
        },
        {
          "output_type": "stream",
          "name": "stdout",
          "text": [
            "                   all         47        387      0.183      0.388       0.18      0.063\n"
          ]
        },
        {
          "output_type": "stream",
          "name": "stderr",
          "text": [
            "\n"
          ]
        },
        {
          "output_type": "stream",
          "name": "stdout",
          "text": [
            "\n",
            "      Epoch    GPU_mem   box_loss   cls_loss   dfl_loss  Instances       Size\n"
          ]
        },
        {
          "output_type": "stream",
          "name": "stderr",
          "text": [
            "     28/120        10G      2.175       1.97      1.688        271        800: 100%|██████████| 40/40 [00:20<00:00,  1.92it/s]\n",
            "                 Class     Images  Instances      Box(P          R      mAP50  mAP50-95): 100%|██████████| 2/2 [00:00<00:00,  3.47it/s]"
          ]
        },
        {
          "output_type": "stream",
          "name": "stdout",
          "text": [
            "                   all         47        387      0.208       0.34      0.188     0.0653\n"
          ]
        },
        {
          "output_type": "stream",
          "name": "stderr",
          "text": [
            "\n"
          ]
        },
        {
          "output_type": "stream",
          "name": "stdout",
          "text": [
            "\n",
            "      Epoch    GPU_mem   box_loss   cls_loss   dfl_loss  Instances       Size\n"
          ]
        },
        {
          "output_type": "stream",
          "name": "stderr",
          "text": [
            "     29/120        10G      2.177      2.006      1.709         37        800: 100%|██████████| 40/40 [00:19<00:00,  2.07it/s]\n",
            "                 Class     Images  Instances      Box(P          R      mAP50  mAP50-95): 100%|██████████| 2/2 [00:01<00:00,  1.99it/s]"
          ]
        },
        {
          "output_type": "stream",
          "name": "stdout",
          "text": [
            "                   all         47        387      0.272       0.29      0.179     0.0745\n"
          ]
        },
        {
          "output_type": "stream",
          "name": "stderr",
          "text": [
            "\n"
          ]
        },
        {
          "output_type": "stream",
          "name": "stdout",
          "text": [
            "\n",
            "      Epoch    GPU_mem   box_loss   cls_loss   dfl_loss  Instances       Size\n"
          ]
        },
        {
          "output_type": "stream",
          "name": "stderr",
          "text": [
            "     30/120        10G      2.147      1.888      1.654         93        800: 100%|██████████| 40/40 [00:19<00:00,  2.02it/s]\n",
            "                 Class     Images  Instances      Box(P          R      mAP50  mAP50-95): 100%|██████████| 2/2 [00:00<00:00,  2.54it/s]"
          ]
        },
        {
          "output_type": "stream",
          "name": "stdout",
          "text": [
            "                   all         47        387      0.225      0.312       0.17     0.0607\n"
          ]
        },
        {
          "output_type": "stream",
          "name": "stderr",
          "text": [
            "\n"
          ]
        },
        {
          "output_type": "stream",
          "name": "stdout",
          "text": [
            "\n",
            "      Epoch    GPU_mem   box_loss   cls_loss   dfl_loss  Instances       Size\n"
          ]
        },
        {
          "output_type": "stream",
          "name": "stderr",
          "text": [
            "     31/120        10G       2.14      1.886      1.664        176        800: 100%|██████████| 40/40 [00:20<00:00,  1.97it/s]\n",
            "                 Class     Images  Instances      Box(P          R      mAP50  mAP50-95): 100%|██████████| 2/2 [00:00<00:00,  2.19it/s]"
          ]
        },
        {
          "output_type": "stream",
          "name": "stdout",
          "text": [
            "                   all         47        387      0.244       0.32      0.218     0.0716\n"
          ]
        },
        {
          "output_type": "stream",
          "name": "stderr",
          "text": [
            "\n"
          ]
        },
        {
          "output_type": "stream",
          "name": "stdout",
          "text": [
            "\n",
            "      Epoch    GPU_mem   box_loss   cls_loss   dfl_loss  Instances       Size\n"
          ]
        },
        {
          "output_type": "stream",
          "name": "stderr",
          "text": [
            "     32/120        10G      2.172      2.007      1.669        106        800: 100%|██████████| 40/40 [00:19<00:00,  2.01it/s]\n",
            "                 Class     Images  Instances      Box(P          R      mAP50  mAP50-95): 100%|██████████| 2/2 [00:00<00:00,  3.07it/s]"
          ]
        },
        {
          "output_type": "stream",
          "name": "stdout",
          "text": [
            "                   all         47        387      0.198      0.441       0.19     0.0754\n"
          ]
        },
        {
          "output_type": "stream",
          "name": "stderr",
          "text": [
            "\n"
          ]
        },
        {
          "output_type": "stream",
          "name": "stdout",
          "text": [
            "\n",
            "      Epoch    GPU_mem   box_loss   cls_loss   dfl_loss  Instances       Size\n"
          ]
        },
        {
          "output_type": "stream",
          "name": "stderr",
          "text": [
            "     33/120        10G      2.143      1.949      1.651        124        800: 100%|██████████| 40/40 [00:20<00:00,  1.95it/s]\n",
            "                 Class     Images  Instances      Box(P          R      mAP50  mAP50-95): 100%|██████████| 2/2 [00:00<00:00,  2.14it/s]"
          ]
        },
        {
          "output_type": "stream",
          "name": "stdout",
          "text": [
            "                   all         47        387      0.198      0.442      0.223     0.0745\n"
          ]
        },
        {
          "output_type": "stream",
          "name": "stderr",
          "text": [
            "\n"
          ]
        },
        {
          "output_type": "stream",
          "name": "stdout",
          "text": [
            "\n",
            "      Epoch    GPU_mem   box_loss   cls_loss   dfl_loss  Instances       Size\n"
          ]
        },
        {
          "output_type": "stream",
          "name": "stderr",
          "text": [
            "     34/120        10G      2.157      1.935      1.677        125        800: 100%|██████████| 40/40 [00:19<00:00,  2.05it/s]\n",
            "                 Class     Images  Instances      Box(P          R      mAP50  mAP50-95): 100%|██████████| 2/2 [00:00<00:00,  2.91it/s]"
          ]
        },
        {
          "output_type": "stream",
          "name": "stdout",
          "text": [
            "                   all         47        387       0.23      0.317      0.201     0.0712\n"
          ]
        },
        {
          "output_type": "stream",
          "name": "stderr",
          "text": [
            "\n"
          ]
        },
        {
          "output_type": "stream",
          "name": "stdout",
          "text": [
            "\n",
            "      Epoch    GPU_mem   box_loss   cls_loss   dfl_loss  Instances       Size\n"
          ]
        },
        {
          "output_type": "stream",
          "name": "stderr",
          "text": [
            "     35/120        10G      2.208      1.906      1.632        145        800: 100%|██████████| 40/40 [00:21<00:00,  1.89it/s]\n",
            "                 Class     Images  Instances      Box(P          R      mAP50  mAP50-95): 100%|██████████| 2/2 [00:00<00:00,  2.39it/s]"
          ]
        },
        {
          "output_type": "stream",
          "name": "stdout",
          "text": [
            "                   all         47        387      0.333      0.281      0.232     0.0759\n"
          ]
        },
        {
          "output_type": "stream",
          "name": "stderr",
          "text": [
            "\n"
          ]
        },
        {
          "output_type": "stream",
          "name": "stdout",
          "text": [
            "\n",
            "      Epoch    GPU_mem   box_loss   cls_loss   dfl_loss  Instances       Size\n"
          ]
        },
        {
          "output_type": "stream",
          "name": "stderr",
          "text": [
            "     36/120        10G       2.18      1.921      1.654         82        800: 100%|██████████| 40/40 [00:19<00:00,  2.08it/s]\n",
            "                 Class     Images  Instances      Box(P          R      mAP50  mAP50-95): 100%|██████████| 2/2 [00:00<00:00,  2.61it/s]"
          ]
        },
        {
          "output_type": "stream",
          "name": "stdout",
          "text": [
            "                   all         47        387      0.255      0.325      0.212     0.0604\n"
          ]
        },
        {
          "output_type": "stream",
          "name": "stderr",
          "text": [
            "\n"
          ]
        },
        {
          "output_type": "stream",
          "name": "stdout",
          "text": [
            "\n",
            "      Epoch    GPU_mem   box_loss   cls_loss   dfl_loss  Instances       Size\n"
          ]
        },
        {
          "output_type": "stream",
          "name": "stderr",
          "text": [
            "     37/120        10G      2.149      1.937      1.669        310        800: 100%|██████████| 40/40 [00:21<00:00,  1.87it/s]\n",
            "                 Class     Images  Instances      Box(P          R      mAP50  mAP50-95): 100%|██████████| 2/2 [00:00<00:00,  2.50it/s]"
          ]
        },
        {
          "output_type": "stream",
          "name": "stdout",
          "text": [
            "                   all         47        387      0.271       0.29        0.2     0.0602\n"
          ]
        },
        {
          "output_type": "stream",
          "name": "stderr",
          "text": [
            "\n"
          ]
        },
        {
          "output_type": "stream",
          "name": "stdout",
          "text": [
            "\n",
            "      Epoch    GPU_mem   box_loss   cls_loss   dfl_loss  Instances       Size\n"
          ]
        },
        {
          "output_type": "stream",
          "name": "stderr",
          "text": [
            "     38/120        10G      2.174      1.934      1.678        123        800: 100%|██████████| 40/40 [00:21<00:00,  1.86it/s]\n",
            "                 Class     Images  Instances      Box(P          R      mAP50  mAP50-95): 100%|██████████| 2/2 [00:00<00:00,  2.04it/s]"
          ]
        },
        {
          "output_type": "stream",
          "name": "stdout",
          "text": [
            "                   all         47        387      0.277      0.333       0.23     0.0779\n"
          ]
        },
        {
          "output_type": "stream",
          "name": "stderr",
          "text": [
            "\n"
          ]
        },
        {
          "output_type": "stream",
          "name": "stdout",
          "text": [
            "\n",
            "      Epoch    GPU_mem   box_loss   cls_loss   dfl_loss  Instances       Size\n"
          ]
        },
        {
          "output_type": "stream",
          "name": "stderr",
          "text": [
            "     39/120        10G      2.116      1.808      1.641         98        800: 100%|██████████| 40/40 [00:19<00:00,  2.01it/s]\n",
            "                 Class     Images  Instances      Box(P          R      mAP50  mAP50-95): 100%|██████████| 2/2 [00:00<00:00,  2.76it/s]"
          ]
        },
        {
          "output_type": "stream",
          "name": "stdout",
          "text": [
            "                   all         47        387      0.232      0.424      0.215     0.0728\n"
          ]
        },
        {
          "output_type": "stream",
          "name": "stderr",
          "text": [
            "\n"
          ]
        },
        {
          "output_type": "stream",
          "name": "stdout",
          "text": [
            "\n",
            "      Epoch    GPU_mem   box_loss   cls_loss   dfl_loss  Instances       Size\n"
          ]
        },
        {
          "output_type": "stream",
          "name": "stderr",
          "text": [
            "     40/120        10G      2.142      1.881      1.653         72        800: 100%|██████████| 40/40 [00:19<00:00,  2.06it/s]\n",
            "                 Class     Images  Instances      Box(P          R      mAP50  mAP50-95): 100%|██████████| 2/2 [00:00<00:00,  2.06it/s]"
          ]
        },
        {
          "output_type": "stream",
          "name": "stdout",
          "text": [
            "                   all         47        387      0.212      0.475      0.216     0.0758\n"
          ]
        },
        {
          "output_type": "stream",
          "name": "stderr",
          "text": [
            "\n"
          ]
        },
        {
          "output_type": "stream",
          "name": "stdout",
          "text": [
            "\n",
            "      Epoch    GPU_mem   box_loss   cls_loss   dfl_loss  Instances       Size\n"
          ]
        },
        {
          "output_type": "stream",
          "name": "stderr",
          "text": [
            "     41/120      10.1G      2.122      1.865      1.636        112        800: 100%|██████████| 40/40 [00:20<00:00,  1.97it/s]\n",
            "                 Class     Images  Instances      Box(P          R      mAP50  mAP50-95): 100%|██████████| 2/2 [00:00<00:00,  3.21it/s]"
          ]
        },
        {
          "output_type": "stream",
          "name": "stdout",
          "text": [
            "                   all         47        387      0.206      0.492      0.238     0.0788\n"
          ]
        },
        {
          "output_type": "stream",
          "name": "stderr",
          "text": [
            "\n"
          ]
        },
        {
          "output_type": "stream",
          "name": "stdout",
          "text": [
            "\n",
            "      Epoch    GPU_mem   box_loss   cls_loss   dfl_loss  Instances       Size\n"
          ]
        },
        {
          "output_type": "stream",
          "name": "stderr",
          "text": [
            "     42/120      10.1G      2.111      1.847      1.646         67        800: 100%|██████████| 40/40 [00:19<00:00,  2.08it/s]\n",
            "                 Class     Images  Instances      Box(P          R      mAP50  mAP50-95): 100%|██████████| 2/2 [00:01<00:00,  1.74it/s]"
          ]
        },
        {
          "output_type": "stream",
          "name": "stdout",
          "text": [
            "                   all         47        387      0.244      0.425      0.219     0.0849\n"
          ]
        },
        {
          "output_type": "stream",
          "name": "stderr",
          "text": [
            "\n"
          ]
        },
        {
          "output_type": "stream",
          "name": "stdout",
          "text": [
            "\n",
            "      Epoch    GPU_mem   box_loss   cls_loss   dfl_loss  Instances       Size\n"
          ]
        },
        {
          "output_type": "stream",
          "name": "stderr",
          "text": [
            "     43/120      10.1G      2.099      1.857      1.616         47        800: 100%|██████████| 40/40 [00:19<00:00,  2.05it/s]\n",
            "                 Class     Images  Instances      Box(P          R      mAP50  mAP50-95): 100%|██████████| 2/2 [00:00<00:00,  2.43it/s]"
          ]
        },
        {
          "output_type": "stream",
          "name": "stdout",
          "text": [
            "                   all         47        387      0.223      0.345      0.199      0.065\n"
          ]
        },
        {
          "output_type": "stream",
          "name": "stderr",
          "text": [
            "\n"
          ]
        },
        {
          "output_type": "stream",
          "name": "stdout",
          "text": [
            "\n",
            "      Epoch    GPU_mem   box_loss   cls_loss   dfl_loss  Instances       Size\n"
          ]
        },
        {
          "output_type": "stream",
          "name": "stderr",
          "text": [
            "     44/120      10.1G      2.133      1.831      1.583         60        800: 100%|██████████| 40/40 [00:19<00:00,  2.07it/s]\n",
            "                 Class     Images  Instances      Box(P          R      mAP50  mAP50-95): 100%|██████████| 2/2 [00:01<00:00,  1.91it/s]"
          ]
        },
        {
          "output_type": "stream",
          "name": "stdout",
          "text": [
            "                   all         47        387      0.252      0.466      0.296      0.109\n"
          ]
        },
        {
          "output_type": "stream",
          "name": "stderr",
          "text": [
            "\n"
          ]
        },
        {
          "output_type": "stream",
          "name": "stdout",
          "text": [
            "\n",
            "      Epoch    GPU_mem   box_loss   cls_loss   dfl_loss  Instances       Size\n"
          ]
        },
        {
          "output_type": "stream",
          "name": "stderr",
          "text": [
            "     45/120      10.1G      2.091      1.794      1.622        242        800: 100%|██████████| 40/40 [00:19<00:00,  2.03it/s]\n",
            "                 Class     Images  Instances      Box(P          R      mAP50  mAP50-95): 100%|██████████| 2/2 [00:00<00:00,  2.75it/s]"
          ]
        },
        {
          "output_type": "stream",
          "name": "stdout",
          "text": [
            "                   all         47        387      0.333      0.388      0.301      0.102\n"
          ]
        },
        {
          "output_type": "stream",
          "name": "stderr",
          "text": [
            "\n"
          ]
        },
        {
          "output_type": "stream",
          "name": "stdout",
          "text": [
            "\n",
            "      Epoch    GPU_mem   box_loss   cls_loss   dfl_loss  Instances       Size\n"
          ]
        },
        {
          "output_type": "stream",
          "name": "stderr",
          "text": [
            "     46/120      12.4G      2.103      1.787      1.609        116        800: 100%|██████████| 40/40 [00:19<00:00,  2.06it/s]\n",
            "                 Class     Images  Instances      Box(P          R      mAP50  mAP50-95): 100%|██████████| 2/2 [00:00<00:00,  2.05it/s]"
          ]
        },
        {
          "output_type": "stream",
          "name": "stdout",
          "text": [
            "                   all         47        387      0.257      0.398      0.238     0.0772\n"
          ]
        },
        {
          "output_type": "stream",
          "name": "stderr",
          "text": [
            "\n"
          ]
        },
        {
          "output_type": "stream",
          "name": "stdout",
          "text": [
            "\n",
            "      Epoch    GPU_mem   box_loss   cls_loss   dfl_loss  Instances       Size\n"
          ]
        },
        {
          "output_type": "stream",
          "name": "stderr",
          "text": [
            "     47/120      12.4G      2.121       1.79      1.596         47        800: 100%|██████████| 40/40 [00:19<00:00,  2.05it/s]\n",
            "                 Class     Images  Instances      Box(P          R      mAP50  mAP50-95): 100%|██████████| 2/2 [00:00<00:00,  2.64it/s]"
          ]
        },
        {
          "output_type": "stream",
          "name": "stdout",
          "text": [
            "                   all         47        387        0.3      0.406      0.288      0.108\n"
          ]
        },
        {
          "output_type": "stream",
          "name": "stderr",
          "text": [
            "\n"
          ]
        },
        {
          "output_type": "stream",
          "name": "stdout",
          "text": [
            "\n",
            "      Epoch    GPU_mem   box_loss   cls_loss   dfl_loss  Instances       Size\n"
          ]
        },
        {
          "output_type": "stream",
          "name": "stderr",
          "text": [
            "     48/120      12.4G      2.125      1.837      1.606         69        800: 100%|██████████| 40/40 [00:21<00:00,  1.90it/s]\n",
            "                 Class     Images  Instances      Box(P          R      mAP50  mAP50-95): 100%|██████████| 2/2 [00:01<00:00,  1.74it/s]"
          ]
        },
        {
          "output_type": "stream",
          "name": "stdout",
          "text": [
            "                   all         47        387       0.29      0.396      0.286      0.113\n"
          ]
        },
        {
          "output_type": "stream",
          "name": "stderr",
          "text": [
            "\n"
          ]
        },
        {
          "output_type": "stream",
          "name": "stdout",
          "text": [
            "\n",
            "      Epoch    GPU_mem   box_loss   cls_loss   dfl_loss  Instances       Size\n"
          ]
        },
        {
          "output_type": "stream",
          "name": "stderr",
          "text": [
            "     49/120      12.5G      2.117      1.756      1.583         75        800: 100%|██████████| 40/40 [00:19<00:00,  2.08it/s]\n",
            "                 Class     Images  Instances      Box(P          R      mAP50  mAP50-95): 100%|██████████| 2/2 [00:00<00:00,  2.74it/s]"
          ]
        },
        {
          "output_type": "stream",
          "name": "stdout",
          "text": [
            "                   all         47        387      0.266      0.378      0.227     0.0809\n"
          ]
        },
        {
          "output_type": "stream",
          "name": "stderr",
          "text": [
            "\n"
          ]
        },
        {
          "output_type": "stream",
          "name": "stdout",
          "text": [
            "\n",
            "      Epoch    GPU_mem   box_loss   cls_loss   dfl_loss  Instances       Size\n"
          ]
        },
        {
          "output_type": "stream",
          "name": "stderr",
          "text": [
            "     50/120      12.5G       2.09      1.803      1.635        151        800: 100%|██████████| 40/40 [00:19<00:00,  2.05it/s]\n",
            "                 Class     Images  Instances      Box(P          R      mAP50  mAP50-95): 100%|██████████| 2/2 [00:01<00:00,  1.81it/s]"
          ]
        },
        {
          "output_type": "stream",
          "name": "stdout",
          "text": [
            "                   all         47        387      0.262      0.447      0.266     0.0944\n"
          ]
        },
        {
          "output_type": "stream",
          "name": "stderr",
          "text": [
            "\n"
          ]
        },
        {
          "output_type": "stream",
          "name": "stdout",
          "text": [
            "\n",
            "      Epoch    GPU_mem   box_loss   cls_loss   dfl_loss  Instances       Size\n"
          ]
        },
        {
          "output_type": "stream",
          "name": "stderr",
          "text": [
            "     51/120      12.5G      2.132      1.785      1.595        129        800: 100%|██████████| 40/40 [00:19<00:00,  2.09it/s]\n",
            "                 Class     Images  Instances      Box(P          R      mAP50  mAP50-95): 100%|██████████| 2/2 [00:00<00:00,  2.55it/s]"
          ]
        },
        {
          "output_type": "stream",
          "name": "stdout",
          "text": [
            "                   all         47        387      0.283      0.474      0.304      0.123\n"
          ]
        },
        {
          "output_type": "stream",
          "name": "stderr",
          "text": [
            "\n"
          ]
        },
        {
          "output_type": "stream",
          "name": "stdout",
          "text": [
            "\n",
            "      Epoch    GPU_mem   box_loss   cls_loss   dfl_loss  Instances       Size\n"
          ]
        },
        {
          "output_type": "stream",
          "name": "stderr",
          "text": [
            "     52/120      12.5G      2.119      1.765      1.613        283        800: 100%|██████████| 40/40 [00:20<00:00,  1.95it/s]\n",
            "                 Class     Images  Instances      Box(P          R      mAP50  mAP50-95): 100%|██████████| 2/2 [00:01<00:00,  1.91it/s]"
          ]
        },
        {
          "output_type": "stream",
          "name": "stdout",
          "text": [
            "                   all         47        387      0.249      0.434      0.255      0.114\n"
          ]
        },
        {
          "output_type": "stream",
          "name": "stderr",
          "text": [
            "\n"
          ]
        },
        {
          "output_type": "stream",
          "name": "stdout",
          "text": [
            "\n",
            "      Epoch    GPU_mem   box_loss   cls_loss   dfl_loss  Instances       Size\n"
          ]
        },
        {
          "output_type": "stream",
          "name": "stderr",
          "text": [
            "     53/120      12.5G      2.126      1.793        1.6        153        800: 100%|██████████| 40/40 [00:19<00:00,  2.09it/s]\n",
            "                 Class     Images  Instances      Box(P          R      mAP50  mAP50-95): 100%|██████████| 2/2 [00:00<00:00,  2.69it/s]"
          ]
        },
        {
          "output_type": "stream",
          "name": "stdout",
          "text": [
            "                   all         47        387      0.313      0.436      0.339       0.13\n"
          ]
        },
        {
          "output_type": "stream",
          "name": "stderr",
          "text": [
            "\n"
          ]
        },
        {
          "output_type": "stream",
          "name": "stdout",
          "text": [
            "\n",
            "      Epoch    GPU_mem   box_loss   cls_loss   dfl_loss  Instances       Size\n"
          ]
        },
        {
          "output_type": "stream",
          "name": "stderr",
          "text": [
            "     54/120      12.5G      2.083       1.75      1.568        298        800: 100%|██████████| 40/40 [00:20<00:00,  1.91it/s]\n",
            "                 Class     Images  Instances      Box(P          R      mAP50  mAP50-95): 100%|██████████| 2/2 [00:00<00:00,  3.14it/s]"
          ]
        },
        {
          "output_type": "stream",
          "name": "stdout",
          "text": [
            "                   all         47        387      0.275      0.457      0.271      0.104\n"
          ]
        },
        {
          "output_type": "stream",
          "name": "stderr",
          "text": [
            "\n"
          ]
        },
        {
          "output_type": "stream",
          "name": "stdout",
          "text": [
            "\n",
            "      Epoch    GPU_mem   box_loss   cls_loss   dfl_loss  Instances       Size\n"
          ]
        },
        {
          "output_type": "stream",
          "name": "stderr",
          "text": [
            "     55/120      12.6G      2.119      1.722      1.564        169        800: 100%|██████████| 40/40 [00:19<00:00,  2.06it/s]\n",
            "                 Class     Images  Instances      Box(P          R      mAP50  mAP50-95): 100%|██████████| 2/2 [00:00<00:00,  2.96it/s]"
          ]
        },
        {
          "output_type": "stream",
          "name": "stdout",
          "text": [
            "                   all         47        387      0.297      0.394      0.294      0.116\n"
          ]
        },
        {
          "output_type": "stream",
          "name": "stderr",
          "text": [
            "\n"
          ]
        },
        {
          "output_type": "stream",
          "name": "stdout",
          "text": [
            "\n",
            "      Epoch    GPU_mem   box_loss   cls_loss   dfl_loss  Instances       Size\n"
          ]
        },
        {
          "output_type": "stream",
          "name": "stderr",
          "text": [
            "     56/120      12.6G       2.06       1.73      1.592        278        800: 100%|██████████| 40/40 [00:20<00:00,  1.91it/s]\n",
            "                 Class     Images  Instances      Box(P          R      mAP50  mAP50-95): 100%|██████████| 2/2 [00:00<00:00,  2.92it/s]"
          ]
        },
        {
          "output_type": "stream",
          "name": "stdout",
          "text": [
            "                   all         47        387      0.333      0.411      0.347      0.146\n"
          ]
        },
        {
          "output_type": "stream",
          "name": "stderr",
          "text": [
            "\n"
          ]
        },
        {
          "output_type": "stream",
          "name": "stdout",
          "text": [
            "\n",
            "      Epoch    GPU_mem   box_loss   cls_loss   dfl_loss  Instances       Size\n"
          ]
        },
        {
          "output_type": "stream",
          "name": "stderr",
          "text": [
            "     57/120      12.6G      2.099      1.728      1.574         54        800: 100%|██████████| 40/40 [00:21<00:00,  1.89it/s]\n",
            "                 Class     Images  Instances      Box(P          R      mAP50  mAP50-95): 100%|██████████| 2/2 [00:00<00:00,  3.43it/s]"
          ]
        },
        {
          "output_type": "stream",
          "name": "stdout",
          "text": [
            "                   all         47        387      0.349      0.408      0.312      0.132\n"
          ]
        },
        {
          "output_type": "stream",
          "name": "stderr",
          "text": [
            "\n"
          ]
        },
        {
          "output_type": "stream",
          "name": "stdout",
          "text": [
            "\n",
            "      Epoch    GPU_mem   box_loss   cls_loss   dfl_loss  Instances       Size\n"
          ]
        },
        {
          "output_type": "stream",
          "name": "stderr",
          "text": [
            "     58/120      12.6G      2.028      1.665      1.577        121        800: 100%|██████████| 40/40 [00:20<00:00,  1.98it/s]\n",
            "                 Class     Images  Instances      Box(P          R      mAP50  mAP50-95): 100%|██████████| 2/2 [00:00<00:00,  2.74it/s]"
          ]
        },
        {
          "output_type": "stream",
          "name": "stdout",
          "text": [
            "                   all         47        387      0.293      0.479      0.306      0.133\n"
          ]
        },
        {
          "output_type": "stream",
          "name": "stderr",
          "text": [
            "\n"
          ]
        },
        {
          "output_type": "stream",
          "name": "stdout",
          "text": [
            "\n",
            "      Epoch    GPU_mem   box_loss   cls_loss   dfl_loss  Instances       Size\n"
          ]
        },
        {
          "output_type": "stream",
          "name": "stderr",
          "text": [
            "     59/120      12.6G      2.076      1.727      1.583         52        800: 100%|██████████| 40/40 [00:18<00:00,  2.11it/s]\n",
            "                 Class     Images  Instances      Box(P          R      mAP50  mAP50-95): 100%|██████████| 2/2 [00:00<00:00,  2.49it/s]"
          ]
        },
        {
          "output_type": "stream",
          "name": "stdout",
          "text": [
            "                   all         47        387      0.337      0.439      0.316      0.132\n"
          ]
        },
        {
          "output_type": "stream",
          "name": "stderr",
          "text": [
            "\n"
          ]
        },
        {
          "output_type": "stream",
          "name": "stdout",
          "text": [
            "\n",
            "      Epoch    GPU_mem   box_loss   cls_loss   dfl_loss  Instances       Size\n"
          ]
        },
        {
          "output_type": "stream",
          "name": "stderr",
          "text": [
            "     60/120      12.6G      2.079      1.692      1.568        161        800: 100%|██████████| 40/40 [00:21<00:00,  1.89it/s]\n",
            "                 Class     Images  Instances      Box(P          R      mAP50  mAP50-95): 100%|██████████| 2/2 [00:01<00:00,  1.75it/s]"
          ]
        },
        {
          "output_type": "stream",
          "name": "stdout",
          "text": [
            "                   all         47        387       0.37      0.395      0.306      0.138\n"
          ]
        },
        {
          "output_type": "stream",
          "name": "stderr",
          "text": [
            "\n"
          ]
        },
        {
          "output_type": "stream",
          "name": "stdout",
          "text": [
            "\n",
            "      Epoch    GPU_mem   box_loss   cls_loss   dfl_loss  Instances       Size\n"
          ]
        },
        {
          "output_type": "stream",
          "name": "stderr",
          "text": [
            "     61/120      12.6G      1.985      1.627      1.562         76        800: 100%|██████████| 40/40 [00:18<00:00,  2.14it/s]\n",
            "                 Class     Images  Instances      Box(P          R      mAP50  mAP50-95): 100%|██████████| 2/2 [00:01<00:00,  1.90it/s]"
          ]
        },
        {
          "output_type": "stream",
          "name": "stdout",
          "text": [
            "                   all         47        387      0.292      0.459      0.283      0.108\n"
          ]
        },
        {
          "output_type": "stream",
          "name": "stderr",
          "text": [
            "\n"
          ]
        },
        {
          "output_type": "stream",
          "name": "stdout",
          "text": [
            "\n",
            "      Epoch    GPU_mem   box_loss   cls_loss   dfl_loss  Instances       Size\n"
          ]
        },
        {
          "output_type": "stream",
          "name": "stderr",
          "text": [
            "     62/120      12.7G      2.085        1.7      1.541        191        800: 100%|██████████| 40/40 [00:19<00:00,  2.02it/s]\n",
            "                 Class     Images  Instances      Box(P          R      mAP50  mAP50-95): 100%|██████████| 2/2 [00:00<00:00,  2.55it/s]"
          ]
        },
        {
          "output_type": "stream",
          "name": "stdout",
          "text": [
            "                   all         47        387      0.382      0.436      0.329       0.14\n"
          ]
        },
        {
          "output_type": "stream",
          "name": "stderr",
          "text": [
            "\n"
          ]
        },
        {
          "output_type": "stream",
          "name": "stdout",
          "text": [
            "\n",
            "      Epoch    GPU_mem   box_loss   cls_loss   dfl_loss  Instances       Size\n"
          ]
        },
        {
          "output_type": "stream",
          "name": "stderr",
          "text": [
            "     63/120      12.7G      2.033      1.684      1.571        361        800: 100%|██████████| 40/40 [00:19<00:00,  2.03it/s]\n",
            "                 Class     Images  Instances      Box(P          R      mAP50  mAP50-95): 100%|██████████| 2/2 [00:01<00:00,  1.69it/s]"
          ]
        },
        {
          "output_type": "stream",
          "name": "stdout",
          "text": [
            "                   all         47        387      0.279      0.575      0.318      0.132\n"
          ]
        },
        {
          "output_type": "stream",
          "name": "stderr",
          "text": [
            "\n"
          ]
        },
        {
          "output_type": "stream",
          "name": "stdout",
          "text": [
            "\n",
            "      Epoch    GPU_mem   box_loss   cls_loss   dfl_loss  Instances       Size\n"
          ]
        },
        {
          "output_type": "stream",
          "name": "stderr",
          "text": [
            "     64/120      12.7G      2.052      1.669      1.567        167        800: 100%|██████████| 40/40 [00:19<00:00,  2.08it/s]\n",
            "                 Class     Images  Instances      Box(P          R      mAP50  mAP50-95): 100%|██████████| 2/2 [00:00<00:00,  2.47it/s]"
          ]
        },
        {
          "output_type": "stream",
          "name": "stdout",
          "text": [
            "                   all         47        387      0.378      0.461      0.367      0.161\n"
          ]
        },
        {
          "output_type": "stream",
          "name": "stderr",
          "text": [
            "\n"
          ]
        },
        {
          "output_type": "stream",
          "name": "stdout",
          "text": [
            "\n",
            "      Epoch    GPU_mem   box_loss   cls_loss   dfl_loss  Instances       Size\n"
          ]
        },
        {
          "output_type": "stream",
          "name": "stderr",
          "text": [
            "     65/120      12.7G      2.026      1.671      1.561         74        800: 100%|██████████| 40/40 [00:19<00:00,  2.05it/s]\n",
            "                 Class     Images  Instances      Box(P          R      mAP50  mAP50-95): 100%|██████████| 2/2 [00:01<00:00,  1.62it/s]"
          ]
        },
        {
          "output_type": "stream",
          "name": "stdout",
          "text": [
            "                   all         47        387       0.39       0.44      0.383      0.168\n"
          ]
        },
        {
          "output_type": "stream",
          "name": "stderr",
          "text": [
            "\n"
          ]
        },
        {
          "output_type": "stream",
          "name": "stdout",
          "text": [
            "\n",
            "      Epoch    GPU_mem   box_loss   cls_loss   dfl_loss  Instances       Size\n"
          ]
        },
        {
          "output_type": "stream",
          "name": "stderr",
          "text": [
            "     66/120      12.7G      2.003      1.592      1.526        131        800: 100%|██████████| 40/40 [00:19<00:00,  2.07it/s]\n",
            "                 Class     Images  Instances      Box(P          R      mAP50  mAP50-95): 100%|██████████| 2/2 [00:00<00:00,  3.23it/s]"
          ]
        },
        {
          "output_type": "stream",
          "name": "stdout",
          "text": [
            "                   all         47        387      0.285      0.551      0.309      0.139\n"
          ]
        },
        {
          "output_type": "stream",
          "name": "stderr",
          "text": [
            "\n"
          ]
        },
        {
          "output_type": "stream",
          "name": "stdout",
          "text": [
            "\n",
            "      Epoch    GPU_mem   box_loss   cls_loss   dfl_loss  Instances       Size\n"
          ]
        },
        {
          "output_type": "stream",
          "name": "stderr",
          "text": [
            "     67/120      12.7G      2.004      1.622       1.56        193        800: 100%|██████████| 40/40 [00:21<00:00,  1.90it/s]\n",
            "                 Class     Images  Instances      Box(P          R      mAP50  mAP50-95): 100%|██████████| 2/2 [00:01<00:00,  1.76it/s]"
          ]
        },
        {
          "output_type": "stream",
          "name": "stdout",
          "text": [
            "                   all         47        387      0.288      0.518      0.307      0.134\n"
          ]
        },
        {
          "output_type": "stream",
          "name": "stderr",
          "text": [
            "\n"
          ]
        },
        {
          "output_type": "stream",
          "name": "stdout",
          "text": [
            "\n",
            "      Epoch    GPU_mem   box_loss   cls_loss   dfl_loss  Instances       Size\n"
          ]
        },
        {
          "output_type": "stream",
          "name": "stderr",
          "text": [
            "     68/120      12.7G      2.021       1.65      1.552        187        800: 100%|██████████| 40/40 [00:19<00:00,  2.01it/s]\n",
            "                 Class     Images  Instances      Box(P          R      mAP50  mAP50-95): 100%|██████████| 2/2 [00:00<00:00,  2.69it/s]"
          ]
        },
        {
          "output_type": "stream",
          "name": "stdout",
          "text": [
            "                   all         47        387      0.388      0.437       0.39      0.184\n"
          ]
        },
        {
          "output_type": "stream",
          "name": "stderr",
          "text": [
            "\n"
          ]
        },
        {
          "output_type": "stream",
          "name": "stdout",
          "text": [
            "\n",
            "      Epoch    GPU_mem   box_loss   cls_loss   dfl_loss  Instances       Size\n"
          ]
        },
        {
          "output_type": "stream",
          "name": "stderr",
          "text": [
            "     69/120      12.8G      2.015      1.615      1.541        153        800: 100%|██████████| 40/40 [00:18<00:00,  2.13it/s]\n",
            "                 Class     Images  Instances      Box(P          R      mAP50  mAP50-95): 100%|██████████| 2/2 [00:01<00:00,  1.76it/s]"
          ]
        },
        {
          "output_type": "stream",
          "name": "stdout",
          "text": [
            "                   all         47        387      0.332      0.454      0.374      0.159\n"
          ]
        },
        {
          "output_type": "stream",
          "name": "stderr",
          "text": [
            "\n"
          ]
        },
        {
          "output_type": "stream",
          "name": "stdout",
          "text": [
            "\n",
            "      Epoch    GPU_mem   box_loss   cls_loss   dfl_loss  Instances       Size\n"
          ]
        },
        {
          "output_type": "stream",
          "name": "stderr",
          "text": [
            "     70/120      12.8G       2.02      1.633      1.562        212        800: 100%|██████████| 40/40 [00:20<00:00,  1.98it/s]\n",
            "                 Class     Images  Instances      Box(P          R      mAP50  mAP50-95): 100%|██████████| 2/2 [00:00<00:00,  2.60it/s]"
          ]
        },
        {
          "output_type": "stream",
          "name": "stdout",
          "text": [
            "                   all         47        387      0.386      0.474      0.377      0.178\n"
          ]
        },
        {
          "output_type": "stream",
          "name": "stderr",
          "text": [
            "\n"
          ]
        },
        {
          "output_type": "stream",
          "name": "stdout",
          "text": [
            "\n",
            "      Epoch    GPU_mem   box_loss   cls_loss   dfl_loss  Instances       Size\n"
          ]
        },
        {
          "output_type": "stream",
          "name": "stderr",
          "text": [
            "     71/120      12.8G      2.028      1.633      1.533        225        800: 100%|██████████| 40/40 [00:19<00:00,  2.01it/s]\n",
            "                 Class     Images  Instances      Box(P          R      mAP50  mAP50-95): 100%|██████████| 2/2 [00:01<00:00,  1.77it/s]"
          ]
        },
        {
          "output_type": "stream",
          "name": "stdout",
          "text": [
            "                   all         47        387      0.397      0.458      0.378      0.166\n"
          ]
        },
        {
          "output_type": "stream",
          "name": "stderr",
          "text": [
            "\n"
          ]
        },
        {
          "output_type": "stream",
          "name": "stdout",
          "text": [
            "\n",
            "      Epoch    GPU_mem   box_loss   cls_loss   dfl_loss  Instances       Size\n"
          ]
        },
        {
          "output_type": "stream",
          "name": "stderr",
          "text": [
            "     72/120      12.8G      2.012      1.646      1.542        448        800: 100%|██████████| 40/40 [00:20<00:00,  2.00it/s]\n",
            "                 Class     Images  Instances      Box(P          R      mAP50  mAP50-95): 100%|██████████| 2/2 [00:00<00:00,  3.15it/s]"
          ]
        },
        {
          "output_type": "stream",
          "name": "stdout",
          "text": [
            "                   all         47        387      0.423      0.463       0.37      0.171\n"
          ]
        },
        {
          "output_type": "stream",
          "name": "stderr",
          "text": [
            "\n"
          ]
        },
        {
          "output_type": "stream",
          "name": "stdout",
          "text": [
            "\n",
            "      Epoch    GPU_mem   box_loss   cls_loss   dfl_loss  Instances       Size\n"
          ]
        },
        {
          "output_type": "stream",
          "name": "stderr",
          "text": [
            "     73/120      12.8G      2.006      1.627      1.539         46        800: 100%|██████████| 40/40 [00:20<00:00,  1.98it/s]\n",
            "                 Class     Images  Instances      Box(P          R      mAP50  mAP50-95): 100%|██████████| 2/2 [00:00<00:00,  2.03it/s]"
          ]
        },
        {
          "output_type": "stream",
          "name": "stdout",
          "text": [
            "                   all         47        387      0.367      0.515       0.37      0.166\n"
          ]
        },
        {
          "output_type": "stream",
          "name": "stderr",
          "text": [
            "\n"
          ]
        },
        {
          "output_type": "stream",
          "name": "stdout",
          "text": [
            "\n",
            "      Epoch    GPU_mem   box_loss   cls_loss   dfl_loss  Instances       Size\n"
          ]
        },
        {
          "output_type": "stream",
          "name": "stderr",
          "text": [
            "     74/120      12.8G      2.011      1.579      1.529        531        800: 100%|██████████| 40/40 [00:19<00:00,  2.02it/s]\n",
            "                 Class     Images  Instances      Box(P          R      mAP50  mAP50-95): 100%|██████████| 2/2 [00:00<00:00,  3.03it/s]"
          ]
        },
        {
          "output_type": "stream",
          "name": "stdout",
          "text": [
            "                   all         47        387      0.429      0.404      0.395      0.191\n"
          ]
        },
        {
          "output_type": "stream",
          "name": "stderr",
          "text": [
            "\n"
          ]
        },
        {
          "output_type": "stream",
          "name": "stdout",
          "text": [
            "\n",
            "      Epoch    GPU_mem   box_loss   cls_loss   dfl_loss  Instances       Size\n"
          ]
        },
        {
          "output_type": "stream",
          "name": "stderr",
          "text": [
            "     75/120      12.8G      1.993      1.562       1.52        198        800: 100%|██████████| 40/40 [00:20<00:00,  1.93it/s]\n",
            "                 Class     Images  Instances      Box(P          R      mAP50  mAP50-95): 100%|██████████| 2/2 [00:00<00:00,  2.85it/s]"
          ]
        },
        {
          "output_type": "stream",
          "name": "stdout",
          "text": [
            "                   all         47        387      0.372       0.53      0.381      0.157\n"
          ]
        },
        {
          "output_type": "stream",
          "name": "stderr",
          "text": [
            "\n"
          ]
        },
        {
          "output_type": "stream",
          "name": "stdout",
          "text": [
            "\n",
            "      Epoch    GPU_mem   box_loss   cls_loss   dfl_loss  Instances       Size\n"
          ]
        },
        {
          "output_type": "stream",
          "name": "stderr",
          "text": [
            "     76/120      12.9G      2.005      1.599      1.536         82        800: 100%|██████████| 40/40 [00:20<00:00,  1.93it/s]\n",
            "                 Class     Images  Instances      Box(P          R      mAP50  mAP50-95): 100%|██████████| 2/2 [00:00<00:00,  2.56it/s]"
          ]
        },
        {
          "output_type": "stream",
          "name": "stdout",
          "text": [
            "                   all         47        387      0.433      0.469      0.413      0.166\n"
          ]
        },
        {
          "output_type": "stream",
          "name": "stderr",
          "text": [
            "\n"
          ]
        },
        {
          "output_type": "stream",
          "name": "stdout",
          "text": [
            "\n",
            "      Epoch    GPU_mem   box_loss   cls_loss   dfl_loss  Instances       Size\n"
          ]
        },
        {
          "output_type": "stream",
          "name": "stderr",
          "text": [
            "     77/120      12.9G          2      1.559      1.552        165        800: 100%|██████████| 40/40 [00:20<00:00,  1.94it/s]\n",
            "                 Class     Images  Instances      Box(P          R      mAP50  mAP50-95): 100%|██████████| 2/2 [00:00<00:00,  2.77it/s]"
          ]
        },
        {
          "output_type": "stream",
          "name": "stdout",
          "text": [
            "                   all         47        387      0.385       0.49      0.405      0.198\n"
          ]
        },
        {
          "output_type": "stream",
          "name": "stderr",
          "text": [
            "\n"
          ]
        },
        {
          "output_type": "stream",
          "name": "stdout",
          "text": [
            "\n",
            "      Epoch    GPU_mem   box_loss   cls_loss   dfl_loss  Instances       Size\n"
          ]
        },
        {
          "output_type": "stream",
          "name": "stderr",
          "text": [
            "     78/120      12.9G      1.993      1.591      1.537        155        800: 100%|██████████| 40/40 [00:19<00:00,  2.06it/s]\n",
            "                 Class     Images  Instances      Box(P          R      mAP50  mAP50-95): 100%|██████████| 2/2 [00:00<00:00,  2.61it/s]"
          ]
        },
        {
          "output_type": "stream",
          "name": "stdout",
          "text": [
            "                   all         47        387      0.412      0.479      0.417      0.187\n"
          ]
        },
        {
          "output_type": "stream",
          "name": "stderr",
          "text": [
            "\n"
          ]
        },
        {
          "output_type": "stream",
          "name": "stdout",
          "text": [
            "\n",
            "      Epoch    GPU_mem   box_loss   cls_loss   dfl_loss  Instances       Size\n"
          ]
        },
        {
          "output_type": "stream",
          "name": "stderr",
          "text": [
            "     79/120      12.9G      1.993      1.597      1.542        421        800: 100%|██████████| 40/40 [00:20<00:00,  1.93it/s]\n",
            "                 Class     Images  Instances      Box(P          R      mAP50  mAP50-95): 100%|██████████| 2/2 [00:00<00:00,  2.76it/s]"
          ]
        },
        {
          "output_type": "stream",
          "name": "stdout",
          "text": [
            "                   all         47        387      0.397      0.466      0.416      0.187\n"
          ]
        },
        {
          "output_type": "stream",
          "name": "stderr",
          "text": [
            "\n"
          ]
        },
        {
          "output_type": "stream",
          "name": "stdout",
          "text": [
            "\n",
            "      Epoch    GPU_mem   box_loss   cls_loss   dfl_loss  Instances       Size\n"
          ]
        },
        {
          "output_type": "stream",
          "name": "stderr",
          "text": [
            "     80/120      12.9G      1.986      1.535      1.502        474        800: 100%|██████████| 40/40 [00:19<00:00,  2.02it/s]\n",
            "                 Class     Images  Instances      Box(P          R      mAP50  mAP50-95): 100%|██████████| 2/2 [00:00<00:00,  2.84it/s]"
          ]
        },
        {
          "output_type": "stream",
          "name": "stdout",
          "text": [
            "                   all         47        387      0.393      0.471      0.407      0.186\n"
          ]
        },
        {
          "output_type": "stream",
          "name": "stderr",
          "text": [
            "\n"
          ]
        },
        {
          "output_type": "stream",
          "name": "stdout",
          "text": [
            "\n",
            "      Epoch    GPU_mem   box_loss   cls_loss   dfl_loss  Instances       Size\n"
          ]
        },
        {
          "output_type": "stream",
          "name": "stderr",
          "text": [
            "     81/120      12.9G       1.97      1.524      1.527         51        800: 100%|██████████| 40/40 [00:20<00:00,  1.92it/s]\n",
            "                 Class     Images  Instances      Box(P          R      mAP50  mAP50-95): 100%|██████████| 2/2 [00:00<00:00,  2.59it/s]"
          ]
        },
        {
          "output_type": "stream",
          "name": "stdout",
          "text": [
            "                   all         47        387      0.379      0.506      0.428      0.214\n"
          ]
        },
        {
          "output_type": "stream",
          "name": "stderr",
          "text": [
            "\n"
          ]
        },
        {
          "output_type": "stream",
          "name": "stdout",
          "text": [
            "\n",
            "      Epoch    GPU_mem   box_loss   cls_loss   dfl_loss  Instances       Size\n"
          ]
        },
        {
          "output_type": "stream",
          "name": "stderr",
          "text": [
            "     82/120        13G      1.984       1.54      1.515         72        800: 100%|██████████| 40/40 [00:19<00:00,  2.08it/s]\n",
            "                 Class     Images  Instances      Box(P          R      mAP50  mAP50-95): 100%|██████████| 2/2 [00:00<00:00,  2.14it/s]"
          ]
        },
        {
          "output_type": "stream",
          "name": "stdout",
          "text": [
            "                   all         47        387      0.446      0.435      0.413      0.195\n"
          ]
        },
        {
          "output_type": "stream",
          "name": "stderr",
          "text": [
            "\n"
          ]
        },
        {
          "output_type": "stream",
          "name": "stdout",
          "text": [
            "\n",
            "      Epoch    GPU_mem   box_loss   cls_loss   dfl_loss  Instances       Size\n"
          ]
        },
        {
          "output_type": "stream",
          "name": "stderr",
          "text": [
            "     83/120        13G      2.026      1.545      1.495        115        800: 100%|██████████| 40/40 [00:20<00:00,  1.95it/s]\n",
            "                 Class     Images  Instances      Box(P          R      mAP50  mAP50-95): 100%|██████████| 2/2 [00:00<00:00,  2.61it/s]"
          ]
        },
        {
          "output_type": "stream",
          "name": "stdout",
          "text": [
            "                   all         47        387      0.436      0.452      0.404      0.184\n"
          ]
        },
        {
          "output_type": "stream",
          "name": "stderr",
          "text": [
            "\n"
          ]
        },
        {
          "output_type": "stream",
          "name": "stdout",
          "text": [
            "\n",
            "      Epoch    GPU_mem   box_loss   cls_loss   dfl_loss  Instances       Size\n"
          ]
        },
        {
          "output_type": "stream",
          "name": "stderr",
          "text": [
            "     84/120        13G      1.981      1.576       1.52        139        800: 100%|██████████| 40/40 [00:19<00:00,  2.02it/s]\n",
            "                 Class     Images  Instances      Box(P          R      mAP50  mAP50-95): 100%|██████████| 2/2 [00:01<00:00,  1.79it/s]"
          ]
        },
        {
          "output_type": "stream",
          "name": "stdout",
          "text": [
            "                   all         47        387      0.372      0.524      0.418      0.183\n"
          ]
        },
        {
          "output_type": "stream",
          "name": "stderr",
          "text": [
            "\n"
          ]
        },
        {
          "output_type": "stream",
          "name": "stdout",
          "text": [
            "\n",
            "      Epoch    GPU_mem   box_loss   cls_loss   dfl_loss  Instances       Size\n"
          ]
        },
        {
          "output_type": "stream",
          "name": "stderr",
          "text": [
            "     85/120        13G      1.922      1.545      1.509        206        800: 100%|██████████| 40/40 [00:19<00:00,  2.04it/s]\n",
            "                 Class     Images  Instances      Box(P          R      mAP50  mAP50-95): 100%|██████████| 2/2 [00:00<00:00,  2.44it/s]"
          ]
        },
        {
          "output_type": "stream",
          "name": "stdout",
          "text": [
            "                   all         47        387      0.421      0.473       0.44      0.194\n"
          ]
        },
        {
          "output_type": "stream",
          "name": "stderr",
          "text": [
            "\n"
          ]
        },
        {
          "output_type": "stream",
          "name": "stdout",
          "text": [
            "\n",
            "      Epoch    GPU_mem   box_loss   cls_loss   dfl_loss  Instances       Size\n"
          ]
        },
        {
          "output_type": "stream",
          "name": "stderr",
          "text": [
            "     86/120        13G      1.969       1.52      1.492        122        800: 100%|██████████| 40/40 [00:20<00:00,  1.93it/s]\n",
            "                 Class     Images  Instances      Box(P          R      mAP50  mAP50-95): 100%|██████████| 2/2 [00:00<00:00,  2.04it/s]"
          ]
        },
        {
          "output_type": "stream",
          "name": "stdout",
          "text": [
            "                   all         47        387      0.361      0.445       0.36      0.181\n"
          ]
        },
        {
          "output_type": "stream",
          "name": "stderr",
          "text": [
            "\n"
          ]
        },
        {
          "output_type": "stream",
          "name": "stdout",
          "text": [
            "\n",
            "      Epoch    GPU_mem   box_loss   cls_loss   dfl_loss  Instances       Size\n"
          ]
        },
        {
          "output_type": "stream",
          "name": "stderr",
          "text": [
            "     87/120        13G      1.997      1.536      1.515         66        800: 100%|██████████| 40/40 [00:19<00:00,  2.02it/s]\n",
            "                 Class     Images  Instances      Box(P          R      mAP50  mAP50-95): 100%|██████████| 2/2 [00:00<00:00,  2.84it/s]"
          ]
        },
        {
          "output_type": "stream",
          "name": "stdout",
          "text": [
            "                   all         47        387      0.389      0.479        0.4      0.196\n"
          ]
        },
        {
          "output_type": "stream",
          "name": "stderr",
          "text": [
            "\n"
          ]
        },
        {
          "output_type": "stream",
          "name": "stdout",
          "text": [
            "\n",
            "      Epoch    GPU_mem   box_loss   cls_loss   dfl_loss  Instances       Size\n"
          ]
        },
        {
          "output_type": "stream",
          "name": "stderr",
          "text": [
            "     88/120        13G      1.983      1.541      1.507        292        800: 100%|██████████| 40/40 [00:20<00:00,  1.98it/s]\n",
            "                 Class     Images  Instances      Box(P          R      mAP50  mAP50-95): 100%|██████████| 2/2 [00:01<00:00,  1.64it/s]"
          ]
        },
        {
          "output_type": "stream",
          "name": "stdout",
          "text": [
            "                   all         47        387      0.443       0.49      0.434      0.203\n"
          ]
        },
        {
          "output_type": "stream",
          "name": "stderr",
          "text": [
            "\n"
          ]
        },
        {
          "output_type": "stream",
          "name": "stdout",
          "text": [
            "\n",
            "      Epoch    GPU_mem   box_loss   cls_loss   dfl_loss  Instances       Size\n"
          ]
        },
        {
          "output_type": "stream",
          "name": "stderr",
          "text": [
            "     89/120      13.1G      1.987      1.498      1.491         88        800: 100%|██████████| 40/40 [00:19<00:00,  2.02it/s]\n",
            "                 Class     Images  Instances      Box(P          R      mAP50  mAP50-95): 100%|██████████| 2/2 [00:00<00:00,  2.59it/s]"
          ]
        },
        {
          "output_type": "stream",
          "name": "stdout",
          "text": [
            "                   all         47        387      0.418      0.503      0.439      0.221\n"
          ]
        },
        {
          "output_type": "stream",
          "name": "stderr",
          "text": [
            "\n"
          ]
        },
        {
          "output_type": "stream",
          "name": "stdout",
          "text": [
            "\n",
            "      Epoch    GPU_mem   box_loss   cls_loss   dfl_loss  Instances       Size\n"
          ]
        },
        {
          "output_type": "stream",
          "name": "stderr",
          "text": [
            "     90/120      13.1G      1.951      1.457      1.481         70        800: 100%|██████████| 40/40 [00:20<00:00,  1.95it/s]\n",
            "                 Class     Images  Instances      Box(P          R      mAP50  mAP50-95): 100%|██████████| 2/2 [00:00<00:00,  2.26it/s]"
          ]
        },
        {
          "output_type": "stream",
          "name": "stdout",
          "text": [
            "                   all         47        387      0.425      0.526      0.461      0.227\n"
          ]
        },
        {
          "output_type": "stream",
          "name": "stderr",
          "text": [
            "\n"
          ]
        },
        {
          "output_type": "stream",
          "name": "stdout",
          "text": [
            "\n",
            "      Epoch    GPU_mem   box_loss   cls_loss   dfl_loss  Instances       Size\n"
          ]
        },
        {
          "output_type": "stream",
          "name": "stderr",
          "text": [
            "     91/120      13.1G      1.976       1.54      1.517        377        800: 100%|██████████| 40/40 [00:20<00:00,  1.97it/s]\n",
            "                 Class     Images  Instances      Box(P          R      mAP50  mAP50-95): 100%|██████████| 2/2 [00:00<00:00,  2.77it/s]"
          ]
        },
        {
          "output_type": "stream",
          "name": "stdout",
          "text": [
            "                   all         47        387       0.43      0.541       0.46      0.224\n"
          ]
        },
        {
          "output_type": "stream",
          "name": "stderr",
          "text": [
            "\n"
          ]
        },
        {
          "output_type": "stream",
          "name": "stdout",
          "text": [
            "\n",
            "      Epoch    GPU_mem   box_loss   cls_loss   dfl_loss  Instances       Size\n"
          ]
        },
        {
          "output_type": "stream",
          "name": "stderr",
          "text": [
            "     92/120      13.1G      1.964      1.493      1.503        207        800: 100%|██████████| 40/40 [00:19<00:00,  2.08it/s]\n",
            "                 Class     Images  Instances      Box(P          R      mAP50  mAP50-95): 100%|██████████| 2/2 [00:01<00:00,  1.85it/s]"
          ]
        },
        {
          "output_type": "stream",
          "name": "stdout",
          "text": [
            "                   all         47        387      0.452      0.528      0.464      0.234\n"
          ]
        },
        {
          "output_type": "stream",
          "name": "stderr",
          "text": [
            "\n"
          ]
        },
        {
          "output_type": "stream",
          "name": "stdout",
          "text": [
            "\n",
            "      Epoch    GPU_mem   box_loss   cls_loss   dfl_loss  Instances       Size\n"
          ]
        },
        {
          "output_type": "stream",
          "name": "stderr",
          "text": [
            "     93/120      13.1G      1.935      1.464      1.482         49        800: 100%|██████████| 40/40 [00:19<00:00,  2.02it/s]\n",
            "                 Class     Images  Instances      Box(P          R      mAP50  mAP50-95): 100%|██████████| 2/2 [00:00<00:00,  2.61it/s]"
          ]
        },
        {
          "output_type": "stream",
          "name": "stdout",
          "text": [
            "                   all         47        387      0.458      0.511       0.45      0.226\n"
          ]
        },
        {
          "output_type": "stream",
          "name": "stderr",
          "text": [
            "\n"
          ]
        },
        {
          "output_type": "stream",
          "name": "stdout",
          "text": [
            "\n",
            "      Epoch    GPU_mem   box_loss   cls_loss   dfl_loss  Instances       Size\n"
          ]
        },
        {
          "output_type": "stream",
          "name": "stderr",
          "text": [
            "     94/120      13.1G      1.995      1.502      1.496        233        800: 100%|██████████| 40/40 [00:19<00:00,  2.03it/s]\n",
            "                 Class     Images  Instances      Box(P          R      mAP50  mAP50-95): 100%|██████████| 2/2 [00:01<00:00,  1.78it/s]"
          ]
        },
        {
          "output_type": "stream",
          "name": "stdout",
          "text": [
            "                   all         47        387      0.424      0.511      0.429      0.228\n"
          ]
        },
        {
          "output_type": "stream",
          "name": "stderr",
          "text": [
            "\n"
          ]
        },
        {
          "output_type": "stream",
          "name": "stdout",
          "text": [
            "\n",
            "      Epoch    GPU_mem   box_loss   cls_loss   dfl_loss  Instances       Size\n"
          ]
        },
        {
          "output_type": "stream",
          "name": "stderr",
          "text": [
            "     95/120      13.1G      1.967      1.485      1.505         50        800: 100%|██████████| 40/40 [00:19<00:00,  2.00it/s]\n",
            "                 Class     Images  Instances      Box(P          R      mAP50  mAP50-95): 100%|██████████| 2/2 [00:00<00:00,  2.51it/s]"
          ]
        },
        {
          "output_type": "stream",
          "name": "stdout",
          "text": [
            "                   all         47        387      0.468      0.486      0.458      0.228\n"
          ]
        },
        {
          "output_type": "stream",
          "name": "stderr",
          "text": [
            "\n"
          ]
        },
        {
          "output_type": "stream",
          "name": "stdout",
          "text": [
            "\n",
            "      Epoch    GPU_mem   box_loss   cls_loss   dfl_loss  Instances       Size\n"
          ]
        },
        {
          "output_type": "stream",
          "name": "stderr",
          "text": [
            "     96/120      13.2G       1.98      1.461      1.492        252        800: 100%|██████████| 40/40 [00:19<00:00,  2.03it/s]\n",
            "                 Class     Images  Instances      Box(P          R      mAP50  mAP50-95): 100%|██████████| 2/2 [00:01<00:00,  2.00it/s]"
          ]
        },
        {
          "output_type": "stream",
          "name": "stdout",
          "text": [
            "                   all         47        387      0.472      0.505      0.472      0.247\n"
          ]
        },
        {
          "output_type": "stream",
          "name": "stderr",
          "text": [
            "\n"
          ]
        },
        {
          "output_type": "stream",
          "name": "stdout",
          "text": [
            "\n",
            "      Epoch    GPU_mem   box_loss   cls_loss   dfl_loss  Instances       Size\n"
          ]
        },
        {
          "output_type": "stream",
          "name": "stderr",
          "text": [
            "     97/120      13.2G      1.907      1.466      1.475         56        800: 100%|██████████| 40/40 [00:19<00:00,  2.03it/s]\n",
            "                 Class     Images  Instances      Box(P          R      mAP50  mAP50-95): 100%|██████████| 2/2 [00:00<00:00,  2.63it/s]"
          ]
        },
        {
          "output_type": "stream",
          "name": "stdout",
          "text": [
            "                   all         47        387      0.439       0.51      0.462      0.243\n"
          ]
        },
        {
          "output_type": "stream",
          "name": "stderr",
          "text": [
            "\n"
          ]
        },
        {
          "output_type": "stream",
          "name": "stdout",
          "text": [
            "\n",
            "      Epoch    GPU_mem   box_loss   cls_loss   dfl_loss  Instances       Size\n"
          ]
        },
        {
          "output_type": "stream",
          "name": "stderr",
          "text": [
            "     98/120      13.2G      1.944      1.509      1.494        133        800: 100%|██████████| 40/40 [00:20<00:00,  1.93it/s]\n",
            "                 Class     Images  Instances      Box(P          R      mAP50  mAP50-95): 100%|██████████| 2/2 [00:01<00:00,  1.77it/s]"
          ]
        },
        {
          "output_type": "stream",
          "name": "stdout",
          "text": [
            "                   all         47        387      0.445      0.521      0.471      0.245\n"
          ]
        },
        {
          "output_type": "stream",
          "name": "stderr",
          "text": [
            "\n"
          ]
        },
        {
          "output_type": "stream",
          "name": "stdout",
          "text": [
            "\n",
            "      Epoch    GPU_mem   box_loss   cls_loss   dfl_loss  Instances       Size\n"
          ]
        },
        {
          "output_type": "stream",
          "name": "stderr",
          "text": [
            "     99/120      13.2G      1.963       1.47      1.489        468        800: 100%|██████████| 40/40 [00:21<00:00,  1.86it/s]\n",
            "                 Class     Images  Instances      Box(P          R      mAP50  mAP50-95): 100%|██████████| 2/2 [00:00<00:00,  2.82it/s]"
          ]
        },
        {
          "output_type": "stream",
          "name": "stdout",
          "text": [
            "                   all         47        387       0.43      0.506      0.431      0.231\n"
          ]
        },
        {
          "output_type": "stream",
          "name": "stderr",
          "text": [
            "\n"
          ]
        },
        {
          "output_type": "stream",
          "name": "stdout",
          "text": [
            "\n",
            "      Epoch    GPU_mem   box_loss   cls_loss   dfl_loss  Instances       Size\n"
          ]
        },
        {
          "output_type": "stream",
          "name": "stderr",
          "text": [
            "    100/120      13.2G       1.98      1.468      1.476        315        800: 100%|██████████| 40/40 [00:21<00:00,  1.90it/s]\n",
            "                 Class     Images  Instances      Box(P          R      mAP50  mAP50-95): 100%|██████████| 2/2 [00:00<00:00,  2.83it/s]"
          ]
        },
        {
          "output_type": "stream",
          "name": "stdout",
          "text": [
            "                   all         47        387      0.454      0.497       0.45      0.236\n"
          ]
        },
        {
          "output_type": "stream",
          "name": "stderr",
          "text": [
            "\n"
          ]
        },
        {
          "output_type": "stream",
          "name": "stdout",
          "text": [
            "\n",
            "      Epoch    GPU_mem   box_loss   cls_loss   dfl_loss  Instances       Size\n"
          ]
        },
        {
          "output_type": "stream",
          "name": "stderr",
          "text": [
            "    101/120      13.2G      1.958      1.464       1.49        218        800: 100%|██████████| 40/40 [00:19<00:00,  2.08it/s]\n",
            "                 Class     Images  Instances      Box(P          R      mAP50  mAP50-95): 100%|██████████| 2/2 [00:00<00:00,  2.81it/s]"
          ]
        },
        {
          "output_type": "stream",
          "name": "stdout",
          "text": [
            "                   all         47        387      0.467      0.494      0.469      0.248\n"
          ]
        },
        {
          "output_type": "stream",
          "name": "stderr",
          "text": [
            "\n"
          ]
        },
        {
          "output_type": "stream",
          "name": "stdout",
          "text": [
            "\n",
            "      Epoch    GPU_mem   box_loss   cls_loss   dfl_loss  Instances       Size\n"
          ]
        },
        {
          "output_type": "stream",
          "name": "stderr",
          "text": [
            "    102/120      13.2G      1.903      1.451      1.478         45        800: 100%|██████████| 40/40 [00:21<00:00,  1.90it/s]\n",
            "                 Class     Images  Instances      Box(P          R      mAP50  mAP50-95): 100%|██████████| 2/2 [00:00<00:00,  2.44it/s]"
          ]
        },
        {
          "output_type": "stream",
          "name": "stdout",
          "text": [
            "                   all         47        387      0.469      0.506      0.473      0.242\n"
          ]
        },
        {
          "output_type": "stream",
          "name": "stderr",
          "text": [
            "\n"
          ]
        },
        {
          "output_type": "stream",
          "name": "stdout",
          "text": [
            "\n",
            "      Epoch    GPU_mem   box_loss   cls_loss   dfl_loss  Instances       Size\n"
          ]
        },
        {
          "output_type": "stream",
          "name": "stderr",
          "text": [
            "    103/120      13.3G      1.936      1.437      1.478        515        800: 100%|██████████| 40/40 [00:19<00:00,  2.06it/s]\n",
            "                 Class     Images  Instances      Box(P          R      mAP50  mAP50-95): 100%|██████████| 2/2 [00:00<00:00,  2.48it/s]"
          ]
        },
        {
          "output_type": "stream",
          "name": "stdout",
          "text": [
            "                   all         47        387      0.465      0.491      0.477      0.243\n"
          ]
        },
        {
          "output_type": "stream",
          "name": "stderr",
          "text": [
            "\n"
          ]
        },
        {
          "output_type": "stream",
          "name": "stdout",
          "text": [
            "\n",
            "      Epoch    GPU_mem   box_loss   cls_loss   dfl_loss  Instances       Size\n"
          ]
        },
        {
          "output_type": "stream",
          "name": "stderr",
          "text": [
            "    104/120      13.3G      1.934      1.464       1.51        111        800: 100%|██████████| 40/40 [00:20<00:00,  1.91it/s]\n",
            "                 Class     Images  Instances      Box(P          R      mAP50  mAP50-95): 100%|██████████| 2/2 [00:00<00:00,  2.43it/s]"
          ]
        },
        {
          "output_type": "stream",
          "name": "stdout",
          "text": [
            "                   all         47        387      0.453        0.5      0.478      0.245\n"
          ]
        },
        {
          "output_type": "stream",
          "name": "stderr",
          "text": [
            "\n"
          ]
        },
        {
          "output_type": "stream",
          "name": "stdout",
          "text": [
            "\n",
            "      Epoch    GPU_mem   box_loss   cls_loss   dfl_loss  Instances       Size\n"
          ]
        },
        {
          "output_type": "stream",
          "name": "stderr",
          "text": [
            "    105/120       9.7G      1.929      1.424      1.476        172        800: 100%|██████████| 40/40 [00:19<00:00,  2.08it/s]\n",
            "                 Class     Images  Instances      Box(P          R      mAP50  mAP50-95): 100%|██████████| 2/2 [00:00<00:00,  2.10it/s]"
          ]
        },
        {
          "output_type": "stream",
          "name": "stdout",
          "text": [
            "                   all         47        387      0.451      0.507      0.456      0.239\n"
          ]
        },
        {
          "output_type": "stream",
          "name": "stderr",
          "text": [
            "\n"
          ]
        },
        {
          "output_type": "stream",
          "name": "stdout",
          "text": [
            "\n",
            "      Epoch    GPU_mem   box_loss   cls_loss   dfl_loss  Instances       Size\n"
          ]
        },
        {
          "output_type": "stream",
          "name": "stderr",
          "text": [
            "    106/120       9.7G      1.955      1.469      1.479         89        800: 100%|██████████| 40/40 [00:20<00:00,  1.94it/s]\n",
            "                 Class     Images  Instances      Box(P          R      mAP50  mAP50-95): 100%|██████████| 2/2 [00:00<00:00,  2.60it/s]"
          ]
        },
        {
          "output_type": "stream",
          "name": "stdout",
          "text": [
            "                   all         47        387      0.451      0.503      0.442       0.23\n"
          ]
        },
        {
          "output_type": "stream",
          "name": "stderr",
          "text": [
            "\n"
          ]
        },
        {
          "output_type": "stream",
          "name": "stdout",
          "text": [
            "\n",
            "      Epoch    GPU_mem   box_loss   cls_loss   dfl_loss  Instances       Size\n"
          ]
        },
        {
          "output_type": "stream",
          "name": "stderr",
          "text": [
            "    107/120      11.1G      1.911      1.451       1.47         65        800: 100%|██████████| 40/40 [00:19<00:00,  2.02it/s]\n",
            "                 Class     Images  Instances      Box(P          R      mAP50  mAP50-95): 100%|██████████| 2/2 [00:01<00:00,  1.65it/s]"
          ]
        },
        {
          "output_type": "stream",
          "name": "stdout",
          "text": [
            "                   all         47        387      0.451      0.512      0.461      0.235\n"
          ]
        },
        {
          "output_type": "stream",
          "name": "stderr",
          "text": [
            "\n"
          ]
        },
        {
          "output_type": "stream",
          "name": "stdout",
          "text": [
            "\n",
            "      Epoch    GPU_mem   box_loss   cls_loss   dfl_loss  Instances       Size\n"
          ]
        },
        {
          "output_type": "stream",
          "name": "stderr",
          "text": [
            "    108/120      11.1G       1.93      1.424      1.467         70        800: 100%|██████████| 40/40 [00:21<00:00,  1.87it/s]\n",
            "                 Class     Images  Instances      Box(P          R      mAP50  mAP50-95): 100%|██████████| 2/2 [00:00<00:00,  2.47it/s]"
          ]
        },
        {
          "output_type": "stream",
          "name": "stdout",
          "text": [
            "                   all         47        387      0.468      0.532       0.47      0.239\n"
          ]
        },
        {
          "output_type": "stream",
          "name": "stderr",
          "text": [
            "\n"
          ]
        },
        {
          "output_type": "stream",
          "name": "stdout",
          "text": [
            "\n",
            "      Epoch    GPU_mem   box_loss   cls_loss   dfl_loss  Instances       Size\n"
          ]
        },
        {
          "output_type": "stream",
          "name": "stderr",
          "text": [
            "    109/120      11.1G       1.92      1.449      1.468        325        800: 100%|██████████| 40/40 [00:21<00:00,  1.90it/s]\n",
            "                 Class     Images  Instances      Box(P          R      mAP50  mAP50-95): 100%|██████████| 2/2 [00:00<00:00,  2.60it/s]"
          ]
        },
        {
          "output_type": "stream",
          "name": "stdout",
          "text": [
            "                   all         47        387      0.455      0.539      0.468       0.24\n"
          ]
        },
        {
          "output_type": "stream",
          "name": "stderr",
          "text": [
            "\n"
          ]
        },
        {
          "output_type": "stream",
          "name": "stdout",
          "text": [
            "\n",
            "      Epoch    GPU_mem   box_loss   cls_loss   dfl_loss  Instances       Size\n"
          ]
        },
        {
          "output_type": "stream",
          "name": "stderr",
          "text": [
            "    110/120      12.6G      1.948       1.43      1.477        176        800: 100%|██████████| 40/40 [00:20<00:00,  1.98it/s]\n",
            "                 Class     Images  Instances      Box(P          R      mAP50  mAP50-95): 100%|██████████| 2/2 [00:00<00:00,  2.32it/s]"
          ]
        },
        {
          "output_type": "stream",
          "name": "stdout",
          "text": [
            "                   all         47        387      0.466      0.534      0.477      0.244\n"
          ]
        },
        {
          "output_type": "stream",
          "name": "stderr",
          "text": [
            "\n"
          ]
        },
        {
          "output_type": "stream",
          "name": "stdout",
          "text": [
            "Closing dataloader mosaic\n",
            "\u001b[34m\u001b[1malbumentations: \u001b[0mBlur(p=0.01, blur_limit=(3, 7)), MedianBlur(p=0.01, blur_limit=(3, 7)), ToGray(p=0.01, method='weighted_average', num_output_channels=3), CLAHE(p=0.01, clip_limit=(1.0, 4.0), tile_grid_size=(8, 8))\n",
            "\n",
            "      Epoch    GPU_mem   box_loss   cls_loss   dfl_loss  Instances       Size\n"
          ]
        },
        {
          "output_type": "stream",
          "name": "stderr",
          "text": [
            "    111/120      12.6G      1.852      1.463      1.462         68        800: 100%|██████████| 40/40 [00:22<00:00,  1.81it/s]\n",
            "                 Class     Images  Instances      Box(P          R      mAP50  mAP50-95): 100%|██████████| 2/2 [00:00<00:00,  2.58it/s]"
          ]
        },
        {
          "output_type": "stream",
          "name": "stdout",
          "text": [
            "                   all         47        387      0.478        0.5      0.469      0.239\n"
          ]
        },
        {
          "output_type": "stream",
          "name": "stderr",
          "text": [
            "\n"
          ]
        },
        {
          "output_type": "stream",
          "name": "stdout",
          "text": [
            "\n",
            "      Epoch    GPU_mem   box_loss   cls_loss   dfl_loss  Instances       Size\n"
          ]
        },
        {
          "output_type": "stream",
          "name": "stderr",
          "text": [
            "    112/120      12.6G      1.835      1.422      1.465         38        800: 100%|██████████| 40/40 [00:18<00:00,  2.22it/s]\n",
            "                 Class     Images  Instances      Box(P          R      mAP50  mAP50-95): 100%|██████████| 2/2 [00:00<00:00,  2.86it/s]"
          ]
        },
        {
          "output_type": "stream",
          "name": "stdout",
          "text": [
            "                   all         47        387      0.485      0.482      0.464      0.241\n"
          ]
        },
        {
          "output_type": "stream",
          "name": "stderr",
          "text": [
            "\n"
          ]
        },
        {
          "output_type": "stream",
          "name": "stdout",
          "text": [
            "\n",
            "      Epoch    GPU_mem   box_loss   cls_loss   dfl_loss  Instances       Size\n"
          ]
        },
        {
          "output_type": "stream",
          "name": "stderr",
          "text": [
            "    113/120      12.6G      1.812      1.386      1.441        338        800: 100%|██████████| 40/40 [00:19<00:00,  2.08it/s]\n",
            "                 Class     Images  Instances      Box(P          R      mAP50  mAP50-95): 100%|██████████| 2/2 [00:00<00:00,  2.49it/s]"
          ]
        },
        {
          "output_type": "stream",
          "name": "stdout",
          "text": [
            "                   all         47        387      0.474      0.484      0.458      0.245\n"
          ]
        },
        {
          "output_type": "stream",
          "name": "stderr",
          "text": [
            "\n"
          ]
        },
        {
          "output_type": "stream",
          "name": "stdout",
          "text": [
            "\n",
            "      Epoch    GPU_mem   box_loss   cls_loss   dfl_loss  Instances       Size\n"
          ]
        },
        {
          "output_type": "stream",
          "name": "stderr",
          "text": [
            "    114/120      12.6G      1.843      1.397      1.447         58        800: 100%|██████████| 40/40 [00:17<00:00,  2.26it/s]\n",
            "                 Class     Images  Instances      Box(P          R      mAP50  mAP50-95): 100%|██████████| 2/2 [00:00<00:00,  2.55it/s]"
          ]
        },
        {
          "output_type": "stream",
          "name": "stdout",
          "text": [
            "                   all         47        387      0.473      0.484      0.463       0.24\n"
          ]
        },
        {
          "output_type": "stream",
          "name": "stderr",
          "text": [
            "\n"
          ]
        },
        {
          "output_type": "stream",
          "name": "stdout",
          "text": [
            "\n",
            "      Epoch    GPU_mem   box_loss   cls_loss   dfl_loss  Instances       Size\n"
          ]
        },
        {
          "output_type": "stream",
          "name": "stderr",
          "text": [
            "    115/120      12.6G      1.891      1.435      1.461          5        800: 100%|██████████| 40/40 [00:18<00:00,  2.21it/s]\n",
            "                 Class     Images  Instances      Box(P          R      mAP50  mAP50-95): 100%|██████████| 2/2 [00:01<00:00,  1.60it/s]"
          ]
        },
        {
          "output_type": "stream",
          "name": "stdout",
          "text": [
            "                   all         47        387      0.466        0.5      0.471      0.238\n"
          ]
        },
        {
          "output_type": "stream",
          "name": "stderr",
          "text": [
            "\n"
          ]
        },
        {
          "output_type": "stream",
          "name": "stdout",
          "text": [
            "\n",
            "      Epoch    GPU_mem   box_loss   cls_loss   dfl_loss  Instances       Size\n"
          ]
        },
        {
          "output_type": "stream",
          "name": "stderr",
          "text": [
            "    116/120      12.6G      1.829      1.373      1.423         93        800: 100%|██████████| 40/40 [00:18<00:00,  2.21it/s]\n",
            "                 Class     Images  Instances      Box(P          R      mAP50  mAP50-95): 100%|██████████| 2/2 [00:00<00:00,  2.43it/s]"
          ]
        },
        {
          "output_type": "stream",
          "name": "stdout",
          "text": [
            "                   all         47        387      0.458      0.509      0.463      0.238\n"
          ]
        },
        {
          "output_type": "stream",
          "name": "stderr",
          "text": [
            "\n"
          ]
        },
        {
          "output_type": "stream",
          "name": "stdout",
          "text": [
            "\n",
            "      Epoch    GPU_mem   box_loss   cls_loss   dfl_loss  Instances       Size\n"
          ]
        },
        {
          "output_type": "stream",
          "name": "stderr",
          "text": [
            "    117/120      12.6G      1.822      1.359      1.452         26        800: 100%|██████████| 40/40 [00:18<00:00,  2.18it/s]\n",
            "                 Class     Images  Instances      Box(P          R      mAP50  mAP50-95): 100%|██████████| 2/2 [00:00<00:00,  2.98it/s]"
          ]
        },
        {
          "output_type": "stream",
          "name": "stdout",
          "text": [
            "                   all         47        387      0.453      0.506      0.462      0.241\n"
          ]
        },
        {
          "output_type": "stream",
          "name": "stderr",
          "text": [
            "\n"
          ]
        },
        {
          "output_type": "stream",
          "name": "stdout",
          "text": [
            "\n",
            "      Epoch    GPU_mem   box_loss   cls_loss   dfl_loss  Instances       Size\n"
          ]
        },
        {
          "output_type": "stream",
          "name": "stderr",
          "text": [
            "    118/120      12.6G       1.82       1.38      1.463         63        800: 100%|██████████| 40/40 [00:20<00:00,  1.95it/s]\n",
            "                 Class     Images  Instances      Box(P          R      mAP50  mAP50-95): 100%|██████████| 2/2 [00:00<00:00,  2.59it/s]"
          ]
        },
        {
          "output_type": "stream",
          "name": "stdout",
          "text": [
            "                   all         47        387       0.44      0.513      0.452      0.237\n"
          ]
        },
        {
          "output_type": "stream",
          "name": "stderr",
          "text": [
            "\n"
          ]
        },
        {
          "output_type": "stream",
          "name": "stdout",
          "text": [
            "\n",
            "      Epoch    GPU_mem   box_loss   cls_loss   dfl_loss  Instances       Size\n"
          ]
        },
        {
          "output_type": "stream",
          "name": "stderr",
          "text": [
            "    119/120      12.6G       1.82      1.391      1.482         46        800: 100%|██████████| 40/40 [00:17<00:00,  2.24it/s]\n",
            "                 Class     Images  Instances      Box(P          R      mAP50  mAP50-95): 100%|██████████| 2/2 [00:00<00:00,  3.00it/s]"
          ]
        },
        {
          "output_type": "stream",
          "name": "stdout",
          "text": [
            "                   all         47        387      0.457      0.508      0.457      0.241\n"
          ]
        },
        {
          "output_type": "stream",
          "name": "stderr",
          "text": [
            "\n"
          ]
        },
        {
          "output_type": "stream",
          "name": "stdout",
          "text": [
            "\n",
            "      Epoch    GPU_mem   box_loss   cls_loss   dfl_loss  Instances       Size\n"
          ]
        },
        {
          "output_type": "stream",
          "name": "stderr",
          "text": [
            "    120/120      12.6G      1.826      1.345       1.45         53        800: 100%|██████████| 40/40 [00:17<00:00,  2.27it/s]\n",
            "                 Class     Images  Instances      Box(P          R      mAP50  mAP50-95): 100%|██████████| 2/2 [00:01<00:00,  1.95it/s]"
          ]
        },
        {
          "output_type": "stream",
          "name": "stdout",
          "text": [
            "                   all         47        387      0.466      0.512      0.465      0.242\n"
          ]
        },
        {
          "output_type": "stream",
          "name": "stderr",
          "text": [
            "\n"
          ]
        },
        {
          "output_type": "stream",
          "name": "stdout",
          "text": [
            "\n",
            "120 epochs completed in 0.726 hours.\n",
            "Optimizer stripped from runs/yolov11_bees_ants/weights/last.pt, 5.5MB\n",
            "Optimizer stripped from runs/yolov11_bees_ants/weights/best.pt, 5.5MB\n",
            "\n",
            "Validating runs/yolov11_bees_ants/weights/best.pt...\n",
            "Ultralytics 8.3.89 🚀 Python-3.11.13 torch-2.6.0+cu124 CUDA:0 (Tesla T4, 15095MiB)\n",
            "YOLO11n summary (fused): 100 layers, 2,582,542 parameters, 0 gradients, 6.3 GFLOPs\n"
          ]
        },
        {
          "output_type": "stream",
          "name": "stderr",
          "text": [
            "                 Class     Images  Instances      Box(P          R      mAP50  mAP50-95): 100%|██████████| 2/2 [00:02<00:00,  1.18s/it]\n"
          ]
        },
        {
          "output_type": "stream",
          "name": "stdout",
          "text": [
            "                   all         47        387      0.398      0.485      0.383      0.208\n",
            "                   bee         16        203      0.354       0.65      0.465      0.267\n",
            "                   ant         31        184      0.443       0.32      0.301       0.15\n",
            "Speed: 0.3ms preprocess, 27.4ms inference, 0.0ms loss, 1.1ms postprocess per image\n",
            "Results saved to \u001b[1mruns/yolov11_bees_ants\u001b[0m\n"
          ]
        }
      ]
    },
    {
      "cell_type": "code",
      "source": [
        "model = YOLO('/content/runs/yolov11_bees_ants/weights/best.pt')  # Load the best model from previous training\n",
        "results = model.train(\n",
        "    data=CONFIG_YAML_FILE,\n",
        "    epochs=60,                    # Więcej epok dla fine-tuningu\n",
        "    imgsz=800,                   # Zachowaj większy rozmiar\n",
        "    batch=max(6, BATCH_SIZE//2), # Nieco większy batch jeśli GPU pozwala\n",
        "    patience=25,                 # Więcej cierpliwości\n",
        "    project=\"runs\",\n",
        "    name=\"yolov11_bees_ants_finetuned\",\n",
        "\n",
        "    # Optimizer settings dla fine-tuningu\n",
        "    optimizer='AdamW',           # AdamW lepszy dla fine-tuningu\n",
        "    momentum=0.9,\n",
        "    weight_decay=0.0001,         # Mniejszy weight decay\n",
        "    lr0=0.001,                   # Wyższy LR - nie za konserwatywny\n",
        "    lrf=0.01,                    # Wyższy final LR\n",
        "    cos_lr=True,\n",
        "\n",
        "    # Augmentacje dla fine-tuningu - mniej agresywne\n",
        "    augment=True,\n",
        "    mosaic=0.5,                  # Umiarkowany mosaic - nie za niski\n",
        "    mixup=0.1,                   # Niski mixup dla fine-tuningu\n",
        "    copy_paste=0.2,              # Umiarkowany copy-paste\n",
        "\n",
        "    # Geometric augmentations - łagodniejsze dla fine-tuningu\n",
        "    degrees=20.0,                # Mniejsze rotacje\n",
        "    scale=0.7,                   # Mniejszy zakres skal\n",
        "    translate=0.2,               # Umiarkowane przesunięcia\n",
        "    fliplr=0.5,                  # Horizontal flip\n",
        "    flipud=0.1,                  # Niski vertical flip\n",
        "\n",
        "    # Color augmentations - zachowaj cechy owadów\n",
        "    hsv_h=0.01,                  # Mniejsza wariacja odcienia\n",
        "    hsv_s=0.2,                   # Umiarkowana saturacja\n",
        "    hsv_v=0.3,                   # Umiarkowana jasność\n",
        "\n",
        "    # Loss weights - zbalansowane dla owadów\n",
        "    cls=0.8,                     # Umiarkowana waga klasyfikacji\n",
        "    box=5.0,                     # Wyższa waga lokalizacji - ważne dla owadów\n",
        "    dfl=1.2,                     # Distribution Focal Loss\n",
        "\n",
        "    # Detection parameters\n",
        "    conf=0.2,                    # Niski confidence dla fine-tuningu\n",
        "    iou=0.8,                     # Normalny IoU threshold\n",
        "    max_det=300,                 # Dużo detections per image\n",
        "\n",
        "    # Additional settings\n",
        "    amp=True,                    # Mixed precision\n",
        "    fraction=1.0,                # Użyj całego datasetu\n",
        "    device=device,\n",
        "    workers=WORKERS,\n",
        "\n",
        "    # Fine-tuning specific\n",
        "    freeze=0,                    # Nie zamrażaj warstw - trenuj wszystkie\n",
        "    save_period=10,              # Zapisuj rzadziej\n",
        "    plots=True,                  # Generuj wykresy postępu\n",
        "    verbose=True\n",
        ")"
      ],
      "metadata": {
        "colab": {
          "base_uri": "https://localhost:8080/"
        },
        "id": "dLvHjEz6QW-T",
        "outputId": "450771d6-fbd4-4a43-94b9-0ac98ffb952d"
      },
      "execution_count": 12,
      "outputs": [
        {
          "output_type": "stream",
          "name": "stdout",
          "text": [
            "New https://pypi.org/project/ultralytics/8.3.162 available 😃 Update with 'pip install -U ultralytics'\n",
            "Ultralytics 8.3.89 🚀 Python-3.11.13 torch-2.6.0+cu124 CUDA:0 (Tesla T4, 15095MiB)\n",
            "\u001b[34m\u001b[1mengine/trainer: \u001b[0mtask=detect, mode=train, model=/content/runs/yolov11_bees_ants/weights/best.pt, data=./config/data.yaml, epochs=60, time=None, patience=25, batch=8, imgsz=800, save=True, save_period=10, cache=False, device=0, workers=8, project=runs, name=yolov11_bees_ants_finetuned, exist_ok=False, pretrained=True, optimizer=AdamW, verbose=True, seed=0, deterministic=True, single_cls=False, rect=False, cos_lr=True, close_mosaic=10, resume=False, amp=True, fraction=1.0, profile=False, freeze=0, multi_scale=False, overlap_mask=True, mask_ratio=4, dropout=0.0, val=True, split=val, save_json=False, save_hybrid=False, conf=0.2, iou=0.8, max_det=300, half=False, dnn=False, plots=True, source=None, vid_stride=1, stream_buffer=False, visualize=False, augment=True, agnostic_nms=False, classes=None, retina_masks=False, embed=None, show=False, save_frames=False, save_txt=False, save_conf=False, save_crop=False, show_labels=True, show_conf=True, show_boxes=True, line_width=None, format=torchscript, keras=False, optimize=False, int8=False, dynamic=False, simplify=True, opset=None, workspace=None, nms=False, lr0=0.001, lrf=0.01, momentum=0.9, weight_decay=0.0001, warmup_epochs=3.0, warmup_momentum=0.8, warmup_bias_lr=0.1, box=5.0, cls=0.8, dfl=1.2, pose=12.0, kobj=1.0, nbs=64, hsv_h=0.01, hsv_s=0.2, hsv_v=0.3, degrees=20.0, translate=0.2, scale=0.7, shear=0.0, perspective=0.0, flipud=0.1, fliplr=0.5, bgr=0.0, mosaic=0.5, mixup=0.1, copy_paste=0.2, copy_paste_mode=flip, auto_augment=randaugment, erasing=0.4, crop_fraction=1.0, cfg=None, tracker=botsort.yaml, save_dir=runs/yolov11_bees_ants_finetuned\n",
            "\n",
            "                   from  n    params  module                                       arguments                     \n",
            "  0                  -1  1       464  ultralytics.nn.modules.conv.Conv             [3, 16, 3, 2]                 \n",
            "  1                  -1  1      4672  ultralytics.nn.modules.conv.Conv             [16, 32, 3, 2]                \n",
            "  2                  -1  1      6640  ultralytics.nn.modules.block.C3k2            [32, 64, 1, False, 0.25]      \n",
            "  3                  -1  1     36992  ultralytics.nn.modules.conv.Conv             [64, 64, 3, 2]                \n",
            "  4                  -1  1     26080  ultralytics.nn.modules.block.C3k2            [64, 128, 1, False, 0.25]     \n",
            "  5                  -1  1    147712  ultralytics.nn.modules.conv.Conv             [128, 128, 3, 2]              \n",
            "  6                  -1  1     87040  ultralytics.nn.modules.block.C3k2            [128, 128, 1, True]           \n",
            "  7                  -1  1    295424  ultralytics.nn.modules.conv.Conv             [128, 256, 3, 2]              \n",
            "  8                  -1  1    346112  ultralytics.nn.modules.block.C3k2            [256, 256, 1, True]           \n",
            "  9                  -1  1    164608  ultralytics.nn.modules.block.SPPF            [256, 256, 5]                 \n",
            " 10                  -1  1    249728  ultralytics.nn.modules.block.C2PSA           [256, 256, 1]                 \n",
            " 11                  -1  1         0  torch.nn.modules.upsampling.Upsample         [None, 2, 'nearest']          \n",
            " 12             [-1, 6]  1         0  ultralytics.nn.modules.conv.Concat           [1]                           \n",
            " 13                  -1  1    111296  ultralytics.nn.modules.block.C3k2            [384, 128, 1, False]          \n",
            " 14                  -1  1         0  torch.nn.modules.upsampling.Upsample         [None, 2, 'nearest']          \n",
            " 15             [-1, 4]  1         0  ultralytics.nn.modules.conv.Concat           [1]                           \n",
            " 16                  -1  1     32096  ultralytics.nn.modules.block.C3k2            [256, 64, 1, False]           \n",
            " 17                  -1  1     36992  ultralytics.nn.modules.conv.Conv             [64, 64, 3, 2]                \n",
            " 18            [-1, 13]  1         0  ultralytics.nn.modules.conv.Concat           [1]                           \n",
            " 19                  -1  1     86720  ultralytics.nn.modules.block.C3k2            [192, 128, 1, False]          \n",
            " 20                  -1  1    147712  ultralytics.nn.modules.conv.Conv             [128, 128, 3, 2]              \n",
            " 21            [-1, 10]  1         0  ultralytics.nn.modules.conv.Concat           [1]                           \n",
            " 22                  -1  1    378880  ultralytics.nn.modules.block.C3k2            [384, 256, 1, True]           \n",
            " 23        [16, 19, 22]  1    431062  ultralytics.nn.modules.head.Detect           [2, [64, 128, 256]]           \n",
            "YOLO11n summary: 181 layers, 2,590,230 parameters, 2,590,214 gradients, 6.4 GFLOPs\n",
            "\n",
            "Transferred 499/499 items from pretrained weights\n",
            "\u001b[34m\u001b[1mTensorBoard: \u001b[0mStart with 'tensorboard --logdir runs/yolov11_bees_ants_finetuned', view at http://localhost:6006/\n",
            "Freezing layer 'model.23.dfl.conv.weight'\n",
            "\u001b[34m\u001b[1mAMP: \u001b[0mrunning Automatic Mixed Precision (AMP) checks...\n",
            "\u001b[34m\u001b[1mAMP: \u001b[0mchecks passed ✅\n"
          ]
        },
        {
          "output_type": "stream",
          "name": "stderr",
          "text": [
            "\u001b[34m\u001b[1mtrain: \u001b[0mScanning /content/train_data/labels/train.cache... 629 images, 0 backgrounds, 0 corrupt: 100%|██████████| 629/629 [00:00<?, ?it/s]"
          ]
        },
        {
          "output_type": "stream",
          "name": "stdout",
          "text": [
            "\u001b[34m\u001b[1malbumentations: \u001b[0mBlur(p=0.01, blur_limit=(3, 7)), MedianBlur(p=0.01, blur_limit=(3, 7)), ToGray(p=0.01, method='weighted_average', num_output_channels=3), CLAHE(p=0.01, clip_limit=(1.0, 4.0), tile_grid_size=(8, 8))\n"
          ]
        },
        {
          "output_type": "stream",
          "name": "stderr",
          "text": [
            "\n",
            "\u001b[34m\u001b[1mval: \u001b[0mScanning /content/train_data/labels/val.cache... 47 images, 0 backgrounds, 0 corrupt: 100%|██████████| 47/47 [00:00<?, ?it/s]\n"
          ]
        },
        {
          "output_type": "stream",
          "name": "stdout",
          "text": [
            "Plotting labels to runs/yolov11_bees_ants_finetuned/labels.jpg... \n",
            "\u001b[34m\u001b[1moptimizer:\u001b[0m AdamW(lr=0.001, momentum=0.9) with parameter groups 81 weight(decay=0.0), 88 weight(decay=0.0001), 87 bias(decay=0.0)\n",
            "\u001b[34m\u001b[1mTensorBoard: \u001b[0mmodel graph visualization added ✅\n",
            "Image sizes 800 train, 800 val\n",
            "Using 2 dataloader workers\n",
            "Logging results to \u001b[1mruns/yolov11_bees_ants_finetuned\u001b[0m\n",
            "Starting training for 60 epochs...\n",
            "\n",
            "      Epoch    GPU_mem   box_loss   cls_loss   dfl_loss  Instances       Size\n"
          ]
        },
        {
          "output_type": "stream",
          "name": "stderr",
          "text": [
            "       1/60      5.03G      1.316      2.563      1.192         44        800: 100%|██████████| 79/79 [00:23<00:00,  3.41it/s]\n",
            "                 Class     Images  Instances      Box(P          R      mAP50  mAP50-95): 100%|██████████| 3/3 [00:00<00:00,  4.85it/s]"
          ]
        },
        {
          "output_type": "stream",
          "name": "stdout",
          "text": [
            "                   all         47        387      0.518      0.576      0.502      0.256\n"
          ]
        },
        {
          "output_type": "stream",
          "name": "stderr",
          "text": [
            "\n"
          ]
        },
        {
          "output_type": "stream",
          "name": "stdout",
          "text": [
            "\n",
            "      Epoch    GPU_mem   box_loss   cls_loss   dfl_loss  Instances       Size\n"
          ]
        },
        {
          "output_type": "stream",
          "name": "stderr",
          "text": [
            "       2/60      5.03G      1.299      2.449      1.183         51        800: 100%|██████████| 79/79 [00:22<00:00,  3.54it/s]\n",
            "                 Class     Images  Instances      Box(P          R      mAP50  mAP50-95): 100%|██████████| 3/3 [00:00<00:00,  5.25it/s]"
          ]
        },
        {
          "output_type": "stream",
          "name": "stdout",
          "text": [
            "                   all         47        387       0.54      0.649      0.593      0.291\n"
          ]
        },
        {
          "output_type": "stream",
          "name": "stderr",
          "text": [
            "\n"
          ]
        },
        {
          "output_type": "stream",
          "name": "stdout",
          "text": [
            "\n",
            "      Epoch    GPU_mem   box_loss   cls_loss   dfl_loss  Instances       Size\n"
          ]
        },
        {
          "output_type": "stream",
          "name": "stderr",
          "text": [
            "       3/60      5.03G      1.305      2.351      1.167         66        800: 100%|██████████| 79/79 [00:20<00:00,  3.90it/s]\n",
            "                 Class     Images  Instances      Box(P          R      mAP50  mAP50-95): 100%|██████████| 3/3 [00:00<00:00,  6.43it/s]"
          ]
        },
        {
          "output_type": "stream",
          "name": "stdout",
          "text": [
            "                   all         47        387      0.566      0.598      0.583      0.305\n"
          ]
        },
        {
          "output_type": "stream",
          "name": "stderr",
          "text": [
            "\n"
          ]
        },
        {
          "output_type": "stream",
          "name": "stdout",
          "text": [
            "\n",
            "      Epoch    GPU_mem   box_loss   cls_loss   dfl_loss  Instances       Size\n"
          ]
        },
        {
          "output_type": "stream",
          "name": "stderr",
          "text": [
            "       4/60      5.88G      1.283      2.457      1.208        114        800: 100%|██████████| 79/79 [00:21<00:00,  3.61it/s]\n",
            "                 Class     Images  Instances      Box(P          R      mAP50  mAP50-95): 100%|██████████| 3/3 [00:00<00:00,  5.96it/s]"
          ]
        },
        {
          "output_type": "stream",
          "name": "stdout",
          "text": [
            "                   all         47        387      0.649      0.543      0.619      0.295\n"
          ]
        },
        {
          "output_type": "stream",
          "name": "stderr",
          "text": [
            "\n"
          ]
        },
        {
          "output_type": "stream",
          "name": "stdout",
          "text": [
            "\n",
            "      Epoch    GPU_mem   box_loss   cls_loss   dfl_loss  Instances       Size\n"
          ]
        },
        {
          "output_type": "stream",
          "name": "stderr",
          "text": [
            "       5/60      5.88G      1.287      2.537      1.202        343        800: 100%|██████████| 79/79 [00:21<00:00,  3.60it/s]\n",
            "                 Class     Images  Instances      Box(P          R      mAP50  mAP50-95): 100%|██████████| 3/3 [00:00<00:00,  5.07it/s]"
          ]
        },
        {
          "output_type": "stream",
          "name": "stdout",
          "text": [
            "                   all         47        387      0.587      0.545       0.56      0.268\n"
          ]
        },
        {
          "output_type": "stream",
          "name": "stderr",
          "text": [
            "\n"
          ]
        },
        {
          "output_type": "stream",
          "name": "stdout",
          "text": [
            "\n",
            "      Epoch    GPU_mem   box_loss   cls_loss   dfl_loss  Instances       Size\n"
          ]
        },
        {
          "output_type": "stream",
          "name": "stderr",
          "text": [
            "       6/60      5.88G      1.267       2.37       1.18        188        800: 100%|██████████| 79/79 [00:21<00:00,  3.68it/s]\n",
            "                 Class     Images  Instances      Box(P          R      mAP50  mAP50-95): 100%|██████████| 3/3 [00:00<00:00,  6.67it/s]"
          ]
        },
        {
          "output_type": "stream",
          "name": "stdout",
          "text": [
            "                   all         47        387      0.505      0.588      0.569      0.282\n"
          ]
        },
        {
          "output_type": "stream",
          "name": "stderr",
          "text": [
            "\n"
          ]
        },
        {
          "output_type": "stream",
          "name": "stdout",
          "text": [
            "\n",
            "      Epoch    GPU_mem   box_loss   cls_loss   dfl_loss  Instances       Size\n"
          ]
        },
        {
          "output_type": "stream",
          "name": "stderr",
          "text": [
            "       7/60      5.88G      1.298      2.399      1.193        214        800: 100%|██████████| 79/79 [00:20<00:00,  3.77it/s]\n",
            "                 Class     Images  Instances      Box(P          R      mAP50  mAP50-95): 100%|██████████| 3/3 [00:00<00:00,  3.16it/s]"
          ]
        },
        {
          "output_type": "stream",
          "name": "stdout",
          "text": [
            "                   all         47        387      0.547      0.569      0.542       0.29\n"
          ]
        },
        {
          "output_type": "stream",
          "name": "stderr",
          "text": [
            "\n"
          ]
        },
        {
          "output_type": "stream",
          "name": "stdout",
          "text": [
            "\n",
            "      Epoch    GPU_mem   box_loss   cls_loss   dfl_loss  Instances       Size\n"
          ]
        },
        {
          "output_type": "stream",
          "name": "stderr",
          "text": [
            "       8/60      5.88G      1.294      2.436      1.179        122        800: 100%|██████████| 79/79 [00:20<00:00,  3.89it/s]\n",
            "                 Class     Images  Instances      Box(P          R      mAP50  mAP50-95): 100%|██████████| 3/3 [00:00<00:00,  6.38it/s]"
          ]
        },
        {
          "output_type": "stream",
          "name": "stdout",
          "text": [
            "                   all         47        387       0.59      0.621      0.606      0.306\n"
          ]
        },
        {
          "output_type": "stream",
          "name": "stderr",
          "text": [
            "\n"
          ]
        },
        {
          "output_type": "stream",
          "name": "stdout",
          "text": [
            "\n",
            "      Epoch    GPU_mem   box_loss   cls_loss   dfl_loss  Instances       Size\n"
          ]
        },
        {
          "output_type": "stream",
          "name": "stderr",
          "text": [
            "       9/60      5.88G      1.291       2.33      1.172         22        800: 100%|██████████| 79/79 [00:21<00:00,  3.69it/s]\n",
            "                 Class     Images  Instances      Box(P          R      mAP50  mAP50-95): 100%|██████████| 3/3 [00:00<00:00,  3.22it/s]"
          ]
        },
        {
          "output_type": "stream",
          "name": "stdout",
          "text": [
            "                   all         47        387      0.541      0.629      0.572      0.292\n"
          ]
        },
        {
          "output_type": "stream",
          "name": "stderr",
          "text": [
            "\n"
          ]
        },
        {
          "output_type": "stream",
          "name": "stdout",
          "text": [
            "\n",
            "      Epoch    GPU_mem   box_loss   cls_loss   dfl_loss  Instances       Size\n"
          ]
        },
        {
          "output_type": "stream",
          "name": "stderr",
          "text": [
            "      10/60      5.88G      1.315      2.518      1.176        153        800: 100%|██████████| 79/79 [00:20<00:00,  3.92it/s]\n",
            "                 Class     Images  Instances      Box(P          R      mAP50  mAP50-95): 100%|██████████| 3/3 [00:00<00:00,  4.38it/s]"
          ]
        },
        {
          "output_type": "stream",
          "name": "stdout",
          "text": [
            "                   all         47        387      0.595      0.596      0.615      0.319\n"
          ]
        },
        {
          "output_type": "stream",
          "name": "stderr",
          "text": [
            "\n"
          ]
        },
        {
          "output_type": "stream",
          "name": "stdout",
          "text": [
            "\n",
            "      Epoch    GPU_mem   box_loss   cls_loss   dfl_loss  Instances       Size\n"
          ]
        },
        {
          "output_type": "stream",
          "name": "stderr",
          "text": [
            "      11/60      5.88G      1.287      2.407      1.173        114        800: 100%|██████████| 79/79 [00:21<00:00,  3.62it/s]\n",
            "                 Class     Images  Instances      Box(P          R      mAP50  mAP50-95): 100%|██████████| 3/3 [00:00<00:00,  6.68it/s]"
          ]
        },
        {
          "output_type": "stream",
          "name": "stdout",
          "text": [
            "                   all         47        387      0.511      0.631      0.575      0.302\n"
          ]
        },
        {
          "output_type": "stream",
          "name": "stderr",
          "text": [
            "\n"
          ]
        },
        {
          "output_type": "stream",
          "name": "stdout",
          "text": [
            "\n",
            "      Epoch    GPU_mem   box_loss   cls_loss   dfl_loss  Instances       Size\n"
          ]
        },
        {
          "output_type": "stream",
          "name": "stderr",
          "text": [
            "      12/60      5.88G      1.309      2.375      1.163         20        800: 100%|██████████| 79/79 [00:20<00:00,  3.92it/s]\n",
            "                 Class     Images  Instances      Box(P          R      mAP50  mAP50-95): 100%|██████████| 3/3 [00:00<00:00,  6.01it/s]"
          ]
        },
        {
          "output_type": "stream",
          "name": "stdout",
          "text": [
            "                   all         47        387      0.515      0.588      0.542      0.284\n"
          ]
        },
        {
          "output_type": "stream",
          "name": "stderr",
          "text": [
            "\n"
          ]
        },
        {
          "output_type": "stream",
          "name": "stdout",
          "text": [
            "\n",
            "      Epoch    GPU_mem   box_loss   cls_loss   dfl_loss  Instances       Size\n"
          ]
        },
        {
          "output_type": "stream",
          "name": "stderr",
          "text": [
            "      13/60      5.88G      1.292      2.366      1.169        154        800: 100%|██████████| 79/79 [00:21<00:00,  3.65it/s]\n",
            "                 Class     Images  Instances      Box(P          R      mAP50  mAP50-95): 100%|██████████| 3/3 [00:00<00:00,  6.50it/s]"
          ]
        },
        {
          "output_type": "stream",
          "name": "stdout",
          "text": [
            "                   all         47        387      0.563       0.61      0.597      0.309\n"
          ]
        },
        {
          "output_type": "stream",
          "name": "stderr",
          "text": [
            "\n"
          ]
        },
        {
          "output_type": "stream",
          "name": "stdout",
          "text": [
            "\n",
            "      Epoch    GPU_mem   box_loss   cls_loss   dfl_loss  Instances       Size\n"
          ]
        },
        {
          "output_type": "stream",
          "name": "stderr",
          "text": [
            "      14/60      5.88G      1.268      2.367      1.183         15        800: 100%|██████████| 79/79 [00:21<00:00,  3.59it/s]\n",
            "                 Class     Images  Instances      Box(P          R      mAP50  mAP50-95): 100%|██████████| 3/3 [00:00<00:00,  6.65it/s]"
          ]
        },
        {
          "output_type": "stream",
          "name": "stdout",
          "text": [
            "                   all         47        387      0.557      0.622      0.589      0.312\n"
          ]
        },
        {
          "output_type": "stream",
          "name": "stderr",
          "text": [
            "\n"
          ]
        },
        {
          "output_type": "stream",
          "name": "stdout",
          "text": [
            "\n",
            "      Epoch    GPU_mem   box_loss   cls_loss   dfl_loss  Instances       Size\n"
          ]
        },
        {
          "output_type": "stream",
          "name": "stderr",
          "text": [
            "      15/60      5.88G      1.278      2.343      1.176        184        800: 100%|██████████| 79/79 [00:21<00:00,  3.67it/s]\n",
            "                 Class     Images  Instances      Box(P          R      mAP50  mAP50-95): 100%|██████████| 3/3 [00:00<00:00,  6.53it/s]"
          ]
        },
        {
          "output_type": "stream",
          "name": "stdout",
          "text": [
            "                   all         47        387      0.551      0.583      0.596       0.32\n"
          ]
        },
        {
          "output_type": "stream",
          "name": "stderr",
          "text": [
            "\n"
          ]
        },
        {
          "output_type": "stream",
          "name": "stdout",
          "text": [
            "\n",
            "      Epoch    GPU_mem   box_loss   cls_loss   dfl_loss  Instances       Size\n"
          ]
        },
        {
          "output_type": "stream",
          "name": "stderr",
          "text": [
            "      16/60      5.88G      1.293      2.421      1.189        124        800: 100%|██████████| 79/79 [00:20<00:00,  3.83it/s]\n",
            "                 Class     Images  Instances      Box(P          R      mAP50  mAP50-95): 100%|██████████| 3/3 [00:00<00:00,  4.55it/s]"
          ]
        },
        {
          "output_type": "stream",
          "name": "stdout",
          "text": [
            "                   all         47        387      0.594      0.582      0.609      0.323\n"
          ]
        },
        {
          "output_type": "stream",
          "name": "stderr",
          "text": [
            "\n"
          ]
        },
        {
          "output_type": "stream",
          "name": "stdout",
          "text": [
            "\n",
            "      Epoch    GPU_mem   box_loss   cls_loss   dfl_loss  Instances       Size\n"
          ]
        },
        {
          "output_type": "stream",
          "name": "stderr",
          "text": [
            "      17/60      5.88G      1.291      2.332      1.177        171        800: 100%|██████████| 79/79 [00:21<00:00,  3.72it/s]\n",
            "                 Class     Images  Instances      Box(P          R      mAP50  mAP50-95): 100%|██████████| 3/3 [00:00<00:00,  5.82it/s]"
          ]
        },
        {
          "output_type": "stream",
          "name": "stdout",
          "text": [
            "                   all         47        387      0.533      0.595       0.54      0.289\n"
          ]
        },
        {
          "output_type": "stream",
          "name": "stderr",
          "text": [
            "\n"
          ]
        },
        {
          "output_type": "stream",
          "name": "stdout",
          "text": [
            "\n",
            "      Epoch    GPU_mem   box_loss   cls_loss   dfl_loss  Instances       Size\n"
          ]
        },
        {
          "output_type": "stream",
          "name": "stderr",
          "text": [
            "      18/60      5.88G      1.291      2.331      1.154        297        800: 100%|██████████| 79/79 [00:21<00:00,  3.72it/s]\n",
            "                 Class     Images  Instances      Box(P          R      mAP50  mAP50-95): 100%|██████████| 3/3 [00:00<00:00,  3.10it/s]"
          ]
        },
        {
          "output_type": "stream",
          "name": "stdout",
          "text": [
            "                   all         47        387      0.567      0.658        0.6      0.312\n"
          ]
        },
        {
          "output_type": "stream",
          "name": "stderr",
          "text": [
            "\n"
          ]
        },
        {
          "output_type": "stream",
          "name": "stdout",
          "text": [
            "\n",
            "      Epoch    GPU_mem   box_loss   cls_loss   dfl_loss  Instances       Size\n"
          ]
        },
        {
          "output_type": "stream",
          "name": "stderr",
          "text": [
            "      19/60      6.73G      1.287      2.252      1.165        160        800: 100%|██████████| 79/79 [00:20<00:00,  3.87it/s]\n",
            "                 Class     Images  Instances      Box(P          R      mAP50  mAP50-95): 100%|██████████| 3/3 [00:00<00:00,  5.04it/s]"
          ]
        },
        {
          "output_type": "stream",
          "name": "stdout",
          "text": [
            "                   all         47        387      0.574      0.656      0.608      0.323\n"
          ]
        },
        {
          "output_type": "stream",
          "name": "stderr",
          "text": [
            "\n"
          ]
        },
        {
          "output_type": "stream",
          "name": "stdout",
          "text": [
            "\n",
            "      Epoch    GPU_mem   box_loss   cls_loss   dfl_loss  Instances       Size\n"
          ]
        },
        {
          "output_type": "stream",
          "name": "stderr",
          "text": [
            "      20/60      6.73G      1.265      2.257      1.153        409        800: 100%|██████████| 79/79 [00:21<00:00,  3.68it/s]\n",
            "                 Class     Images  Instances      Box(P          R      mAP50  mAP50-95): 100%|██████████| 3/3 [00:00<00:00,  5.59it/s]"
          ]
        },
        {
          "output_type": "stream",
          "name": "stdout",
          "text": [
            "                   all         47        387      0.598      0.599      0.612      0.312\n"
          ]
        },
        {
          "output_type": "stream",
          "name": "stderr",
          "text": [
            "\n"
          ]
        },
        {
          "output_type": "stream",
          "name": "stdout",
          "text": [
            "\n",
            "      Epoch    GPU_mem   box_loss   cls_loss   dfl_loss  Instances       Size\n"
          ]
        },
        {
          "output_type": "stream",
          "name": "stderr",
          "text": [
            "      21/60      6.73G      1.297      2.317       1.15         38        800: 100%|██████████| 79/79 [00:20<00:00,  3.90it/s]\n",
            "                 Class     Images  Instances      Box(P          R      mAP50  mAP50-95): 100%|██████████| 3/3 [00:00<00:00,  7.01it/s]"
          ]
        },
        {
          "output_type": "stream",
          "name": "stdout",
          "text": [
            "                   all         47        387       0.56      0.641      0.626       0.34\n"
          ]
        },
        {
          "output_type": "stream",
          "name": "stderr",
          "text": [
            "\n"
          ]
        },
        {
          "output_type": "stream",
          "name": "stdout",
          "text": [
            "\n",
            "      Epoch    GPU_mem   box_loss   cls_loss   dfl_loss  Instances       Size\n"
          ]
        },
        {
          "output_type": "stream",
          "name": "stderr",
          "text": [
            "      22/60      6.73G      1.287      2.266      1.144        106        800: 100%|██████████| 79/79 [00:21<00:00,  3.59it/s]\n",
            "                 Class     Images  Instances      Box(P          R      mAP50  mAP50-95): 100%|██████████| 3/3 [00:00<00:00,  5.48it/s]"
          ]
        },
        {
          "output_type": "stream",
          "name": "stdout",
          "text": [
            "                   all         47        387      0.544      0.636      0.565      0.305\n"
          ]
        },
        {
          "output_type": "stream",
          "name": "stderr",
          "text": [
            "\n"
          ]
        },
        {
          "output_type": "stream",
          "name": "stdout",
          "text": [
            "\n",
            "      Epoch    GPU_mem   box_loss   cls_loss   dfl_loss  Instances       Size\n"
          ]
        },
        {
          "output_type": "stream",
          "name": "stderr",
          "text": [
            "      23/60      6.73G      1.287      2.245      1.142        206        800: 100%|██████████| 79/79 [00:22<00:00,  3.56it/s]\n",
            "                 Class     Images  Instances      Box(P          R      mAP50  mAP50-95): 100%|██████████| 3/3 [00:00<00:00,  4.29it/s]"
          ]
        },
        {
          "output_type": "stream",
          "name": "stdout",
          "text": [
            "                   all         47        387      0.589      0.673      0.608      0.333\n"
          ]
        },
        {
          "output_type": "stream",
          "name": "stderr",
          "text": [
            "\n"
          ]
        },
        {
          "output_type": "stream",
          "name": "stdout",
          "text": [
            "\n",
            "      Epoch    GPU_mem   box_loss   cls_loss   dfl_loss  Instances       Size\n"
          ]
        },
        {
          "output_type": "stream",
          "name": "stderr",
          "text": [
            "      24/60      6.73G      1.272      2.239      1.157         44        800: 100%|██████████| 79/79 [00:20<00:00,  3.76it/s]\n",
            "                 Class     Images  Instances      Box(P          R      mAP50  mAP50-95): 100%|██████████| 3/3 [00:00<00:00,  6.06it/s]"
          ]
        },
        {
          "output_type": "stream",
          "name": "stdout",
          "text": [
            "                   all         47        387        0.5      0.651      0.538      0.285\n"
          ]
        },
        {
          "output_type": "stream",
          "name": "stderr",
          "text": [
            "\n"
          ]
        },
        {
          "output_type": "stream",
          "name": "stdout",
          "text": [
            "\n",
            "      Epoch    GPU_mem   box_loss   cls_loss   dfl_loss  Instances       Size\n"
          ]
        },
        {
          "output_type": "stream",
          "name": "stderr",
          "text": [
            "      25/60      7.72G       1.24      2.229      1.161        161        800: 100%|██████████| 79/79 [00:21<00:00,  3.75it/s]\n",
            "                 Class     Images  Instances      Box(P          R      mAP50  mAP50-95): 100%|██████████| 3/3 [00:00<00:00,  3.08it/s]"
          ]
        },
        {
          "output_type": "stream",
          "name": "stdout",
          "text": [
            "                   all         47        387       0.61      0.691       0.65      0.325\n"
          ]
        },
        {
          "output_type": "stream",
          "name": "stderr",
          "text": [
            "\n"
          ]
        },
        {
          "output_type": "stream",
          "name": "stdout",
          "text": [
            "\n",
            "      Epoch    GPU_mem   box_loss   cls_loss   dfl_loss  Instances       Size\n"
          ]
        },
        {
          "output_type": "stream",
          "name": "stderr",
          "text": [
            "      26/60      7.72G      1.266      2.237      1.169        239        800: 100%|██████████| 79/79 [00:20<00:00,  3.81it/s]\n",
            "                 Class     Images  Instances      Box(P          R      mAP50  mAP50-95): 100%|██████████| 3/3 [00:00<00:00,  6.52it/s]"
          ]
        },
        {
          "output_type": "stream",
          "name": "stdout",
          "text": [
            "                   all         47        387      0.572      0.698      0.632      0.329\n"
          ]
        },
        {
          "output_type": "stream",
          "name": "stderr",
          "text": [
            "\n"
          ]
        },
        {
          "output_type": "stream",
          "name": "stdout",
          "text": [
            "\n",
            "      Epoch    GPU_mem   box_loss   cls_loss   dfl_loss  Instances       Size\n"
          ]
        },
        {
          "output_type": "stream",
          "name": "stderr",
          "text": [
            "      27/60      7.72G      1.273      2.228      1.145        188        800: 100%|██████████| 79/79 [00:21<00:00,  3.61it/s]\n",
            "                 Class     Images  Instances      Box(P          R      mAP50  mAP50-95): 100%|██████████| 3/3 [00:00<00:00,  6.45it/s]"
          ]
        },
        {
          "output_type": "stream",
          "name": "stdout",
          "text": [
            "                   all         47        387      0.566       0.65      0.586      0.316\n"
          ]
        },
        {
          "output_type": "stream",
          "name": "stderr",
          "text": [
            "\n"
          ]
        },
        {
          "output_type": "stream",
          "name": "stdout",
          "text": [
            "\n",
            "      Epoch    GPU_mem   box_loss   cls_loss   dfl_loss  Instances       Size\n"
          ]
        },
        {
          "output_type": "stream",
          "name": "stderr",
          "text": [
            "      28/60      7.72G      1.239      2.146      1.141         69        800: 100%|██████████| 79/79 [00:20<00:00,  3.93it/s]\n",
            "                 Class     Images  Instances      Box(P          R      mAP50  mAP50-95): 100%|██████████| 3/3 [00:00<00:00,  6.14it/s]"
          ]
        },
        {
          "output_type": "stream",
          "name": "stdout",
          "text": [
            "                   all         47        387      0.578      0.659      0.626      0.327\n"
          ]
        },
        {
          "output_type": "stream",
          "name": "stderr",
          "text": [
            "\n"
          ]
        },
        {
          "output_type": "stream",
          "name": "stdout",
          "text": [
            "\n",
            "      Epoch    GPU_mem   box_loss   cls_loss   dfl_loss  Instances       Size\n"
          ]
        },
        {
          "output_type": "stream",
          "name": "stderr",
          "text": [
            "      29/60      7.72G      1.262      2.198      1.149         76        800: 100%|██████████| 79/79 [00:21<00:00,  3.63it/s]\n",
            "                 Class     Images  Instances      Box(P          R      mAP50  mAP50-95): 100%|██████████| 3/3 [00:00<00:00,  5.68it/s]"
          ]
        },
        {
          "output_type": "stream",
          "name": "stdout",
          "text": [
            "                   all         47        387      0.569      0.661      0.618      0.333\n"
          ]
        },
        {
          "output_type": "stream",
          "name": "stderr",
          "text": [
            "\n"
          ]
        },
        {
          "output_type": "stream",
          "name": "stdout",
          "text": [
            "\n",
            "      Epoch    GPU_mem   box_loss   cls_loss   dfl_loss  Instances       Size\n"
          ]
        },
        {
          "output_type": "stream",
          "name": "stderr",
          "text": [
            "      30/60      7.72G      1.241      2.157      1.113         54        800: 100%|██████████| 79/79 [00:20<00:00,  3.88it/s]\n",
            "                 Class     Images  Instances      Box(P          R      mAP50  mAP50-95): 100%|██████████| 3/3 [00:00<00:00,  6.40it/s]"
          ]
        },
        {
          "output_type": "stream",
          "name": "stdout",
          "text": [
            "                   all         47        387      0.551      0.678      0.632      0.336\n"
          ]
        },
        {
          "output_type": "stream",
          "name": "stderr",
          "text": [
            "\n"
          ]
        },
        {
          "output_type": "stream",
          "name": "stdout",
          "text": [
            "\n",
            "      Epoch    GPU_mem   box_loss   cls_loss   dfl_loss  Instances       Size\n"
          ]
        },
        {
          "output_type": "stream",
          "name": "stderr",
          "text": [
            "      31/60      7.72G      1.247      2.196       1.13        163        800: 100%|██████████| 79/79 [00:21<00:00,  3.71it/s]\n",
            "                 Class     Images  Instances      Box(P          R      mAP50  mAP50-95): 100%|██████████| 3/3 [00:00<00:00,  6.48it/s]"
          ]
        },
        {
          "output_type": "stream",
          "name": "stdout",
          "text": [
            "                   all         47        387      0.618       0.65      0.665      0.346\n"
          ]
        },
        {
          "output_type": "stream",
          "name": "stderr",
          "text": [
            "\n"
          ]
        },
        {
          "output_type": "stream",
          "name": "stdout",
          "text": [
            "\n",
            "      Epoch    GPU_mem   box_loss   cls_loss   dfl_loss  Instances       Size\n"
          ]
        },
        {
          "output_type": "stream",
          "name": "stderr",
          "text": [
            "      32/60      7.72G      1.219      2.054      1.104        104        800: 100%|██████████| 79/79 [00:21<00:00,  3.62it/s]\n",
            "                 Class     Images  Instances      Box(P          R      mAP50  mAP50-95): 100%|██████████| 3/3 [00:00<00:00,  3.74it/s]\n"
          ]
        },
        {
          "output_type": "stream",
          "name": "stdout",
          "text": [
            "                   all         47        387      0.551      0.661      0.618      0.332\n",
            "\n",
            "      Epoch    GPU_mem   box_loss   cls_loss   dfl_loss  Instances       Size\n"
          ]
        },
        {
          "output_type": "stream",
          "name": "stderr",
          "text": [
            "      33/60      7.72G      1.281      2.182      1.133        171        800: 100%|██████████| 79/79 [00:21<00:00,  3.65it/s]\n",
            "                 Class     Images  Instances      Box(P          R      mAP50  mAP50-95): 100%|██████████| 3/3 [00:00<00:00,  7.38it/s]"
          ]
        },
        {
          "output_type": "stream",
          "name": "stdout",
          "text": [
            "                   all         47        387      0.614      0.666      0.652      0.339\n"
          ]
        },
        {
          "output_type": "stream",
          "name": "stderr",
          "text": [
            "\n"
          ]
        },
        {
          "output_type": "stream",
          "name": "stdout",
          "text": [
            "\n",
            "      Epoch    GPU_mem   box_loss   cls_loss   dfl_loss  Instances       Size\n"
          ]
        },
        {
          "output_type": "stream",
          "name": "stderr",
          "text": [
            "      34/60      7.72G       1.27      2.178      1.138        264        800: 100%|██████████| 79/79 [00:21<00:00,  3.74it/s]\n",
            "                 Class     Images  Instances      Box(P          R      mAP50  mAP50-95): 100%|██████████| 3/3 [00:00<00:00,  3.42it/s]"
          ]
        },
        {
          "output_type": "stream",
          "name": "stdout",
          "text": [
            "                   all         47        387      0.614      0.659      0.628      0.343\n"
          ]
        },
        {
          "output_type": "stream",
          "name": "stderr",
          "text": [
            "\n"
          ]
        },
        {
          "output_type": "stream",
          "name": "stdout",
          "text": [
            "\n",
            "      Epoch    GPU_mem   box_loss   cls_loss   dfl_loss  Instances       Size\n"
          ]
        },
        {
          "output_type": "stream",
          "name": "stderr",
          "text": [
            "      35/60      7.72G      1.255      2.098      1.126        128        800: 100%|██████████| 79/79 [00:20<00:00,  3.88it/s]\n",
            "                 Class     Images  Instances      Box(P          R      mAP50  mAP50-95): 100%|██████████| 3/3 [00:00<00:00,  6.13it/s]"
          ]
        },
        {
          "output_type": "stream",
          "name": "stdout",
          "text": [
            "                   all         47        387      0.587      0.655      0.622      0.339\n"
          ]
        },
        {
          "output_type": "stream",
          "name": "stderr",
          "text": [
            "\n"
          ]
        },
        {
          "output_type": "stream",
          "name": "stdout",
          "text": [
            "\n",
            "      Epoch    GPU_mem   box_loss   cls_loss   dfl_loss  Instances       Size\n"
          ]
        },
        {
          "output_type": "stream",
          "name": "stderr",
          "text": [
            "      36/60      8.89G      1.268      2.122       1.12        116        800: 100%|██████████| 79/79 [00:22<00:00,  3.54it/s]\n",
            "                 Class     Images  Instances      Box(P          R      mAP50  mAP50-95): 100%|██████████| 3/3 [00:00<00:00,  6.74it/s]"
          ]
        },
        {
          "output_type": "stream",
          "name": "stdout",
          "text": [
            "                   all         47        387      0.589      0.671      0.641      0.355\n"
          ]
        },
        {
          "output_type": "stream",
          "name": "stderr",
          "text": [
            "\n"
          ]
        },
        {
          "output_type": "stream",
          "name": "stdout",
          "text": [
            "\n",
            "      Epoch    GPU_mem   box_loss   cls_loss   dfl_loss  Instances       Size\n"
          ]
        },
        {
          "output_type": "stream",
          "name": "stderr",
          "text": [
            "      37/60      8.89G      1.267      2.216      1.134         63        800: 100%|██████████| 79/79 [00:20<00:00,  3.84it/s]\n",
            "                 Class     Images  Instances      Box(P          R      mAP50  mAP50-95): 100%|██████████| 3/3 [00:00<00:00,  5.36it/s]"
          ]
        },
        {
          "output_type": "stream",
          "name": "stdout",
          "text": [
            "                   all         47        387      0.567      0.599      0.615      0.334\n"
          ]
        },
        {
          "output_type": "stream",
          "name": "stderr",
          "text": [
            "\n"
          ]
        },
        {
          "output_type": "stream",
          "name": "stdout",
          "text": [
            "\n",
            "      Epoch    GPU_mem   box_loss   cls_loss   dfl_loss  Instances       Size\n"
          ]
        },
        {
          "output_type": "stream",
          "name": "stderr",
          "text": [
            "      38/60      8.89G      1.237      2.124      1.123        164        800: 100%|██████████| 79/79 [00:22<00:00,  3.58it/s]\n",
            "                 Class     Images  Instances      Box(P          R      mAP50  mAP50-95): 100%|██████████| 3/3 [00:00<00:00,  4.52it/s]"
          ]
        },
        {
          "output_type": "stream",
          "name": "stdout",
          "text": [
            "                   all         47        387      0.575      0.644      0.615      0.337\n"
          ]
        },
        {
          "output_type": "stream",
          "name": "stderr",
          "text": [
            "\n"
          ]
        },
        {
          "output_type": "stream",
          "name": "stdout",
          "text": [
            "\n",
            "      Epoch    GPU_mem   box_loss   cls_loss   dfl_loss  Instances       Size\n"
          ]
        },
        {
          "output_type": "stream",
          "name": "stderr",
          "text": [
            "      39/60      8.89G      1.244        2.1      1.128         97        800: 100%|██████████| 79/79 [00:20<00:00,  3.78it/s]\n",
            "                 Class     Images  Instances      Box(P          R      mAP50  mAP50-95): 100%|██████████| 3/3 [00:00<00:00,  3.94it/s]"
          ]
        },
        {
          "output_type": "stream",
          "name": "stdout",
          "text": [
            "                   all         47        387      0.598       0.69      0.653      0.351\n"
          ]
        },
        {
          "output_type": "stream",
          "name": "stderr",
          "text": [
            "\n"
          ]
        },
        {
          "output_type": "stream",
          "name": "stdout",
          "text": [
            "\n",
            "      Epoch    GPU_mem   box_loss   cls_loss   dfl_loss  Instances       Size\n"
          ]
        },
        {
          "output_type": "stream",
          "name": "stderr",
          "text": [
            "      40/60      8.89G      1.227      2.048      1.128        182        800: 100%|██████████| 79/79 [00:20<00:00,  3.83it/s]\n",
            "                 Class     Images  Instances      Box(P          R      mAP50  mAP50-95): 100%|██████████| 3/3 [00:00<00:00,  5.55it/s]\n"
          ]
        },
        {
          "output_type": "stream",
          "name": "stdout",
          "text": [
            "                   all         47        387      0.585      0.692      0.673      0.372\n",
            "\n",
            "      Epoch    GPU_mem   box_loss   cls_loss   dfl_loss  Instances       Size\n"
          ]
        },
        {
          "output_type": "stream",
          "name": "stderr",
          "text": [
            "      41/60      8.89G      1.217      2.014      1.117         48        800: 100%|██████████| 79/79 [00:22<00:00,  3.44it/s]\n",
            "                 Class     Images  Instances      Box(P          R      mAP50  mAP50-95): 100%|██████████| 3/3 [00:00<00:00,  6.31it/s]"
          ]
        },
        {
          "output_type": "stream",
          "name": "stdout",
          "text": [
            "                   all         47        387      0.581      0.678      0.642      0.354\n"
          ]
        },
        {
          "output_type": "stream",
          "name": "stderr",
          "text": [
            "\n"
          ]
        },
        {
          "output_type": "stream",
          "name": "stdout",
          "text": [
            "\n",
            "      Epoch    GPU_mem   box_loss   cls_loss   dfl_loss  Instances       Size\n"
          ]
        },
        {
          "output_type": "stream",
          "name": "stderr",
          "text": [
            "      42/60      8.89G      1.224      1.994      1.112        303        800: 100%|██████████| 79/79 [00:20<00:00,  3.92it/s]\n",
            "                 Class     Images  Instances      Box(P          R      mAP50  mAP50-95): 100%|██████████| 3/3 [00:00<00:00,  5.66it/s]"
          ]
        },
        {
          "output_type": "stream",
          "name": "stdout",
          "text": [
            "                   all         47        387      0.587      0.643      0.646      0.354\n"
          ]
        },
        {
          "output_type": "stream",
          "name": "stderr",
          "text": [
            "\n"
          ]
        },
        {
          "output_type": "stream",
          "name": "stdout",
          "text": [
            "\n",
            "      Epoch    GPU_mem   box_loss   cls_loss   dfl_loss  Instances       Size\n"
          ]
        },
        {
          "output_type": "stream",
          "name": "stderr",
          "text": [
            "      43/60      8.89G      1.213      2.068      1.148        141        800: 100%|██████████| 79/79 [00:22<00:00,  3.58it/s]\n",
            "                 Class     Images  Instances      Box(P          R      mAP50  mAP50-95): 100%|██████████| 3/3 [00:00<00:00,  5.20it/s]"
          ]
        },
        {
          "output_type": "stream",
          "name": "stdout",
          "text": [
            "                   all         47        387      0.586      0.669      0.652      0.361\n"
          ]
        },
        {
          "output_type": "stream",
          "name": "stderr",
          "text": [
            "\n"
          ]
        },
        {
          "output_type": "stream",
          "name": "stdout",
          "text": [
            "\n",
            "      Epoch    GPU_mem   box_loss   cls_loss   dfl_loss  Instances       Size\n"
          ]
        },
        {
          "output_type": "stream",
          "name": "stderr",
          "text": [
            "      44/60      8.89G      1.211      2.043      1.118         50        800: 100%|██████████| 79/79 [00:20<00:00,  3.92it/s]\n",
            "                 Class     Images  Instances      Box(P          R      mAP50  mAP50-95): 100%|██████████| 3/3 [00:00<00:00,  5.25it/s]"
          ]
        },
        {
          "output_type": "stream",
          "name": "stdout",
          "text": [
            "                   all         47        387      0.603      0.629      0.652      0.358\n"
          ]
        },
        {
          "output_type": "stream",
          "name": "stderr",
          "text": [
            "\n"
          ]
        },
        {
          "output_type": "stream",
          "name": "stdout",
          "text": [
            "\n",
            "      Epoch    GPU_mem   box_loss   cls_loss   dfl_loss  Instances       Size\n"
          ]
        },
        {
          "output_type": "stream",
          "name": "stderr",
          "text": [
            "      45/60      8.89G      1.242       2.08      1.125        101        800: 100%|██████████| 79/79 [00:21<00:00,  3.59it/s]\n",
            "                 Class     Images  Instances      Box(P          R      mAP50  mAP50-95): 100%|██████████| 3/3 [00:00<00:00,  5.74it/s]"
          ]
        },
        {
          "output_type": "stream",
          "name": "stdout",
          "text": [
            "                   all         47        387      0.616      0.645      0.654      0.362\n"
          ]
        },
        {
          "output_type": "stream",
          "name": "stderr",
          "text": [
            "\n"
          ]
        },
        {
          "output_type": "stream",
          "name": "stdout",
          "text": [
            "\n",
            "      Epoch    GPU_mem   box_loss   cls_loss   dfl_loss  Instances       Size\n"
          ]
        },
        {
          "output_type": "stream",
          "name": "stderr",
          "text": [
            "      46/60      8.89G      1.232      2.059      1.108        240        800: 100%|██████████| 79/79 [00:20<00:00,  3.78it/s]\n",
            "                 Class     Images  Instances      Box(P          R      mAP50  mAP50-95): 100%|██████████| 3/3 [00:01<00:00,  2.77it/s]"
          ]
        },
        {
          "output_type": "stream",
          "name": "stdout",
          "text": [
            "                   all         47        387       0.59      0.661      0.651      0.356\n"
          ]
        },
        {
          "output_type": "stream",
          "name": "stderr",
          "text": [
            "\n"
          ]
        },
        {
          "output_type": "stream",
          "name": "stdout",
          "text": [
            "\n",
            "      Epoch    GPU_mem   box_loss   cls_loss   dfl_loss  Instances       Size\n"
          ]
        },
        {
          "output_type": "stream",
          "name": "stderr",
          "text": [
            "      47/60      8.89G      1.219      2.055      1.122         15        800: 100%|██████████| 79/79 [00:20<00:00,  3.86it/s]\n",
            "                 Class     Images  Instances      Box(P          R      mAP50  mAP50-95): 100%|██████████| 3/3 [00:00<00:00,  6.36it/s]"
          ]
        },
        {
          "output_type": "stream",
          "name": "stdout",
          "text": [
            "                   all         47        387      0.634      0.649      0.665      0.367\n"
          ]
        },
        {
          "output_type": "stream",
          "name": "stderr",
          "text": [
            "\n"
          ]
        },
        {
          "output_type": "stream",
          "name": "stdout",
          "text": [
            "\n",
            "      Epoch    GPU_mem   box_loss   cls_loss   dfl_loss  Instances       Size\n"
          ]
        },
        {
          "output_type": "stream",
          "name": "stderr",
          "text": [
            "      48/60      8.89G      1.231      2.027      1.116         82        800: 100%|██████████| 79/79 [00:22<00:00,  3.56it/s]\n",
            "                 Class     Images  Instances      Box(P          R      mAP50  mAP50-95): 100%|██████████| 3/3 [00:00<00:00,  6.68it/s]"
          ]
        },
        {
          "output_type": "stream",
          "name": "stdout",
          "text": [
            "                   all         47        387      0.635      0.639      0.641      0.353\n"
          ]
        },
        {
          "output_type": "stream",
          "name": "stderr",
          "text": [
            "\n"
          ]
        },
        {
          "output_type": "stream",
          "name": "stdout",
          "text": [
            "\n",
            "      Epoch    GPU_mem   box_loss   cls_loss   dfl_loss  Instances       Size\n"
          ]
        },
        {
          "output_type": "stream",
          "name": "stderr",
          "text": [
            "      49/60      8.89G      1.228      2.003      1.096        179        800: 100%|██████████| 79/79 [00:22<00:00,  3.57it/s]\n",
            "                 Class     Images  Instances      Box(P          R      mAP50  mAP50-95): 100%|██████████| 3/3 [00:00<00:00,  5.48it/s]"
          ]
        },
        {
          "output_type": "stream",
          "name": "stdout",
          "text": [
            "                   all         47        387      0.629      0.655       0.66      0.362\n"
          ]
        },
        {
          "output_type": "stream",
          "name": "stderr",
          "text": [
            "\n"
          ]
        },
        {
          "output_type": "stream",
          "name": "stdout",
          "text": [
            "\n",
            "      Epoch    GPU_mem   box_loss   cls_loss   dfl_loss  Instances       Size\n"
          ]
        },
        {
          "output_type": "stream",
          "name": "stderr",
          "text": [
            "      50/60      8.89G      1.213      2.016      1.113         91        800: 100%|██████████| 79/79 [00:21<00:00,  3.64it/s]\n",
            "                 Class     Images  Instances      Box(P          R      mAP50  mAP50-95): 100%|██████████| 3/3 [00:00<00:00,  6.48it/s]"
          ]
        },
        {
          "output_type": "stream",
          "name": "stdout",
          "text": [
            "                   all         47        387      0.589      0.657      0.656      0.359\n"
          ]
        },
        {
          "output_type": "stream",
          "name": "stderr",
          "text": [
            "\n"
          ]
        },
        {
          "output_type": "stream",
          "name": "stdout",
          "text": [
            "Closing dataloader mosaic\n",
            "\u001b[34m\u001b[1malbumentations: \u001b[0mBlur(p=0.01, blur_limit=(3, 7)), MedianBlur(p=0.01, blur_limit=(3, 7)), ToGray(p=0.01, method='weighted_average', num_output_channels=3), CLAHE(p=0.01, clip_limit=(1.0, 4.0), tile_grid_size=(8, 8))\n",
            "\n",
            "      Epoch    GPU_mem   box_loss   cls_loss   dfl_loss  Instances       Size\n"
          ]
        },
        {
          "output_type": "stream",
          "name": "stderr",
          "text": [
            "      51/60      8.89G      1.187      1.961      1.103         29        800: 100%|██████████| 79/79 [00:20<00:00,  3.85it/s]\n",
            "                 Class     Images  Instances      Box(P          R      mAP50  mAP50-95): 100%|██████████| 3/3 [00:00<00:00,  3.34it/s]"
          ]
        },
        {
          "output_type": "stream",
          "name": "stdout",
          "text": [
            "                   all         47        387      0.596      0.645      0.641      0.349\n"
          ]
        },
        {
          "output_type": "stream",
          "name": "stderr",
          "text": [
            "\n"
          ]
        },
        {
          "output_type": "stream",
          "name": "stdout",
          "text": [
            "\n",
            "      Epoch    GPU_mem   box_loss   cls_loss   dfl_loss  Instances       Size\n"
          ]
        },
        {
          "output_type": "stream",
          "name": "stderr",
          "text": [
            "      52/60      8.89G       1.15      1.928      1.103         14        800: 100%|██████████| 79/79 [00:19<00:00,  4.08it/s]\n",
            "                 Class     Images  Instances      Box(P          R      mAP50  mAP50-95): 100%|██████████| 3/3 [00:00<00:00,  6.56it/s]"
          ]
        },
        {
          "output_type": "stream",
          "name": "stdout",
          "text": [
            "                   all         47        387      0.607      0.633      0.657      0.363\n"
          ]
        },
        {
          "output_type": "stream",
          "name": "stderr",
          "text": [
            "\n"
          ]
        },
        {
          "output_type": "stream",
          "name": "stdout",
          "text": [
            "\n",
            "      Epoch    GPU_mem   box_loss   cls_loss   dfl_loss  Instances       Size\n"
          ]
        },
        {
          "output_type": "stream",
          "name": "stderr",
          "text": [
            "      53/60      8.89G      1.182      1.917      1.104         68        800: 100%|██████████| 79/79 [00:18<00:00,  4.18it/s]\n",
            "                 Class     Images  Instances      Box(P          R      mAP50  mAP50-95): 100%|██████████| 3/3 [00:00<00:00,  4.39it/s]"
          ]
        },
        {
          "output_type": "stream",
          "name": "stdout",
          "text": [
            "                   all         47        387      0.609      0.647      0.655      0.359\n"
          ]
        },
        {
          "output_type": "stream",
          "name": "stderr",
          "text": [
            "\n"
          ]
        },
        {
          "output_type": "stream",
          "name": "stdout",
          "text": [
            "\n",
            "      Epoch    GPU_mem   box_loss   cls_loss   dfl_loss  Instances       Size\n"
          ]
        },
        {
          "output_type": "stream",
          "name": "stderr",
          "text": [
            "      54/60      8.89G       1.17      1.964      1.119         33        800: 100%|██████████| 79/79 [00:19<00:00,  4.02it/s]\n",
            "                 Class     Images  Instances      Box(P          R      mAP50  mAP50-95): 100%|██████████| 3/3 [00:00<00:00,  7.00it/s]"
          ]
        },
        {
          "output_type": "stream",
          "name": "stdout",
          "text": [
            "                   all         47        387      0.611      0.638      0.661      0.367\n"
          ]
        },
        {
          "output_type": "stream",
          "name": "stderr",
          "text": [
            "\n"
          ]
        },
        {
          "output_type": "stream",
          "name": "stdout",
          "text": [
            "\n",
            "      Epoch    GPU_mem   box_loss   cls_loss   dfl_loss  Instances       Size\n"
          ]
        },
        {
          "output_type": "stream",
          "name": "stderr",
          "text": [
            "      55/60      8.89G      1.174      1.876      1.109        291        800: 100%|██████████| 79/79 [00:18<00:00,  4.20it/s]\n",
            "                 Class     Images  Instances      Box(P          R      mAP50  mAP50-95): 100%|██████████| 3/3 [00:00<00:00,  6.46it/s]"
          ]
        },
        {
          "output_type": "stream",
          "name": "stdout",
          "text": [
            "                   all         47        387      0.621      0.654      0.661      0.366\n"
          ]
        },
        {
          "output_type": "stream",
          "name": "stderr",
          "text": [
            "\n"
          ]
        },
        {
          "output_type": "stream",
          "name": "stdout",
          "text": [
            "\n",
            "      Epoch    GPU_mem   box_loss   cls_loss   dfl_loss  Instances       Size\n"
          ]
        },
        {
          "output_type": "stream",
          "name": "stderr",
          "text": [
            "      56/60      8.89G       1.17      1.877      1.095        144        800: 100%|██████████| 79/79 [00:20<00:00,  3.82it/s]\n",
            "                 Class     Images  Instances      Box(P          R      mAP50  mAP50-95): 100%|██████████| 3/3 [00:00<00:00,  6.64it/s]"
          ]
        },
        {
          "output_type": "stream",
          "name": "stdout",
          "text": [
            "                   all         47        387      0.612      0.649      0.667      0.367\n"
          ]
        },
        {
          "output_type": "stream",
          "name": "stderr",
          "text": [
            "\n"
          ]
        },
        {
          "output_type": "stream",
          "name": "stdout",
          "text": [
            "\n",
            "      Epoch    GPU_mem   box_loss   cls_loss   dfl_loss  Instances       Size\n"
          ]
        },
        {
          "output_type": "stream",
          "name": "stderr",
          "text": [
            "      57/60      8.89G      1.161      1.901       1.11         28        800: 100%|██████████| 79/79 [00:18<00:00,  4.16it/s]\n",
            "                 Class     Images  Instances      Box(P          R      mAP50  mAP50-95): 100%|██████████| 3/3 [00:00<00:00,  5.86it/s]"
          ]
        },
        {
          "output_type": "stream",
          "name": "stdout",
          "text": [
            "                   all         47        387      0.619      0.654      0.665      0.367\n"
          ]
        },
        {
          "output_type": "stream",
          "name": "stderr",
          "text": [
            "\n"
          ]
        },
        {
          "output_type": "stream",
          "name": "stdout",
          "text": [
            "\n",
            "      Epoch    GPU_mem   box_loss   cls_loss   dfl_loss  Instances       Size\n"
          ]
        },
        {
          "output_type": "stream",
          "name": "stderr",
          "text": [
            "      58/60      8.89G      1.183      1.909      1.098         84        800: 100%|██████████| 79/79 [00:20<00:00,  3.89it/s]\n",
            "                 Class     Images  Instances      Box(P          R      mAP50  mAP50-95): 100%|██████████| 3/3 [00:00<00:00,  6.45it/s]"
          ]
        },
        {
          "output_type": "stream",
          "name": "stdout",
          "text": [
            "                   all         47        387      0.619      0.649      0.659      0.364\n"
          ]
        },
        {
          "output_type": "stream",
          "name": "stderr",
          "text": [
            "\n"
          ]
        },
        {
          "output_type": "stream",
          "name": "stdout",
          "text": [
            "\n",
            "      Epoch    GPU_mem   box_loss   cls_loss   dfl_loss  Instances       Size\n"
          ]
        },
        {
          "output_type": "stream",
          "name": "stderr",
          "text": [
            "      59/60      8.89G      1.166      1.865      1.094         29        800: 100%|██████████| 79/79 [00:20<00:00,  3.88it/s]\n",
            "                 Class     Images  Instances      Box(P          R      mAP50  mAP50-95): 100%|██████████| 3/3 [00:00<00:00,  7.11it/s]"
          ]
        },
        {
          "output_type": "stream",
          "name": "stdout",
          "text": [
            "                   all         47        387      0.623      0.641      0.657      0.363\n"
          ]
        },
        {
          "output_type": "stream",
          "name": "stderr",
          "text": [
            "\n"
          ]
        },
        {
          "output_type": "stream",
          "name": "stdout",
          "text": [
            "\n",
            "      Epoch    GPU_mem   box_loss   cls_loss   dfl_loss  Instances       Size\n"
          ]
        },
        {
          "output_type": "stream",
          "name": "stderr",
          "text": [
            "      60/60      8.89G      1.165      1.878      1.101         23        800: 100%|██████████| 79/79 [00:20<00:00,  3.87it/s]\n",
            "                 Class     Images  Instances      Box(P          R      mAP50  mAP50-95): 100%|██████████| 3/3 [00:00<00:00,  4.52it/s]"
          ]
        },
        {
          "output_type": "stream",
          "name": "stdout",
          "text": [
            "                   all         47        387      0.611       0.65      0.654       0.36\n"
          ]
        },
        {
          "output_type": "stream",
          "name": "stderr",
          "text": [
            "\n"
          ]
        },
        {
          "output_type": "stream",
          "name": "stdout",
          "text": [
            "\n",
            "60 epochs completed in 0.368 hours.\n",
            "Optimizer stripped from runs/yolov11_bees_ants_finetuned/weights/last.pt, 5.5MB\n",
            "Optimizer stripped from runs/yolov11_bees_ants_finetuned/weights/best.pt, 5.5MB\n",
            "\n",
            "Validating runs/yolov11_bees_ants_finetuned/weights/best.pt...\n",
            "Ultralytics 8.3.89 🚀 Python-3.11.13 torch-2.6.0+cu124 CUDA:0 (Tesla T4, 15095MiB)\n",
            "YOLO11n summary (fused): 100 layers, 2,582,542 parameters, 0 gradients, 6.3 GFLOPs\n"
          ]
        },
        {
          "output_type": "stream",
          "name": "stderr",
          "text": [
            "                 Class     Images  Instances      Box(P          R      mAP50  mAP50-95): 100%|██████████| 3/3 [00:01<00:00,  1.62it/s]\n"
          ]
        },
        {
          "output_type": "stream",
          "name": "stdout",
          "text": [
            "                   all         47        387      0.578      0.635      0.637      0.354\n",
            "                   bee         16        203      0.554      0.813      0.748      0.445\n",
            "                   ant         31        184      0.601      0.457      0.526      0.262\n",
            "Speed: 0.2ms preprocess, 23.2ms inference, 0.0ms loss, 5.0ms postprocess per image\n",
            "Results saved to \u001b[1mruns/yolov11_bees_ants_finetuned\u001b[0m\n"
          ]
        }
      ]
    },
    {
      "cell_type": "markdown",
      "source": [
        "# YOLOv11 Training Parameters\n",
        "https://docs.ultralytics.com/modes/train/#train-settings\n",
        "<br>\n",
        "https://www.ultralytics.com/glossary/data-augmentation\n",
        "\n",
        "\n",
        "# YOLOv11 Training Parameters with Practical Guidelines\n",
        "\n",
        "| Argument | Type | Default | Description | Practical Guideline |\n",
        "|----------|------|---------|-------------|---------------------|\n",
        "| `model` | str | None | Specifies the model file for training. Accepts a path to either a .pt pretrained model or a .yaml configuration file. | For most tasks, use a pretrained YOLOv11 model (e.g., 'yolov11n.pt') for transfer learning rather than training from scratch. |\n",
        "| `data` | str | None | Path to the dataset configuration file (e.g., coco8.yaml) containing dataset-specific parameters. | Create a custom YAML file with your dataset paths and class names; follow the COCO format for best compatibility. |\n",
        "| `epochs` | int | 100 | Total number of training epochs, each representing a full pass over the dataset. | Use 50-100 for transfer learning; 100-300 for training from scratch; monitor validation metrics to avoid overfitting. |\n",
        "| `time` | float | None | Maximum training time in hours, overriding the epochs argument. | Useful for time-boxed experiments; set to 24-48 hours for complex datasets when exact epoch count is less important than time constraints. |\n",
        "| `patience` | int | 100 | Number of epochs to wait without improvement before early stopping. | Set to 20-50 for most tasks; lower (10-15) for quick experiments; higher (50-100) for complex datasets with slow convergence. |\n",
        "| `batch` | int | 16 | Batch size for training (integer value, -1 for auto-sizing, or fraction for GPU utilization). | Use largest value that fits in memory; 8-16 for 8GB GPU; 32-64 for 24GB+ GPUs; smaller batches (4-8) can improve generalization. |\n",
        "| `imgsz` | int or list | 640 | Target image size for training, affecting model accuracy and speed. | Use 640-1280 for general detection; larger (1280+) for small objects; smaller (416-512) for speed-critical applications. |\n",
        "| `save` | bool | True | Enables saving of training checkpoints and final model weights. | Always keep True unless running purely experimental tests where saving is unnecessary. |\n",
        "| `save_period` | int | -1 | Frequency of saving model checkpoints in epochs. | Set to 10-20 for long trainings to capture model evolution; lower (5) for critical/expensive trainings. |\n",
        "| `cache` | bool | False | Enables caching of dataset images (True/ram, disk, or False). | Use 'disk' for large datasets; True/ram for small datasets (<5GB) with sufficient RAM; False for most typical cases. |\n",
        "| `device` | int or str or list | None | Specifies computational device(s) for training. | For single GPU use '0'; multi-GPU use [0,1,2]; CPU-only use 'cpu'; use 'mps' for Apple Silicon. |\n",
        "| `workers` | int | 8 | Number of worker threads for data loading per GPU. | Set to CPU core count minus 2; reduce to 0-4 if experiencing memory issues; increase to 12-16 for high-speed storage systems. |\n",
        "| `project` | str | None | Name of the project directory for saving training outputs. | Use descriptive names for specific tasks (\"traffic-detection\", \"crack-segmentation\") to organize different research directions. |\n",
        "| `name` | str | None | Name of the training run, creating a subdirectory within the project folder. | Use versioned names (\"v1\", \"small-batch\", \"high-lr\") that describe the specific training configuration for easy comparison. |\n",
        "| `exist_ok` | bool | False | Allows overwriting of an existing project/name directory. | Set True during active development; False for production to prevent accidental overwriting of important results. |\n",
        "| `pretrained` | bool or str | True | Determines whether to start training from a pretrained model. | Use True for most cases; False only when training on very specialized data unlike any pretraining dataset. |\n",
        "| `optimizer` | str | 'auto' | Choice of optimizer for training. | Use 'SGD' for best generalization; 'Adam' for faster convergence; 'auto' works well for standard cases. |\n",
        "| `seed` | int | 0 | Sets the random seed for training reproducibility. | Change only when comparing different architectures to ensure fair comparison with identical initialization. |\n",
        "| `deterministic` | bool | True | Forces deterministic algorithm use, ensuring reproducibility. | Keep True for research and benchmarking; can set False for slight speed improvements in production training. |\n",
        "| `single_cls` | bool | False | Treats all classes as a single class during training. | Set True only for presence/absence detection problems; False for all multi-class detection tasks. |\n",
        "| `classes` | list[int] | None | Specifies class IDs to train on. | Use to focus on specific classes in a larger dataset; helpful for transfer learning on a subset of original classes. |\n",
        "| `rect` | bool | False | Enables rectangular training, optimizing batch composition. | Set True for inference speed optimization; keep False during main training for better data augmentation. |\n",
        "| `multi_scale` | bool | False | Enables multi-scale training by varying image size during training. | Enable for models that need robust multi-scale detection (traffic, aerial); unnecessary for fixed-distance applications. |\n",
        "| `cos_lr` | bool | False | Utilizes a cosine learning rate scheduler. | Set True for most trainings; provides smoother LR decay and often better final convergence than step-based schedules. |\n",
        "| `close_mosaic` | int | 10 | Disables mosaic augmentation in the last N epochs. | Set to 5-10% of total epochs; critical for stabilizing final training phase and improving precision. |\n",
        "| `resume` | bool | False | Resumes training from the last saved checkpoint. | Use when training was interrupted; ensures consistent continuation of optimization process. |\n",
        "| `amp` | bool | True | Enables Automatic Mixed Precision training. | Keep True on modern GPUs for memory savings and speed; set False only if experiencing numerical stability issues. |\n",
        "| `fraction` | float | 1.0 | Fraction of the dataset to use for training. | Use 0.1-0.2 for quick experiments; 0.5 for prototype development; 1.0 for final training. |\n",
        "| `profile` | bool | False | Enables ONNX and TensorRT speed profiling. | Enable only when planning to deploy with these frameworks to identify potential optimization bottlenecks. |\n",
        "| `freeze` | int or list | None | Freezes the first N layers or specified layer indices. | Freeze 0-10 backbone layers when fine-tuning; more layers (10-15) for very similar datasets to the pretrained one. |\n",
        "| `lr0` | float | 0.01 | Initial learning rate. | Use 0.01 for SGD with new models; 0.001-0.005 for fine-tuning; 0.0001-0.0005 for delicate final tuning. |\n",
        "| `lrf` | float | 0.01 | Final learning rate as a fraction of initial rate. | Set 0.01-0.1 for typical training; lower (0.001-0.01) for longer trainings for smoother decay. |\n",
        "| `momentum` | float | 0.937 | Momentum factor for SGD or beta1 for Adam. | Keep at 0.9-0.95 for most cases; lower (0.8-0.9) for noisy data; higher (0.95-0.99) for stable, well-behaved loss landscapes. |\n",
        "| `weight_decay` | float | 0.0005 | L2 regularization factor, penalizing large weights. | Use 0.0005-0.001 for most cases; increase to 0.001-0.005 for small datasets prone to overfitting. |\n",
        "| `warmup_epochs` | float | 3.0 | Number of epochs for learning rate warmup. | Set to 3-5 for stable training start; higher (5-10) for very large batch sizes or high learning rates. |\n",
        "| `warmup_momentum` | float | 0.8 | Initial momentum for warmup phase. | Keep at default 0.8 for most cases; rarely needs adjustment. |\n",
        "| `warmup_bias_lr` | float | 0.1 | Learning rate for bias parameters during warmup. | Keep at default 0.1; higher values (0.2-0.5) can sometimes improve initial detection of rare classes. |\n",
        "| `box` | float | 7.5 | Weight of the box loss component in the loss function. | Use 5.0-7.5 for accurate localization; higher (8.0-10.0) when precise boundaries are critical; lower (3.0-5.0) to prioritize recall. |\n",
        "| `cls` | float | 0.5 | Weight of the classification loss in the total loss function. | Increase to 1.0-2.0 to improve classification accuracy; decrease to 0.3-0.5 when localization is more important than classification. |\n",
        "| `dfl` | float | 1.5 | Weight of the distribution focal loss. | Keep at default 1.5 for most cases; increase to 2.0-3.0 for highly overlapping objects requiring precise distribution. |\n",
        "| `pose` | float | 12.0 | Weight of the pose loss in models trained for pose estimation. | Only relevant for pose models; increase to 15.0-20.0 for applications requiring very precise keypoint localization. |\n",
        "| `kobj` | float | 2.0 | Weight of the keypoint objectness loss in pose estimation. | Only for pose models; balance with pose parameter (typically 1:5 to 1:8 ratio) depending on application needs. |\n",
        "| `nbs` | int | 64 | Nominal batch size for normalization of loss. | Rarely needs changing; adjust only if experiencing unstable gradients with very large or small batch sizes. |\n",
        "| `overlap_mask` | bool | True | Determines mask merging strategy for overlapping objects. | Keep True for most segmentation tasks; set False only for specialized cases with transparent overlapping objects. |\n",
        "| `mask_ratio` | int | 4 | Downsample ratio for segmentation masks. | Use 4 for balance of speed and accuracy; lower (2) for fine detail preservation; higher (8) for speed on large masks. |\n",
        "| `dropout` | float | 0.0 | Dropout rate for regularization in classification. | Set to 0.1-0.3 for classifiers prone to overfitting; keep at 0.0 for most detection tasks unless overfitting is observed. |\n",
        "| `val` | bool | True | Enables validation during training. | Always keep True to monitor training progress; False only in rare cases where validation would be redundant. |\n",
        "| `plots` | bool | False | Generates and saves plots of training metrics and examples. | Enable for visualizing training progress and model performance; especially useful for debugging or tuning hyperparameters. |\n",
        "\n",
        "# YOLO Augmentation Parameters with Practical Guidelines\n",
        "\n",
        "| Argument | Type | Default | Range | Description | Practical Guideline |\n",
        "|----------|------|---------|-------|-------------|---------------------|\n",
        "| `hsv_h` | float | 0.015 | 0.0 - 1.0 | Adjusts the hue of the image by a fraction of the color wheel, introducing color variability. Helps the model generalize across different lighting conditions. | Keep values small (0.015-0.05) for realistic colors; use higher values (0.1-0.2) only when color variation is critical for detection. |\n",
        "| `hsv_s` | float | 0.7 | 0.0 - 1.0 | Alters the saturation of the image by a fraction, affecting the intensity of colors. Useful for simulating different environmental conditions. | Use higher values (0.5-0.7) for outdoor datasets with varying lighting conditions; lower (0.2-0.4) for controlled indoor environments. |\n",
        "| `hsv_v` | float | 0.4 | 0.0 - 1.0 | Modifies the value (brightness) of the image by a fraction, helping the model to perform well under various lighting conditions. | Set to 0.3-0.5 for datasets with mixed lighting; increase to 0.6-0.8 for night/low-light detection scenarios. |\n",
        "| `degrees` | float | 0.0 | 0.0 - 180 | Rotates the image randomly within the specified degree range, improving the model's ability to recognize objects at various orientations. | Use 0-10° for objects with directional properties (road markings, text); 10-30° for orientation-independent objects (people, animals); avoid for horizon-aligned scenes. |\n",
        "| `translate` | float | 0.1 | 0.0 - 1.0 | Translates the image horizontally and vertically by a fraction of the image size, aiding in learning to detect partially visible objects. | Set to 0.1-0.2 for centered objects; increase to 0.3-0.5 for objects that appear at image edges or are partially visible. |\n",
        "| `scale` | float | 0.5 | >=0.0 | Scales the image by a gain factor, simulating objects at different distances from the camera. | Use 0.4-0.6 for general detection tasks; higher (0.7-0.9) when object size varies significantly in your dataset. |\n",
        "| `shear` | float | 0.0 | -180 - +180 | Shears the image by a specified degree, mimicking the effect of objects being viewed from different angles. | Keep low (1.0-3.0) for most tasks; increase to 5.0-10.0 for datasets with varied camera angles; use cautiously as it can distort object shapes. |\n",
        "| `perspective` | float | 0.0 | 0.0 - 0.001 | Applies a random perspective transformation to the image, enhancing the model's ability to understand objects in 3D space. | Use very small values (0.0001-0.0005) to maintain realistic object appearances; higher values distort objects excessively. |\n",
        "| `flipud` | float | 0.0 | 0.0 - 1.0 | Flips the image upside down with the specified probability, increasing the data variability without affecting the object's characteristics. | Generally keep at 0.0; only use (0.3-0.5) for orientation-invariant objects like aerial imagery or symmetric objects. |\n",
        "| `fliplr` | float | 0.5 | 0.0 - 1.0 | Flips the image left to right with the specified probability, useful for learning symmetrical objects and increasing dataset diversity. | Set to 0.5 for most datasets; reduce to 0.0 for directional objects (text, arrows); essential for doubling effective dataset size. |\n",
        "| `bgr` | float | 0.0 | 0.0 - 1.0 | Flips the image channels from RGB to BGR with the specified probability, useful for increasing robustness to incorrect channel ordering. | Usually keep at 0.0; set to 0.1-0.3 only when developing models that might be deployed across different image processing pipelines. |\n",
        "| `mosaic` | float | 1.0 | 0.0 - 1.0 | Combines four training images into one, simulating different scene compositions and object interactions. | Set to 0.7-0.9 for small object detection tasks; reduce to 0.5-0.6 for datasets with thin or fine features (cracks, wires); disable (0.0) in the final few epochs. |\n",
        "| `mixup` | float | 0.0 | 0.0 - 1.0 | Blends two images and their labels, creating a composite image. Enhances the model's ability to generalize by introducing label noise and visual variability. | Use 0.1-0.2 for small datasets; 0.3-0.4 for complex scenes; avoid or keep very low (0.05) for fine-detail detection tasks. |\n",
        "| `cutmix` | float | 0.0 | 0.0 - 1.0 | Combines portions of two images, creating a partial blend while maintaining distinct regions. | Set to 0.2-0.3 for classification tasks; lower (0.1) for detection of small objects; higher (0.4-0.5) for robust multi-class detection. |\n",
        "| `copy_paste` | float | 0.0 | 0.0 - 1.0 | *Segmentation only*. Copies and pastes objects across images to increase object instances. | Use 0.2-0.4 for rare classes with few samples; increase to 0.5-0.7 for extreme class imbalance; critical for improving recall of uncommon objects. |\n",
        "| `copy_paste_mode` | str | flip | - | *Segmentation only*. Specifies the `copy-paste` strategy to use. Options include `'flip'` and `'mixup'`. | Use 'flip' for most segmentation tasks; try 'mixup' when diversity in object appearance is more important than position. |\n",
        "| `auto_augment` | str | randaugment | - | *Classification only*. Applies a predefined augmentation policy to enhance model performance through visual diversity. | 'randaugment' works well for general tasks; try 'autoaugment' for known datasets (CIFAR, ImageNet); 'augmix' for highest robustness to distribution shifts. |\n",
        "| `erasing` | float | 0.4 | 0.0 - 0.9 | *Classification only*. Randomly erases regions of the image during training to encourage the model to focus on less obvious features. | Set to 0.3-0.5 for general classification; increase to 0.6-0.8 for objects with distinctive parts that should not be relied on exclusively. |\n",
        "\n",
        "## Recommended Parameters\n",
        "\n",
        "### For General Object Detection\n",
        "- `mosaic=0.8` - Strong but not overwhelming mosaic augmentation\n",
        "- `mixup=0.1` - Light blending to maintain feature clarity\n",
        "- `degrees=10.0` - Moderate rotation for orientation robustness\n",
        "- `fliplr=0.5` - Standard horizontal flipping\n",
        "- `translate=0.1` - Slight position variation\n",
        "- `scale=0.5` - Balanced size variation\n",
        "- `pretrained=True` - Use transfer learning from COCO dataset\n",
        "- `batch=16` (or highest that fits on GPU)\n",
        "- `imgsz=640`\n",
        "- `epochs=100`\n",
        "- `patience=50`\n",
        "- `lr0=0.002`, `lrf=0.01`\n",
        "- `cos_lr=True`\n",
        "- `close_mosaic=10`\n",
        "\n",
        "### For Small Object Detection (e.g., defects, cracks)\n",
        "- `mosaic=0.6` - Lower mosaic to prevent tiny objects from disappearing\n",
        "- `mixup=0.05` - Very light blending to preserve small features\n",
        "- `degrees=5.0` - Minimal rotation\n",
        "- `scale=0.6` - Emphasize varying sizes\n",
        "- `hsv_v=0.5` - Enhanced brightness variation\n",
        "- `copy_paste=0.3` - Increase instances of rare defects\n",
        "- `imgsz=1280` (larger input size)\n",
        "- `batch=8` (accommodate larger images)\n",
        "- `box=10.0` (emphasize localization accuracy)\n",
        "- `iou=0.35` (more lenient matching criteria)\n",
        "- `epochs=150` (longer training)\n",
        "- `close_mosaic=15` (more stabilization epochs)\n",
        "\n",
        "### For Robust Real-World Deployment\n",
        "- `hsv_h=0.02, hsv_s=0.7, hsv_v=0.4` - Comprehensive color variation\n",
        "- `mosaic=0.7` - Balanced mosaic augmentation\n",
        "- `mixup=0.2` - Moderate blending for robustness\n",
        "- `translate=0.2` - Increased position variation\n",
        "- `perspective=0.0003` - Slight perspective change\n",
        "- `degrees=15.0` - Stronger rotation for viewpoint invariance\n",
        "- Final training phase after main training:\n",
        "  - `lr0=0.0001` (very low learning rate)\n",
        "  - `epochs=20` (short fine-tuning)\n",
        "  - `rect=True` (rectangular inference optimization)\n",
        "  - `multi_scale=True` (robust to different image sizes)\n",
        "  - `batch=4` (smallest stable batch size for best generalization)\n",
        "\n",
        "### For Limited Dataset Training\n",
        "- `mosaic=0.9` - Heavy mosaic to maximize data combination\n",
        "- `mixup=0.2` - Moderate blending for artificial diversity\n",
        "- `cutmix=0.2` - Additional variation technique\n",
        "- `copy_paste=0.4` - Replicate scarce objects\n",
        "- `fliplr=0.5, scale=0.7` - Maximize effective data variation"
      ],
      "metadata": {
        "id": "R1a-FMpCQ4hf"
      }
    },
    {
      "cell_type": "code",
      "source": [],
      "metadata": {
        "id": "CFe25pe-Xi3O"
      },
      "execution_count": null,
      "outputs": []
    }
  ]
}